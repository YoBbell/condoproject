{
 "cells": [
  {
   "cell_type": "code",
   "execution_count": 46,
   "metadata": {},
   "outputs": [
    {
     "name": "stdout",
     "output_type": "stream",
     "text": [
      "pandas version = 1.5.2\n",
      "2023-04-15 00:04:27.446406\n"
     ]
    }
   ],
   "source": [
    "import pandas as pd\n",
    "import numpy as np\n",
    "import matplotlib.pyplot as plt\n",
    "import matplotlib.ticker as ticker\n",
    "import ipywidgets as widget\n",
    "# import missingno as msno\n",
    "import seaborn as sns\n",
    "import plotly.express as px\n",
    "import plotly.graph_objs as go\n",
    "from plotly.subplots import make_subplots\n",
    "from ipywidgets import interact\n",
    "plt.rcParams['font.family'] = 'Tahoma'\n",
    "# from termcolor import colored\n",
    "\n",
    "pd.options.display.max_columns = None\n",
    "print(f'pandas version = {pd.__version__}')\n",
    "print(pd.Timestamp.now())\n",
    "\n",
    "%matplotlib inline\n",
    "%config InlineBackend.figure_format = 'retina'"
   ]
  },
  {
   "cell_type": "code",
   "execution_count": 47,
   "metadata": {},
   "outputs": [],
   "source": [
    "df = pd.read_csv('condo.csv')"
   ]
  },
  {
   "cell_type": "code",
   "execution_count": 48,
   "metadata": {},
   "outputs": [
    {
     "data": {
      "text/html": [
       "<div>\n",
       "<style scoped>\n",
       "    .dataframe tbody tr th:only-of-type {\n",
       "        vertical-align: middle;\n",
       "    }\n",
       "\n",
       "    .dataframe tbody tr th {\n",
       "        vertical-align: top;\n",
       "    }\n",
       "\n",
       "    .dataframe thead th {\n",
       "        text-align: right;\n",
       "    }\n",
       "</style>\n",
       "<table border=\"1\" class=\"dataframe\">\n",
       "  <thead>\n",
       "    <tr style=\"text-align: right;\">\n",
       "      <th></th>\n",
       "      <th>name</th>\n",
       "      <th>post-by</th>\n",
       "      <th>constructed-yr</th>\n",
       "      <th>new</th>\n",
       "      <th>price</th>\n",
       "      <th>space</th>\n",
       "      <th>room</th>\n",
       "      <th>range-from-bts</th>\n",
       "    </tr>\n",
       "  </thead>\n",
       "  <tbody>\n",
       "    <tr>\n",
       "      <th>0</th>\n",
       "      <td>Happy Condo Ratchada 18, กรุงเทพ- ​ซอยรัชดา 18 ถนนประชาราษฎร์บำเพ็ญ แขวงสามเสนนอก เขตห้วยขวาง กรุงเทพมหานคร, สามเสนนอก, ห้วยขวาง, กรุงเทพ</td>\n",
       "      <td>ลงประกาศโดย คนึง นพพรพิทักษ์</td>\n",
       "      <td>&lt;span&gt;ปีที่สร้างเสร็จ: 2015&lt;/span&gt;</td>\n",
       "      <td>NaN</td>\n",
       "      <td>1,450,000</td>\n",
       "      <td>29 ตร.ม.</td>\n",
       "      <td>&lt;li class=\"listing-rooms pull-left\"&gt;&lt;span class=\"bed\" title=\"1 ห้องนอน\"&gt;1 &lt;i class=\"pg-icon pgicon-bedroom\"&gt;&lt;/i&gt;&lt;/span&gt; &lt;span class=\"bath\" title=\"1 ห้องน้ำ\"&gt;1 &lt;i class=\"pg-icon pgicon-bathroom\"&gt;&lt;/i&gt;&lt;/span&gt;&lt;/li&gt;</td>\n",
       "      <td>[]</td>\n",
       "    </tr>\n",
       "    <tr>\n",
       "      <th>1</th>\n",
       "      <td>Aspire Rama 9 : แอสปาย พระราม 9, กรุงเทพซอยพระราม 9 แยก 2 ถนนพระราม 9 แขวงห้วยขวาง เขตห้วยขวาง กรุงเทพมหานคร, ห้วยขวาง, ห้วยขวาง, กรุงเทพ</td>\n",
       "      <td>ลงประกาศโดย Jeerapon Pakutsa</td>\n",
       "      <td>&lt;span&gt;ปีที่สร้างเสร็จ: 2013&lt;/span&gt;</td>\n",
       "      <td>NaN</td>\n",
       "      <td>5,550,000</td>\n",
       "      <td>66 ตร.ม.</td>\n",
       "      <td>&lt;li class=\"listing-rooms pull-left\"&gt;&lt;span class=\"bed\" title=\"2 ห้องนอน\"&gt;2 &lt;i class=\"pg-icon pgicon-bedroom\"&gt;&lt;/i&gt;&lt;/span&gt; &lt;span class=\"bath\" title=\"2 ห้องน้ำ\"&gt;2 &lt;i class=\"pg-icon pgicon-bathroom\"&gt;&lt;/i&gt;&lt;/span&gt;&lt;/li&gt;</td>\n",
       "      <td>[[&lt;li itemscope=\"\" itemtype=\"https://schema.org/Photograph\" style=\"left: 0%;\"&gt;&lt;img alt=\"ขาย - Aspire Rama 9 : แอสปาย พระราม 9, กรุงเทพ\" itemprop=\"thumbnailUrl\" onerror=\"this.src='https://cdn2.pgimgs.com/1680685035/sf2-search/bundles/guruweblayout/img/desktop/missing/nophoto_property_400x300.png';\" src=\"https://th2-cdn.pgimgs.com/listing/10643327/UPHO.113463965.V800/Aspire-Rama-9-%E0%B9%81%E0%B8%AD%E0%B8%AA%E0%B8%9B%E0%B8%B2%E0%B8%A2-%E0%B8%9E%E0%B8%A3%E0%B8%B0%E0%B8%A3%E0%B8%B2%E0%B8%A1-9-%E0%B8%AB%E0%B9%89%E0%B8%A7%E0%B8%A2%E0%B8%82%E0%B8%A7%E0%B8%B2%E0%B8%87-Thailand.jpg\"/&gt;&lt;/li&gt;, &lt;li class=\"list-price pull-left\"&gt;&lt;span class=\"currency\"&gt;฿&lt;/span&gt;&lt;span class=\"price\"&gt;5,550,000&lt;/span&gt;&lt;span class=\"period\"&gt;&lt;/span&gt; &lt;/li&gt;, &lt;li class=\"listing-rooms pull-left\"&gt;&lt;span class=\"bed\" title=\"2 ห้องนอน\"&gt;2 &lt;i class=\"pg-icon pgicon-bedroom\"&gt;&lt;/i&gt;&lt;/span&gt; &lt;span class=\"bath\" title=\"2 ห้องน้ำ\"&gt;2 &lt;i class=\"pg-icon pgicon-bathroom\"&gt;&lt;/i&gt;&lt;/span&gt;&lt;/li&gt;, &lt;li&gt;\\n&lt;i class=\"pgicon pgicon-walk\"&gt;&lt;/i&gt; 5 นาที (390 ม.) ถึง BL20 MRT พระราม 9\\n                        &lt;/li&gt;, &lt;li class=\"\"&gt;&lt;span&gt;คอนโด&lt;/span&gt;&lt;/li&gt;]]</td>\n",
       "    </tr>\n",
       "    <tr>\n",
       "      <th>2</th>\n",
       "      <td>Belle Grand Rama 9 : เบลล์ แกรนด์ พระราม 9, กรุงเทพ131 ถนนพระราม 9, ห้วยขวาง, ห้วยขวาง, กรุงเทพ</td>\n",
       "      <td>ลงประกาศโดย Jeerapon Pakutsa</td>\n",
       "      <td>&lt;span&gt;ปีที่สร้างเสร็จ: 2015&lt;/span&gt;</td>\n",
       "      <td>NaN</td>\n",
       "      <td>9,700,000</td>\n",
       "      <td>95 ตร.ม.</td>\n",
       "      <td>&lt;li class=\"listing-rooms pull-left\"&gt;&lt;span class=\"bed\" title=\"2 ห้องนอน\"&gt;2 &lt;i class=\"pg-icon pgicon-bedroom\"&gt;&lt;/i&gt;&lt;/span&gt; &lt;span class=\"bath\" title=\"2 ห้องน้ำ\"&gt;2 &lt;i class=\"pg-icon pgicon-bathroom\"&gt;&lt;/i&gt;&lt;/span&gt;&lt;/li&gt;</td>\n",
       "      <td>[[&lt;li itemscope=\"\" itemtype=\"https://schema.org/Photograph\" style=\"left: 0%;\"&gt;&lt;img alt=\"ขาย - Belle Grand Rama 9 : เบลล์ แกรนด์ พระราม 9, กรุงเทพ\" itemprop=\"thumbnailUrl\" onerror=\"this.src='https://cdn2.pgimgs.com/1680685035/sf2-search/bundles/guruweblayout/img/desktop/missing/nophoto_property_400x300.png';\" src=\"https://th2-cdn.pgimgs.com/listing/10643853/UPHO.113470539.V800/Belle-Grand-Rama-9-%E0%B9%80%E0%B8%9A%E0%B8%A5%E0%B8%A5%E0%B9%8C-%E0%B9%81%E0%B8%81%E0%B8%A3%E0%B8%99%E0%B8%94%E0%B9%8C-%E0%B8%9E%E0%B8%A3%E0%B8%B0%E0%B8%A3%E0%B8%B2%E0%B8%A1-9-%E0%B8%AB%E0%B9%89%E0%B8%A7%E0%B8%A2%E0%B8%82%E0%B8%A7%E0%B8%B2%E0%B8%87-Thailand.jpg\"/&gt;&lt;/li&gt;, &lt;li class=\"list-price pull-left\"&gt;&lt;span class=\"currency\"&gt;฿&lt;/span&gt;&lt;span class=\"price\"&gt;9,700,000&lt;/span&gt;&lt;span class=\"period\"&gt;&lt;/span&gt; &lt;/li&gt;, &lt;li class=\"listing-rooms pull-left\"&gt;&lt;span class=\"bed\" title=\"2 ห้องนอน\"&gt;2 &lt;i class=\"pg-icon pgicon-bedroom\"&gt;&lt;/i&gt;&lt;/span&gt; &lt;span class=\"bath\" title=\"2 ห้องน้ำ\"&gt;2 &lt;i class=\"pg-icon pgicon-bathroom\"&gt;&lt;/i&gt;&lt;/span&gt;&lt;/li&gt;, &lt;li&gt;\\n&lt;i class=\"pgicon pgicon-walk\"&gt;&lt;/i&gt; 7 นาที (540 ม.) ถึง BL20 MRT พระราม 9\\n                        &lt;/li&gt;, &lt;li class=\"\"&gt;&lt;span&gt;คอนโด&lt;/span&gt;&lt;/li&gt;]]</td>\n",
       "    </tr>\n",
       "    <tr>\n",
       "      <th>3</th>\n",
       "      <td>Royal Nine Residence Condominium ถนนพระราม 9 แขวงบางกะปิ เขตห้วยขวาง กรุงเทพมหานคร 10310, กรุงเทพพระราม 9, บางกะปิ, ห้วยขวาง, กรุงเทพ</td>\n",
       "      <td>ลงประกาศโดย วีรเมศวร์ ไพศาลพงษ์</td>\n",
       "      <td>NaN</td>\n",
       "      <td>NaN</td>\n",
       "      <td>4,690,000</td>\n",
       "      <td>110 ตร.ม.</td>\n",
       "      <td>&lt;li class=\"listing-rooms pull-left\"&gt;&lt;span class=\"bed\" title=\"3 ห้องนอน\"&gt;3 &lt;i class=\"pg-icon pgicon-bedroom\"&gt;&lt;/i&gt;&lt;/span&gt; &lt;span class=\"bath\" title=\"2 ห้องน้ำ\"&gt;2 &lt;i class=\"pg-icon pgicon-bathroom\"&gt;&lt;/i&gt;&lt;/span&gt;&lt;/li&gt;</td>\n",
       "      <td>[]</td>\n",
       "    </tr>\n",
       "    <tr>\n",
       "      <th>4</th>\n",
       "      <td>ศุภาลัย ปาร์ค เอกมัย-ทองหล่อ, กรุงเทพเพชรบุรีตัดใหม่, บางกะปิ, ห้วยขวาง, กรุงเทพ</td>\n",
       "      <td>ลงประกาศโดย Duangporn Leelalumlert (Tracy)</td>\n",
       "      <td>NaN</td>\n",
       "      <td>NaN</td>\n",
       "      <td>6,200,000</td>\n",
       "      <td>71 ตร.ม.</td>\n",
       "      <td>&lt;li class=\"listing-rooms pull-left\"&gt;&lt;span class=\"bed\" title=\"2 ห้องนอน\"&gt;2 &lt;i class=\"pg-icon pgicon-bedroom\"&gt;&lt;/i&gt;&lt;/span&gt; &lt;span class=\"bath\" title=\"1 ห้องน้ำ\"&gt;1 &lt;i class=\"pg-icon pgicon-bathroom\"&gt;&lt;/i&gt;&lt;/span&gt;&lt;/li&gt;</td>\n",
       "      <td>[]</td>\n",
       "    </tr>\n",
       "  </tbody>\n",
       "</table>\n",
       "</div>"
      ],
      "text/plain": [
       "                                                                                                                                        name  \\\n",
       "0  Happy Condo Ratchada 18, กรุงเทพ- ​ซอยรัชดา 18 ถนนประชาราษฎร์บำเพ็ญ แขวงสามเสนนอก เขตห้วยขวาง กรุงเทพมหานคร, สามเสนนอก, ห้วยขวาง, กรุงเทพ   \n",
       "1  Aspire Rama 9 : แอสปาย พระราม 9, กรุงเทพซอยพระราม 9 แยก 2 ถนนพระราม 9 แขวงห้วยขวาง เขตห้วยขวาง กรุงเทพมหานคร, ห้วยขวาง, ห้วยขวาง, กรุงเทพ   \n",
       "2                                            Belle Grand Rama 9 : เบลล์ แกรนด์ พระราม 9, กรุงเทพ131 ถนนพระราม 9, ห้วยขวาง, ห้วยขวาง, กรุงเทพ   \n",
       "3      Royal Nine Residence Condominium ถนนพระราม 9 แขวงบางกะปิ เขตห้วยขวาง กรุงเทพมหานคร 10310, กรุงเทพพระราม 9, บางกะปิ, ห้วยขวาง, กรุงเทพ   \n",
       "4                                                           ศุภาลัย ปาร์ค เอกมัย-ทองหล่อ, กรุงเทพเพชรบุรีตัดใหม่, บางกะปิ, ห้วยขวาง, กรุงเทพ   \n",
       "\n",
       "                                      post-by  \\\n",
       "0                ลงประกาศโดย คนึง นพพรพิทักษ์   \n",
       "1                ลงประกาศโดย Jeerapon Pakutsa   \n",
       "2                ลงประกาศโดย Jeerapon Pakutsa   \n",
       "3             ลงประกาศโดย วีรเมศวร์ ไพศาลพงษ์   \n",
       "4  ลงประกาศโดย Duangporn Leelalumlert (Tracy)   \n",
       "\n",
       "                       constructed-yr  new      price      space  \\\n",
       "0  <span>ปีที่สร้างเสร็จ: 2015</span>  NaN  1,450,000   29 ตร.ม.   \n",
       "1  <span>ปีที่สร้างเสร็จ: 2013</span>  NaN  5,550,000   66 ตร.ม.   \n",
       "2  <span>ปีที่สร้างเสร็จ: 2015</span>  NaN  9,700,000   95 ตร.ม.   \n",
       "3                                 NaN  NaN  4,690,000  110 ตร.ม.   \n",
       "4                                 NaN  NaN  6,200,000   71 ตร.ม.   \n",
       "\n",
       "                                                                                                                                                                                                                 room  \\\n",
       "0  <li class=\"listing-rooms pull-left\"><span class=\"bed\" title=\"1 ห้องนอน\">1 <i class=\"pg-icon pgicon-bedroom\"></i></span> <span class=\"bath\" title=\"1 ห้องน้ำ\">1 <i class=\"pg-icon pgicon-bathroom\"></i></span></li>   \n",
       "1  <li class=\"listing-rooms pull-left\"><span class=\"bed\" title=\"2 ห้องนอน\">2 <i class=\"pg-icon pgicon-bedroom\"></i></span> <span class=\"bath\" title=\"2 ห้องน้ำ\">2 <i class=\"pg-icon pgicon-bathroom\"></i></span></li>   \n",
       "2  <li class=\"listing-rooms pull-left\"><span class=\"bed\" title=\"2 ห้องนอน\">2 <i class=\"pg-icon pgicon-bedroom\"></i></span> <span class=\"bath\" title=\"2 ห้องน้ำ\">2 <i class=\"pg-icon pgicon-bathroom\"></i></span></li>   \n",
       "3  <li class=\"listing-rooms pull-left\"><span class=\"bed\" title=\"3 ห้องนอน\">3 <i class=\"pg-icon pgicon-bedroom\"></i></span> <span class=\"bath\" title=\"2 ห้องน้ำ\">2 <i class=\"pg-icon pgicon-bathroom\"></i></span></li>   \n",
       "4  <li class=\"listing-rooms pull-left\"><span class=\"bed\" title=\"2 ห้องนอน\">2 <i class=\"pg-icon pgicon-bedroom\"></i></span> <span class=\"bath\" title=\"1 ห้องน้ำ\">1 <i class=\"pg-icon pgicon-bathroom\"></i></span></li>   \n",
       "\n",
       "                                                                                                                                                                                                                                                                                                                                                                                                                                                                                                                                                                                                                                                                                                                                                                                                                                                                                                                                                                                                                                                                                                                                                                                 range-from-bts  \n",
       "0                                                                                                                                                                                                                                                                                                                                                                                                                                                                                                                                                                                                                                                                                                                                                                                                                                                                                                                                                                                                                                                                                                                                                                                            []  \n",
       "1                                                                [[<li itemscope=\"\" itemtype=\"https://schema.org/Photograph\" style=\"left: 0%;\"><img alt=\"ขาย - Aspire Rama 9 : แอสปาย พระราม 9, กรุงเทพ\" itemprop=\"thumbnailUrl\" onerror=\"this.src='https://cdn2.pgimgs.com/1680685035/sf2-search/bundles/guruweblayout/img/desktop/missing/nophoto_property_400x300.png';\" src=\"https://th2-cdn.pgimgs.com/listing/10643327/UPHO.113463965.V800/Aspire-Rama-9-%E0%B9%81%E0%B8%AD%E0%B8%AA%E0%B8%9B%E0%B8%B2%E0%B8%A2-%E0%B8%9E%E0%B8%A3%E0%B8%B0%E0%B8%A3%E0%B8%B2%E0%B8%A1-9-%E0%B8%AB%E0%B9%89%E0%B8%A7%E0%B8%A2%E0%B8%82%E0%B8%A7%E0%B8%B2%E0%B8%87-Thailand.jpg\"/></li>, <li class=\"list-price pull-left\"><span class=\"currency\">฿</span><span class=\"price\">5,550,000</span><span class=\"period\"></span> </li>, <li class=\"listing-rooms pull-left\"><span class=\"bed\" title=\"2 ห้องนอน\">2 <i class=\"pg-icon pgicon-bedroom\"></i></span> <span class=\"bath\" title=\"2 ห้องน้ำ\">2 <i class=\"pg-icon pgicon-bathroom\"></i></span></li>, <li>\\n<i class=\"pgicon pgicon-walk\"></i> 5 นาที (390 ม.) ถึง BL20 MRT พระราม 9\\n                        </li>, <li class=\"\"><span>คอนโด</span></li>]]  \n",
       "2  [[<li itemscope=\"\" itemtype=\"https://schema.org/Photograph\" style=\"left: 0%;\"><img alt=\"ขาย - Belle Grand Rama 9 : เบลล์ แกรนด์ พระราม 9, กรุงเทพ\" itemprop=\"thumbnailUrl\" onerror=\"this.src='https://cdn2.pgimgs.com/1680685035/sf2-search/bundles/guruweblayout/img/desktop/missing/nophoto_property_400x300.png';\" src=\"https://th2-cdn.pgimgs.com/listing/10643853/UPHO.113470539.V800/Belle-Grand-Rama-9-%E0%B9%80%E0%B8%9A%E0%B8%A5%E0%B8%A5%E0%B9%8C-%E0%B9%81%E0%B8%81%E0%B8%A3%E0%B8%99%E0%B8%94%E0%B9%8C-%E0%B8%9E%E0%B8%A3%E0%B8%B0%E0%B8%A3%E0%B8%B2%E0%B8%A1-9-%E0%B8%AB%E0%B9%89%E0%B8%A7%E0%B8%A2%E0%B8%82%E0%B8%A7%E0%B8%B2%E0%B8%87-Thailand.jpg\"/></li>, <li class=\"list-price pull-left\"><span class=\"currency\">฿</span><span class=\"price\">9,700,000</span><span class=\"period\"></span> </li>, <li class=\"listing-rooms pull-left\"><span class=\"bed\" title=\"2 ห้องนอน\">2 <i class=\"pg-icon pgicon-bedroom\"></i></span> <span class=\"bath\" title=\"2 ห้องน้ำ\">2 <i class=\"pg-icon pgicon-bathroom\"></i></span></li>, <li>\\n<i class=\"pgicon pgicon-walk\"></i> 7 นาที (540 ม.) ถึง BL20 MRT พระราม 9\\n                        </li>, <li class=\"\"><span>คอนโด</span></li>]]  \n",
       "3                                                                                                                                                                                                                                                                                                                                                                                                                                                                                                                                                                                                                                                                                                                                                                                                                                                                                                                                                                                                                                                                                                                                                                                            []  \n",
       "4                                                                                                                                                                                                                                                                                                                                                                                                                                                                                                                                                                                                                                                                                                                                                                                                                                                                                                                                                                                                                                                                                                                                                                                            []  "
      ]
     },
     "execution_count": 48,
     "metadata": {},
     "output_type": "execute_result"
    }
   ],
   "source": [
    "df.columns = ['name','post-by','constructed-yr','new','price','space','room','range-from-bts']\n",
    "pd.set_option('max_colwidth', None)\n",
    "df.head()"
   ]
  },
  {
   "cell_type": "code",
   "execution_count": 49,
   "metadata": {},
   "outputs": [
    {
     "name": "stdout",
     "output_type": "stream",
     "text": [
      "<class 'pandas.core.frame.DataFrame'>\n",
      "RangeIndex: 3001 entries, 0 to 3000\n",
      "Data columns (total 8 columns):\n",
      " #   Column          Non-Null Count  Dtype \n",
      "---  ------          --------------  ----- \n",
      " 0   name            3001 non-null   object\n",
      " 1   post-by         3001 non-null   object\n",
      " 2   constructed-yr  2701 non-null   object\n",
      " 3   new             66 non-null     object\n",
      " 4   price           2999 non-null   object\n",
      " 5   space           3001 non-null   object\n",
      " 6   room            2990 non-null   object\n",
      " 7   range-from-bts  3001 non-null   object\n",
      "dtypes: object(8)\n",
      "memory usage: 187.7+ KB\n"
     ]
    }
   ],
   "source": [
    "df.info()"
   ]
  },
  {
   "cell_type": "code",
   "execution_count": 50,
   "metadata": {},
   "outputs": [
    {
     "name": "stderr",
     "output_type": "stream",
     "text": [
      "/var/folders/99/kh3w07wx27nc2hb4tswk10xc0000gn/T/ipykernel_3948/193707567.py:47: UserWarning:\n",
      "\n",
      "Boolean Series key will be reindexed to match DataFrame index.\n",
      "\n"
     ]
    },
    {
     "data": {
      "text/plain": [
       "Index([          'name',        'post-by', 'constructed-yr',            'new',\n",
       "                'price',          'space',           'room', 'range-from-bts',\n",
       "              'bedroom',       'bathroom',         'studio',                0,\n",
       "                      1,                2,                3,                4],\n",
       "      dtype='object')"
      ]
     },
     "execution_count": 50,
     "metadata": {},
     "output_type": "execute_result"
    }
   ],
   "source": [
    "# Extract Number\n",
    "df['post-by'] = df['post-by'].str.replace(\"ลงประกาศโดย\",\"\").str.strip()\n",
    "df['constructed-yr'] = df['constructed-yr'].str.extract(r\"(\\d+)\")\n",
    "df['new'] = df['new'].str.extract(r\"(\\d+)\")\n",
    "df['price'] = pd.to_numeric(df['price'].str.replace(\",\",\"\"))\n",
    "df['space'] = df['space'].str.extract(r'(\\d+)')\n",
    "df['space'] = pd.to_numeric(df['space'])\n",
    "\n",
    "\n",
    "# Replace same objective column \n",
    "# Column constructed-yr and new have similar value, column new have data only 2023 yr\n",
    "df['constructed-yr'] = df['constructed-yr'].fillna(df['new'])\n",
    "\n",
    "# Categorize room column\n",
    "    # Extract wanted part\n",
    "df['room'] = df['room'].str.findall(r'title=\"(.+?)\">')\n",
    "    # Categorize function\n",
    "def split_data(row):\n",
    "    if isinstance(row, list):\n",
    "        if len(row) == 2:\n",
    "            return row[0].split()[0], row[1].split()[0], None\n",
    "        else:\n",
    "            if 'สตูดิโอ' in row[0]:\n",
    "                return None, None, row[0].split()[0]\n",
    "            else:\n",
    "                return row[0].split()[0], None, None\n",
    "    else:\n",
    "        return None, None, None\n",
    "\n",
    "    # Apply function\n",
    "df[['bedroom', 'bathroom', 'studio']] = df['room'].apply(lambda x: pd.Series(split_data(x)))\n",
    "df['studio'] = df['studio'].str.replace('สตูดิโอ','1').astype('Int64')\n",
    "# Replace Empty data that not considered as NaN\n",
    "df['range-from-bts'] = df['range-from-bts'].replace('[]',np.nan)\n",
    "df['range-from-bts'] = df['range-from-bts'].str.extract(r'\\d+ นาที \\((\\d+) ม\\.\\) ถึง .+')\n",
    "\n",
    "# Convert type to int\n",
    "for i in ['bedroom', 'bathroom', 'range-from-bts', 'constructed-yr']:\n",
    "    df[i] = df[i].astype('Int64')\n",
    "\n",
    "# Split Condo name\n",
    "df[[0,1,2,3,4,5]] = df.name.str.split(',',expand=True)\n",
    "for i in range(0,6):\n",
    "    df[i] = df[i].str.strip()\n",
    "not_null_rows = df[[5]].notnull().any(axis=1)\n",
    "df.dropna(subset=[0,1,2,3,4],inplace=True)\n",
    "df.drop(index=(df[not_null_rows]).index,inplace=True)\n",
    "df.drop([5],axis=1,inplace=True)\n",
    "df.columns"
   ]
  },
  {
   "cell_type": "code",
   "execution_count": 51,
   "metadata": {},
   "outputs": [
    {
     "data": {
      "text/html": [
       "<div>\n",
       "<style scoped>\n",
       "    .dataframe tbody tr th:only-of-type {\n",
       "        vertical-align: middle;\n",
       "    }\n",
       "\n",
       "    .dataframe tbody tr th {\n",
       "        vertical-align: top;\n",
       "    }\n",
       "\n",
       "    .dataframe thead th {\n",
       "        text-align: right;\n",
       "    }\n",
       "</style>\n",
       "<table border=\"1\" class=\"dataframe\">\n",
       "  <thead>\n",
       "    <tr style=\"text-align: right;\">\n",
       "      <th></th>\n",
       "      <th>0</th>\n",
       "      <th>1</th>\n",
       "      <th>2</th>\n",
       "      <th>3</th>\n",
       "      <th>4</th>\n",
       "      <th>price</th>\n",
       "      <th>space</th>\n",
       "      <th>bedroom</th>\n",
       "      <th>bathroom</th>\n",
       "      <th>studio</th>\n",
       "      <th>constructed-yr</th>\n",
       "      <th>range-from-bts</th>\n",
       "      <th>post-by</th>\n",
       "    </tr>\n",
       "  </thead>\n",
       "  <tbody>\n",
       "    <tr>\n",
       "      <th>0</th>\n",
       "      <td>Happy Condo Ratchada 18</td>\n",
       "      <td>กรุงเทพ- ​ซอยรัชดา 18 ถนนประชาราษฎร์บำเพ็ญ แขวงสามเสนนอก เขตห้วยขวาง กรุงเทพมหานคร</td>\n",
       "      <td>สามเสนนอก</td>\n",
       "      <td>ห้วยขวาง</td>\n",
       "      <td>กรุงเทพ</td>\n",
       "      <td>1450000.0</td>\n",
       "      <td>29</td>\n",
       "      <td>1</td>\n",
       "      <td>1</td>\n",
       "      <td>&lt;NA&gt;</td>\n",
       "      <td>2015</td>\n",
       "      <td>&lt;NA&gt;</td>\n",
       "      <td>คนึง นพพรพิทักษ์</td>\n",
       "    </tr>\n",
       "    <tr>\n",
       "      <th>1</th>\n",
       "      <td>Aspire Rama 9 : แอสปาย พระราม 9</td>\n",
       "      <td>กรุงเทพซอยพระราม 9 แยก 2 ถนนพระราม 9 แขวงห้วยขวาง เขตห้วยขวาง กรุงเทพมหานคร</td>\n",
       "      <td>ห้วยขวาง</td>\n",
       "      <td>ห้วยขวาง</td>\n",
       "      <td>กรุงเทพ</td>\n",
       "      <td>5550000.0</td>\n",
       "      <td>66</td>\n",
       "      <td>2</td>\n",
       "      <td>2</td>\n",
       "      <td>&lt;NA&gt;</td>\n",
       "      <td>2013</td>\n",
       "      <td>390</td>\n",
       "      <td>Jeerapon Pakutsa</td>\n",
       "    </tr>\n",
       "    <tr>\n",
       "      <th>2</th>\n",
       "      <td>Belle Grand Rama 9 : เบลล์ แกรนด์ พระราม 9</td>\n",
       "      <td>กรุงเทพ131 ถนนพระราม 9</td>\n",
       "      <td>ห้วยขวาง</td>\n",
       "      <td>ห้วยขวาง</td>\n",
       "      <td>กรุงเทพ</td>\n",
       "      <td>9700000.0</td>\n",
       "      <td>95</td>\n",
       "      <td>2</td>\n",
       "      <td>2</td>\n",
       "      <td>&lt;NA&gt;</td>\n",
       "      <td>2015</td>\n",
       "      <td>540</td>\n",
       "      <td>Jeerapon Pakutsa</td>\n",
       "    </tr>\n",
       "    <tr>\n",
       "      <th>3</th>\n",
       "      <td>Royal Nine Residence Condominium ถนนพระราม 9 แขวงบางกะปิ เขตห้วยขวาง กรุงเทพมหานคร 10310</td>\n",
       "      <td>กรุงเทพพระราม 9</td>\n",
       "      <td>บางกะปิ</td>\n",
       "      <td>ห้วยขวาง</td>\n",
       "      <td>กรุงเทพ</td>\n",
       "      <td>4690000.0</td>\n",
       "      <td>110</td>\n",
       "      <td>3</td>\n",
       "      <td>2</td>\n",
       "      <td>&lt;NA&gt;</td>\n",
       "      <td>&lt;NA&gt;</td>\n",
       "      <td>&lt;NA&gt;</td>\n",
       "      <td>วีรเมศวร์ ไพศาลพงษ์</td>\n",
       "    </tr>\n",
       "    <tr>\n",
       "      <th>4</th>\n",
       "      <td>ศุภาลัย ปาร์ค เอกมัย-ทองหล่อ</td>\n",
       "      <td>กรุงเทพเพชรบุรีตัดใหม่</td>\n",
       "      <td>บางกะปิ</td>\n",
       "      <td>ห้วยขวาง</td>\n",
       "      <td>กรุงเทพ</td>\n",
       "      <td>6200000.0</td>\n",
       "      <td>71</td>\n",
       "      <td>2</td>\n",
       "      <td>1</td>\n",
       "      <td>&lt;NA&gt;</td>\n",
       "      <td>&lt;NA&gt;</td>\n",
       "      <td>&lt;NA&gt;</td>\n",
       "      <td>Duangporn Leelalumlert (Tracy)</td>\n",
       "    </tr>\n",
       "    <tr>\n",
       "      <th>5</th>\n",
       "      <td>TC Green Rama 9 : ทีซี กรีน พระราม 9</td>\n",
       "      <td>กรุงเทพถนนพระราม 9</td>\n",
       "      <td>ห้วยขวาง</td>\n",
       "      <td>ห้วยขวาง</td>\n",
       "      <td>กรุงเทพ</td>\n",
       "      <td>3040000.0</td>\n",
       "      <td>39</td>\n",
       "      <td>1</td>\n",
       "      <td>1</td>\n",
       "      <td>&lt;NA&gt;</td>\n",
       "      <td>2013</td>\n",
       "      <td>&lt;NA&gt;</td>\n",
       "      <td>นัฐธีรา ศิริสินทักษ์</td>\n",
       "    </tr>\n",
       "    <tr>\n",
       "      <th>6</th>\n",
       "      <td>Ratchada City 18 : รัชดา ซิตี้ 18</td>\n",
       "      <td>กรุงเทพถนนรัชดาภิเษก ซอย 18 (ถนนประชาราษฎร์บำเพ็ญ)</td>\n",
       "      <td>สามเสนนอก</td>\n",
       "      <td>ห้วยขวาง</td>\n",
       "      <td>กรุงเทพ</td>\n",
       "      <td>1850000.0</td>\n",
       "      <td>38</td>\n",
       "      <td>1</td>\n",
       "      <td>1</td>\n",
       "      <td>&lt;NA&gt;</td>\n",
       "      <td>2009</td>\n",
       "      <td>&lt;NA&gt;</td>\n",
       "      <td>นัฐธีรา ศิริสินทักษ์</td>\n",
       "    </tr>\n",
       "    <tr>\n",
       "      <th>7</th>\n",
       "      <td>TC Green Rama 9 : ทีซี กรีน พระราม 9</td>\n",
       "      <td>กรุงเทพถนนพระราม 9</td>\n",
       "      <td>ห้วยขวาง</td>\n",
       "      <td>ห้วยขวาง</td>\n",
       "      <td>กรุงเทพ</td>\n",
       "      <td>2890000.0</td>\n",
       "      <td>39</td>\n",
       "      <td>1</td>\n",
       "      <td>1</td>\n",
       "      <td>&lt;NA&gt;</td>\n",
       "      <td>2013</td>\n",
       "      <td>&lt;NA&gt;</td>\n",
       "      <td>นัฐธีรา ศิริสินทักษ์</td>\n",
       "    </tr>\n",
       "    <tr>\n",
       "      <th>8</th>\n",
       "      <td>Regent Home 12 : รีเจ้นท์โฮม 12</td>\n",
       "      <td>กรุงเทพ41 คอนโดมิเนียม</td>\n",
       "      <td>สามเสนนอก</td>\n",
       "      <td>ห้วยขวาง</td>\n",
       "      <td>กรุงเทพ</td>\n",
       "      <td>1599000.0</td>\n",
       "      <td>32</td>\n",
       "      <td>1</td>\n",
       "      <td>1</td>\n",
       "      <td>&lt;NA&gt;</td>\n",
       "      <td>2011</td>\n",
       "      <td>&lt;NA&gt;</td>\n",
       "      <td>Krissana Property</td>\n",
       "    </tr>\n",
       "    <tr>\n",
       "      <th>10</th>\n",
       "      <td>The Niche Pride Thonglor-Phetchaburi : เดอะ นิช ไพรด์ ทองหล่อ-เพชรบุรี</td>\n",
       "      <td>กรุงเทพถนน เพชรบุรีตัดใหม่</td>\n",
       "      <td>บางกะปิ</td>\n",
       "      <td>ห้วยขวาง</td>\n",
       "      <td>กรุงเทพ</td>\n",
       "      <td>3699000.0</td>\n",
       "      <td>36</td>\n",
       "      <td>1</td>\n",
       "      <td>1</td>\n",
       "      <td>&lt;NA&gt;</td>\n",
       "      <td>2016</td>\n",
       "      <td>&lt;NA&gt;</td>\n",
       "      <td>ชัยณรงค์ ลิ้มอารีย์สุข</td>\n",
       "    </tr>\n",
       "    <tr>\n",
       "      <th>11</th>\n",
       "      <td>Ivy Ratchada : ไอวี่ รัชดา</td>\n",
       "      <td>กรุงเทพซอยรัชดาภิเษก 20 ถนนรัชดาภิเษก</td>\n",
       "      <td>สามเสนนอก</td>\n",
       "      <td>ห้วยขวาง</td>\n",
       "      <td>กรุงเทพ</td>\n",
       "      <td>2190000.0</td>\n",
       "      <td>31</td>\n",
       "      <td>&lt;NA&gt;</td>\n",
       "      <td>&lt;NA&gt;</td>\n",
       "      <td>1</td>\n",
       "      <td>2007</td>\n",
       "      <td>270</td>\n",
       "      <td>Ansord Lohmud</td>\n",
       "    </tr>\n",
       "    <tr>\n",
       "      <th>12</th>\n",
       "      <td>City Home Ratchada</td>\n",
       "      <td>กรุงเทพ- ซอยรัชดาภิเษก 10 ถนนรัชดาภิเษก</td>\n",
       "      <td>ห้วยขวาง</td>\n",
       "      <td>ห้วยขวาง</td>\n",
       "      <td>กรุงเทพ</td>\n",
       "      <td>1750000.0</td>\n",
       "      <td>30</td>\n",
       "      <td>&lt;NA&gt;</td>\n",
       "      <td>&lt;NA&gt;</td>\n",
       "      <td>1</td>\n",
       "      <td>2013</td>\n",
       "      <td>820</td>\n",
       "      <td>Number One Real Estate Co.,Ltd.</td>\n",
       "    </tr>\n",
       "    <tr>\n",
       "      <th>13</th>\n",
       "      <td>One 9 Five Asoke - Rama 9 : วัน ไนน์ ไฟว์ อโศก – พระราม 9</td>\n",
       "      <td>กรุงเทพ195 ถนนพระราม 9 ซอย 5 แขวงห้วยขวาง เขตห้วยขวาง กทม.</td>\n",
       "      <td>ห้วยขวาง</td>\n",
       "      <td>ห้วยขวาง</td>\n",
       "      <td>กรุงเทพ</td>\n",
       "      <td>12740000.0</td>\n",
       "      <td>68</td>\n",
       "      <td>2</td>\n",
       "      <td>2</td>\n",
       "      <td>&lt;NA&gt;</td>\n",
       "      <td>2022</td>\n",
       "      <td>390</td>\n",
       "      <td>Lazudi Thailand</td>\n",
       "    </tr>\n",
       "    <tr>\n",
       "      <th>14</th>\n",
       "      <td>Ratchada City 18 : รัชดา ซิตี้ 18</td>\n",
       "      <td>กรุงเทพถนนรัชดาภิเษก ซอย 18 (ถนนประชาราษฎร์บำเพ็ญ)</td>\n",
       "      <td>สามเสนนอก</td>\n",
       "      <td>ห้วยขวาง</td>\n",
       "      <td>กรุงเทพ</td>\n",
       "      <td>1390000.0</td>\n",
       "      <td>28</td>\n",
       "      <td>&lt;NA&gt;</td>\n",
       "      <td>&lt;NA&gt;</td>\n",
       "      <td>1</td>\n",
       "      <td>2009</td>\n",
       "      <td>&lt;NA&gt;</td>\n",
       "      <td>โอ๋</td>\n",
       "    </tr>\n",
       "    <tr>\n",
       "      <th>15</th>\n",
       "      <td>Ratchada City 18 : รัชดา ซิตี้ 18</td>\n",
       "      <td>กรุงเทพถนนรัชดาภิเษก ซอย 18 (ถนนประชาราษฎร์บำเพ็ญ)</td>\n",
       "      <td>สามเสนนอก</td>\n",
       "      <td>ห้วยขวาง</td>\n",
       "      <td>กรุงเทพ</td>\n",
       "      <td>1490000.0</td>\n",
       "      <td>28</td>\n",
       "      <td>&lt;NA&gt;</td>\n",
       "      <td>&lt;NA&gt;</td>\n",
       "      <td>1</td>\n",
       "      <td>2009</td>\n",
       "      <td>&lt;NA&gt;</td>\n",
       "      <td>สุวภา พิริยะโภคานนท์</td>\n",
       "    </tr>\n",
       "    <tr>\n",
       "      <th>16</th>\n",
       "      <td>รัชดา ออร์คิด คอนโดมิเนียม</td>\n",
       "      <td>กรุงเทพ- ถนนสุทธิสารวินิจฉัย แขวงห้วยขวาง เขตห้วยขวาง จังหวัดกรุงเทพมหานคร</td>\n",
       "      <td>ห้วยขวาง</td>\n",
       "      <td>ห้วยขวาง</td>\n",
       "      <td>กรุงเทพ</td>\n",
       "      <td>1390000.0</td>\n",
       "      <td>30</td>\n",
       "      <td>1</td>\n",
       "      <td>1</td>\n",
       "      <td>&lt;NA&gt;</td>\n",
       "      <td>2013</td>\n",
       "      <td>580</td>\n",
       "      <td>โอ๋</td>\n",
       "    </tr>\n",
       "    <tr>\n",
       "      <th>17</th>\n",
       "      <td>Garden Asoke-Rama 9 : การ์เดน อโศก-พระราม 9</td>\n",
       "      <td>กรุงเทพถนนจตุรทิศ</td>\n",
       "      <td>บางกะปิ</td>\n",
       "      <td>ห้วยขวาง</td>\n",
       "      <td>กรุงเทพ</td>\n",
       "      <td>2190000.0</td>\n",
       "      <td>33</td>\n",
       "      <td>1</td>\n",
       "      <td>1</td>\n",
       "      <td>&lt;NA&gt;</td>\n",
       "      <td>2010</td>\n",
       "      <td>&lt;NA&gt;</td>\n",
       "      <td>โอ๋</td>\n",
       "    </tr>\n",
       "    <tr>\n",
       "      <th>18</th>\n",
       "      <td>จอห์นนี่ ทาวเวอร์ คอนโดมิเนียม</td>\n",
       "      <td>กรุงเทพประชาอุทิศ ประชาอุทิศ</td>\n",
       "      <td>ห้วยขวาง</td>\n",
       "      <td>ห้วยขวาง</td>\n",
       "      <td>กรุงเทพ</td>\n",
       "      <td>1650000.0</td>\n",
       "      <td>35</td>\n",
       "      <td>1</td>\n",
       "      <td>1</td>\n",
       "      <td>&lt;NA&gt;</td>\n",
       "      <td>&lt;NA&gt;</td>\n",
       "      <td>680</td>\n",
       "      <td>Jay Jay Ratchamontri</td>\n",
       "    </tr>\n",
       "    <tr>\n",
       "      <th>19</th>\n",
       "      <td>Happy Condo Ratchada 18</td>\n",
       "      <td>กรุงเทพ- ​ซอยรัชดา 18 ถนนประชาราษฎร์บำเพ็ญ แขวงสามเสนนอก เขตห้วยขวาง กรุงเทพมหานคร</td>\n",
       "      <td>สามเสนนอก</td>\n",
       "      <td>ห้วยขวาง</td>\n",
       "      <td>กรุงเทพ</td>\n",
       "      <td>1500000.0</td>\n",
       "      <td>28</td>\n",
       "      <td>&lt;NA&gt;</td>\n",
       "      <td>&lt;NA&gt;</td>\n",
       "      <td>1</td>\n",
       "      <td>2015</td>\n",
       "      <td>&lt;NA&gt;</td>\n",
       "      <td>Condo4cash</td>\n",
       "    </tr>\n",
       "    <tr>\n",
       "      <th>21</th>\n",
       "      <td>Rhythm Ratchada</td>\n",
       "      <td>กรุงเทพ558 ถนนรัชดาภิเษก แขวงสามเสนนอก เขตห้วยขวาง กรุงเทพมหานคร</td>\n",
       "      <td>สามเสนนอก</td>\n",
       "      <td>ห้วยขวาง</td>\n",
       "      <td>กรุงเทพ</td>\n",
       "      <td>4500000.0</td>\n",
       "      <td>47</td>\n",
       "      <td>1</td>\n",
       "      <td>1</td>\n",
       "      <td>&lt;NA&gt;</td>\n",
       "      <td>2011</td>\n",
       "      <td>100</td>\n",
       "      <td>Pacharamont Mandy</td>\n",
       "    </tr>\n",
       "  </tbody>\n",
       "</table>\n",
       "</div>"
      ],
      "text/plain": [
       "                                                                                           0  \\\n",
       "0                                                                    Happy Condo Ratchada 18   \n",
       "1                                                            Aspire Rama 9 : แอสปาย พระราม 9   \n",
       "2                                                 Belle Grand Rama 9 : เบลล์ แกรนด์ พระราม 9   \n",
       "3   Royal Nine Residence Condominium ถนนพระราม 9 แขวงบางกะปิ เขตห้วยขวาง กรุงเทพมหานคร 10310   \n",
       "4                                                               ศุภาลัย ปาร์ค เอกมัย-ทองหล่อ   \n",
       "5                                                       TC Green Rama 9 : ทีซี กรีน พระราม 9   \n",
       "6                                                          Ratchada City 18 : รัชดา ซิตี้ 18   \n",
       "7                                                       TC Green Rama 9 : ทีซี กรีน พระราม 9   \n",
       "8                                                            Regent Home 12 : รีเจ้นท์โฮม 12   \n",
       "10                    The Niche Pride Thonglor-Phetchaburi : เดอะ นิช ไพรด์ ทองหล่อ-เพชรบุรี   \n",
       "11                                                                Ivy Ratchada : ไอวี่ รัชดา   \n",
       "12                                                                        City Home Ratchada   \n",
       "13                                 One 9 Five Asoke - Rama 9 : วัน ไนน์ ไฟว์ อโศก – พระราม 9   \n",
       "14                                                         Ratchada City 18 : รัชดา ซิตี้ 18   \n",
       "15                                                         Ratchada City 18 : รัชดา ซิตี้ 18   \n",
       "16                                                                รัชดา ออร์คิด คอนโดมิเนียม   \n",
       "17                                               Garden Asoke-Rama 9 : การ์เดน อโศก-พระราม 9   \n",
       "18                                                            จอห์นนี่ ทาวเวอร์ คอนโดมิเนียม   \n",
       "19                                                                   Happy Condo Ratchada 18   \n",
       "21                                                                           Rhythm Ratchada   \n",
       "\n",
       "                                                                                     1  \\\n",
       "0   กรุงเทพ- ​ซอยรัชดา 18 ถนนประชาราษฎร์บำเพ็ญ แขวงสามเสนนอก เขตห้วยขวาง กรุงเทพมหานคร   \n",
       "1          กรุงเทพซอยพระราม 9 แยก 2 ถนนพระราม 9 แขวงห้วยขวาง เขตห้วยขวาง กรุงเทพมหานคร   \n",
       "2                                                               กรุงเทพ131 ถนนพระราม 9   \n",
       "3                                                                      กรุงเทพพระราม 9   \n",
       "4                                                               กรุงเทพเพชรบุรีตัดใหม่   \n",
       "5                                                                   กรุงเทพถนนพระราม 9   \n",
       "6                                   กรุงเทพถนนรัชดาภิเษก ซอย 18 (ถนนประชาราษฎร์บำเพ็ญ)   \n",
       "7                                                                   กรุงเทพถนนพระราม 9   \n",
       "8                                                               กรุงเทพ41 คอนโดมิเนียม   \n",
       "10                                                          กรุงเทพถนน เพชรบุรีตัดใหม่   \n",
       "11                                               กรุงเทพซอยรัชดาภิเษก 20 ถนนรัชดาภิเษก   \n",
       "12                                             กรุงเทพ- ซอยรัชดาภิเษก 10 ถนนรัชดาภิเษก   \n",
       "13                          กรุงเทพ195 ถนนพระราม 9 ซอย 5 แขวงห้วยขวาง เขตห้วยขวาง กทม.   \n",
       "14                                  กรุงเทพถนนรัชดาภิเษก ซอย 18 (ถนนประชาราษฎร์บำเพ็ญ)   \n",
       "15                                  กรุงเทพถนนรัชดาภิเษก ซอย 18 (ถนนประชาราษฎร์บำเพ็ญ)   \n",
       "16          กรุงเทพ- ถนนสุทธิสารวินิจฉัย แขวงห้วยขวาง เขตห้วยขวาง จังหวัดกรุงเทพมหานคร   \n",
       "17                                                                   กรุงเทพถนนจตุรทิศ   \n",
       "18                                                        กรุงเทพประชาอุทิศ ประชาอุทิศ   \n",
       "19  กรุงเทพ- ​ซอยรัชดา 18 ถนนประชาราษฎร์บำเพ็ญ แขวงสามเสนนอก เขตห้วยขวาง กรุงเทพมหานคร   \n",
       "21                    กรุงเทพ558 ถนนรัชดาภิเษก แขวงสามเสนนอก เขตห้วยขวาง กรุงเทพมหานคร   \n",
       "\n",
       "            2         3        4       price  space  bedroom  bathroom  \\\n",
       "0   สามเสนนอก  ห้วยขวาง  กรุงเทพ   1450000.0     29        1         1   \n",
       "1    ห้วยขวาง  ห้วยขวาง  กรุงเทพ   5550000.0     66        2         2   \n",
       "2    ห้วยขวาง  ห้วยขวาง  กรุงเทพ   9700000.0     95        2         2   \n",
       "3     บางกะปิ  ห้วยขวาง  กรุงเทพ   4690000.0    110        3         2   \n",
       "4     บางกะปิ  ห้วยขวาง  กรุงเทพ   6200000.0     71        2         1   \n",
       "5    ห้วยขวาง  ห้วยขวาง  กรุงเทพ   3040000.0     39        1         1   \n",
       "6   สามเสนนอก  ห้วยขวาง  กรุงเทพ   1850000.0     38        1         1   \n",
       "7    ห้วยขวาง  ห้วยขวาง  กรุงเทพ   2890000.0     39        1         1   \n",
       "8   สามเสนนอก  ห้วยขวาง  กรุงเทพ   1599000.0     32        1         1   \n",
       "10    บางกะปิ  ห้วยขวาง  กรุงเทพ   3699000.0     36        1         1   \n",
       "11  สามเสนนอก  ห้วยขวาง  กรุงเทพ   2190000.0     31     <NA>      <NA>   \n",
       "12   ห้วยขวาง  ห้วยขวาง  กรุงเทพ   1750000.0     30     <NA>      <NA>   \n",
       "13   ห้วยขวาง  ห้วยขวาง  กรุงเทพ  12740000.0     68        2         2   \n",
       "14  สามเสนนอก  ห้วยขวาง  กรุงเทพ   1390000.0     28     <NA>      <NA>   \n",
       "15  สามเสนนอก  ห้วยขวาง  กรุงเทพ   1490000.0     28     <NA>      <NA>   \n",
       "16   ห้วยขวาง  ห้วยขวาง  กรุงเทพ   1390000.0     30        1         1   \n",
       "17    บางกะปิ  ห้วยขวาง  กรุงเทพ   2190000.0     33        1         1   \n",
       "18   ห้วยขวาง  ห้วยขวาง  กรุงเทพ   1650000.0     35        1         1   \n",
       "19  สามเสนนอก  ห้วยขวาง  กรุงเทพ   1500000.0     28     <NA>      <NA>   \n",
       "21  สามเสนนอก  ห้วยขวาง  กรุงเทพ   4500000.0     47        1         1   \n",
       "\n",
       "    studio  constructed-yr  range-from-bts                          post-by  \n",
       "0     <NA>            2015            <NA>                 คนึง นพพรพิทักษ์  \n",
       "1     <NA>            2013             390                 Jeerapon Pakutsa  \n",
       "2     <NA>            2015             540                 Jeerapon Pakutsa  \n",
       "3     <NA>            <NA>            <NA>              วีรเมศวร์ ไพศาลพงษ์  \n",
       "4     <NA>            <NA>            <NA>   Duangporn Leelalumlert (Tracy)  \n",
       "5     <NA>            2013            <NA>             นัฐธีรา ศิริสินทักษ์  \n",
       "6     <NA>            2009            <NA>             นัฐธีรา ศิริสินทักษ์  \n",
       "7     <NA>            2013            <NA>             นัฐธีรา ศิริสินทักษ์  \n",
       "8     <NA>            2011            <NA>                Krissana Property  \n",
       "10    <NA>            2016            <NA>           ชัยณรงค์ ลิ้มอารีย์สุข  \n",
       "11       1            2007             270                    Ansord Lohmud  \n",
       "12       1            2013             820  Number One Real Estate Co.,Ltd.  \n",
       "13    <NA>            2022             390                  Lazudi Thailand  \n",
       "14       1            2009            <NA>                              โอ๋  \n",
       "15       1            2009            <NA>             สุวภา พิริยะโภคานนท์  \n",
       "16    <NA>            2013             580                              โอ๋  \n",
       "17    <NA>            2010            <NA>                              โอ๋  \n",
       "18    <NA>            <NA>             680             Jay Jay Ratchamontri  \n",
       "19       1            2015            <NA>                       Condo4cash  \n",
       "21    <NA>            2011             100                Pacharamont Mandy  "
      ]
     },
     "execution_count": 51,
     "metadata": {},
     "output_type": "execute_result"
    }
   ],
   "source": [
    "df = df[[0,1,2,3,4,'price','space','bedroom','bathroom','studio','constructed-yr','range-from-bts','post-by']]\n",
    "df.head(20)"
   ]
  },
  {
   "cell_type": "code",
   "execution_count": 52,
   "metadata": {},
   "outputs": [
    {
     "data": {
      "text/plain": [
       "<IntegerArray>\n",
       "[<NA>, 1]\n",
       "Length: 2, dtype: Int64"
      ]
     },
     "execution_count": 52,
     "metadata": {},
     "output_type": "execute_result"
    }
   ],
   "source": [
    "df.studio.unique()"
   ]
  },
  {
   "cell_type": "code",
   "execution_count": 53,
   "metadata": {},
   "outputs": [
    {
     "name": "stdout",
     "output_type": "stream",
     "text": [
      "<class 'pandas.core.frame.DataFrame'>\n",
      "Int64Index: 2880 entries, 0 to 3000\n",
      "Data columns (total 13 columns):\n",
      " #   Column          Non-Null Count  Dtype  \n",
      "---  ------          --------------  -----  \n",
      " 0   0               2880 non-null   object \n",
      " 1   1               2880 non-null   object \n",
      " 2   2               2880 non-null   object \n",
      " 3   3               2880 non-null   object \n",
      " 4   4               2880 non-null   object \n",
      " 5   price           2878 non-null   float64\n",
      " 6   space           2880 non-null   int64  \n",
      " 7   bedroom         2676 non-null   Int64  \n",
      " 8   bathroom        2670 non-null   Int64  \n",
      " 9   studio          193 non-null    Int64  \n",
      " 10  constructed-yr  2709 non-null   Int64  \n",
      " 11  range-from-bts  1836 non-null   Int64  \n",
      " 12  post-by         2880 non-null   object \n",
      "dtypes: Int64(5), float64(1), int64(1), object(6)\n",
      "memory usage: 329.1+ KB\n"
     ]
    }
   ],
   "source": [
    "df.info()"
   ]
  },
  {
   "cell_type": "markdown",
   "metadata": {},
   "source": [
    "## 1. คอนโดในเขตห้วยขวาง"
   ]
  },
  {
   "cell_type": "code",
   "execution_count": 54,
   "metadata": {},
   "outputs": [
    {
     "data": {
      "text/html": [
       "<div>\n",
       "<style scoped>\n",
       "    .dataframe tbody tr th:only-of-type {\n",
       "        vertical-align: middle;\n",
       "    }\n",
       "\n",
       "    .dataframe tbody tr th {\n",
       "        vertical-align: top;\n",
       "    }\n",
       "\n",
       "    .dataframe thead th {\n",
       "        text-align: right;\n",
       "    }\n",
       "</style>\n",
       "<table border=\"1\" class=\"dataframe\">\n",
       "  <thead>\n",
       "    <tr style=\"text-align: right;\">\n",
       "      <th></th>\n",
       "      <th>0</th>\n",
       "      <th>1</th>\n",
       "      <th>3</th>\n",
       "      <th>4</th>\n",
       "      <th>price</th>\n",
       "      <th>space</th>\n",
       "      <th>bedroom</th>\n",
       "      <th>bathroom</th>\n",
       "      <th>studio</th>\n",
       "      <th>constructed-yr</th>\n",
       "      <th>range-from-bts</th>\n",
       "      <th>post-by</th>\n",
       "    </tr>\n",
       "    <tr>\n",
       "      <th>2</th>\n",
       "      <th></th>\n",
       "      <th></th>\n",
       "      <th></th>\n",
       "      <th></th>\n",
       "      <th></th>\n",
       "      <th></th>\n",
       "      <th></th>\n",
       "      <th></th>\n",
       "      <th></th>\n",
       "      <th></th>\n",
       "      <th></th>\n",
       "      <th></th>\n",
       "    </tr>\n",
       "  </thead>\n",
       "  <tbody>\n",
       "    <tr>\n",
       "      <th>บางกะปิ</th>\n",
       "      <td>802</td>\n",
       "      <td>802</td>\n",
       "      <td>802</td>\n",
       "      <td>802</td>\n",
       "      <td>802</td>\n",
       "      <td>802</td>\n",
       "      <td>757</td>\n",
       "      <td>756</td>\n",
       "      <td>40</td>\n",
       "      <td>735</td>\n",
       "      <td>232</td>\n",
       "      <td>802</td>\n",
       "    </tr>\n",
       "    <tr>\n",
       "      <th>สามเสนนอก</th>\n",
       "      <td>471</td>\n",
       "      <td>471</td>\n",
       "      <td>471</td>\n",
       "      <td>471</td>\n",
       "      <td>471</td>\n",
       "      <td>471</td>\n",
       "      <td>415</td>\n",
       "      <td>411</td>\n",
       "      <td>54</td>\n",
       "      <td>438</td>\n",
       "      <td>195</td>\n",
       "      <td>471</td>\n",
       "    </tr>\n",
       "    <tr>\n",
       "      <th>ห้วยขวาง</th>\n",
       "      <td>1607</td>\n",
       "      <td>1607</td>\n",
       "      <td>1607</td>\n",
       "      <td>1607</td>\n",
       "      <td>1605</td>\n",
       "      <td>1607</td>\n",
       "      <td>1504</td>\n",
       "      <td>1503</td>\n",
       "      <td>99</td>\n",
       "      <td>1536</td>\n",
       "      <td>1409</td>\n",
       "      <td>1607</td>\n",
       "    </tr>\n",
       "  </tbody>\n",
       "</table>\n",
       "</div>"
      ],
      "text/plain": [
       "              0     1     3     4  price  space  bedroom  bathroom  studio  \\\n",
       "2                                                                            \n",
       "บางกะปิ     802   802   802   802    802    802      757       756      40   \n",
       "สามเสนนอก   471   471   471   471    471    471      415       411      54   \n",
       "ห้วยขวาง   1607  1607  1607  1607   1605   1607     1504      1503      99   \n",
       "\n",
       "           constructed-yr  range-from-bts  post-by  \n",
       "2                                                   \n",
       "บางกะปิ               735             232      802  \n",
       "สามเสนนอก             438             195      471  \n",
       "ห้วยขวาง             1536            1409     1607  "
      ]
     },
     "execution_count": 54,
     "metadata": {},
     "output_type": "execute_result"
    }
   ],
   "source": [
    "df_dis = df.groupby(df[2]).count()\n",
    "df_dis"
   ]
  },
  {
   "cell_type": "code",
   "execution_count": 55,
   "metadata": {},
   "outputs": [
    {
     "data": {
      "application/vnd.plotly.v1+json": {
       "config": {
        "plotlyServerURL": "https://plot.ly"
       },
       "data": [
        {
         "domain": {
          "x": [
           0,
           1
          ],
          "y": [
           0,
           1
          ]
         },
         "hovertemplate": "2=%{label}<br>0=%{value}<extra></extra>",
         "labels": [
          "บางกะปิ",
          "สามเสนนอก",
          "ห้วยขวาง"
         ],
         "legendgroup": "",
         "name": "",
         "showlegend": true,
         "textinfo": "value+percent+label",
         "textposition": "inside",
         "type": "pie",
         "values": [
          802,
          471,
          1607
         ]
        }
       ],
       "layout": {
        "legend": {
         "tracegroupgap": 0
        },
        "template": {
         "data": {
          "bar": [
           {
            "error_x": {
             "color": "rgb(36,36,36)"
            },
            "error_y": {
             "color": "rgb(36,36,36)"
            },
            "marker": {
             "line": {
              "color": "rgb(234,234,242)",
              "width": 0.5
             },
             "pattern": {
              "fillmode": "overlay",
              "size": 10,
              "solidity": 0.2
             }
            },
            "type": "bar"
           }
          ],
          "barpolar": [
           {
            "marker": {
             "line": {
              "color": "rgb(234,234,242)",
              "width": 0.5
             },
             "pattern": {
              "fillmode": "overlay",
              "size": 10,
              "solidity": 0.2
             }
            },
            "type": "barpolar"
           }
          ],
          "carpet": [
           {
            "aaxis": {
             "endlinecolor": "rgb(36,36,36)",
             "gridcolor": "white",
             "linecolor": "white",
             "minorgridcolor": "white",
             "startlinecolor": "rgb(36,36,36)"
            },
            "baxis": {
             "endlinecolor": "rgb(36,36,36)",
             "gridcolor": "white",
             "linecolor": "white",
             "minorgridcolor": "white",
             "startlinecolor": "rgb(36,36,36)"
            },
            "type": "carpet"
           }
          ],
          "choropleth": [
           {
            "colorbar": {
             "outlinewidth": 0,
             "tickcolor": "rgb(36,36,36)",
             "ticklen": 8,
             "ticks": "outside",
             "tickwidth": 2
            },
            "type": "choropleth"
           }
          ],
          "contour": [
           {
            "colorbar": {
             "outlinewidth": 0,
             "tickcolor": "rgb(36,36,36)",
             "ticklen": 8,
             "ticks": "outside",
             "tickwidth": 2
            },
            "colorscale": [
             [
              0,
              "rgb(2,4,25)"
             ],
             [
              0.06274509803921569,
              "rgb(24,15,41)"
             ],
             [
              0.12549019607843137,
              "rgb(47,23,57)"
             ],
             [
              0.18823529411764706,
              "rgb(71,28,72)"
             ],
             [
              0.25098039215686274,
              "rgb(97,30,82)"
             ],
             [
              0.3137254901960784,
              "rgb(123,30,89)"
             ],
             [
              0.3764705882352941,
              "rgb(150,27,91)"
             ],
             [
              0.4392156862745098,
              "rgb(177,22,88)"
             ],
             [
              0.5019607843137255,
              "rgb(203,26,79)"
             ],
             [
              0.5647058823529412,
              "rgb(223,47,67)"
             ],
             [
              0.6274509803921569,
              "rgb(236,76,61)"
             ],
             [
              0.6901960784313725,
              "rgb(242,107,73)"
             ],
             [
              0.7529411764705882,
              "rgb(244,135,95)"
             ],
             [
              0.8156862745098039,
              "rgb(245,162,122)"
             ],
             [
              0.8784313725490196,
              "rgb(246,188,153)"
             ],
             [
              0.9411764705882353,
              "rgb(247,212,187)"
             ],
             [
              1,
              "rgb(250,234,220)"
             ]
            ],
            "type": "contour"
           }
          ],
          "contourcarpet": [
           {
            "colorbar": {
             "outlinewidth": 0,
             "tickcolor": "rgb(36,36,36)",
             "ticklen": 8,
             "ticks": "outside",
             "tickwidth": 2
            },
            "type": "contourcarpet"
           }
          ],
          "heatmap": [
           {
            "colorbar": {
             "outlinewidth": 0,
             "tickcolor": "rgb(36,36,36)",
             "ticklen": 8,
             "ticks": "outside",
             "tickwidth": 2
            },
            "colorscale": [
             [
              0,
              "rgb(2,4,25)"
             ],
             [
              0.06274509803921569,
              "rgb(24,15,41)"
             ],
             [
              0.12549019607843137,
              "rgb(47,23,57)"
             ],
             [
              0.18823529411764706,
              "rgb(71,28,72)"
             ],
             [
              0.25098039215686274,
              "rgb(97,30,82)"
             ],
             [
              0.3137254901960784,
              "rgb(123,30,89)"
             ],
             [
              0.3764705882352941,
              "rgb(150,27,91)"
             ],
             [
              0.4392156862745098,
              "rgb(177,22,88)"
             ],
             [
              0.5019607843137255,
              "rgb(203,26,79)"
             ],
             [
              0.5647058823529412,
              "rgb(223,47,67)"
             ],
             [
              0.6274509803921569,
              "rgb(236,76,61)"
             ],
             [
              0.6901960784313725,
              "rgb(242,107,73)"
             ],
             [
              0.7529411764705882,
              "rgb(244,135,95)"
             ],
             [
              0.8156862745098039,
              "rgb(245,162,122)"
             ],
             [
              0.8784313725490196,
              "rgb(246,188,153)"
             ],
             [
              0.9411764705882353,
              "rgb(247,212,187)"
             ],
             [
              1,
              "rgb(250,234,220)"
             ]
            ],
            "type": "heatmap"
           }
          ],
          "heatmapgl": [
           {
            "colorbar": {
             "outlinewidth": 0,
             "tickcolor": "rgb(36,36,36)",
             "ticklen": 8,
             "ticks": "outside",
             "tickwidth": 2
            },
            "colorscale": [
             [
              0,
              "rgb(2,4,25)"
             ],
             [
              0.06274509803921569,
              "rgb(24,15,41)"
             ],
             [
              0.12549019607843137,
              "rgb(47,23,57)"
             ],
             [
              0.18823529411764706,
              "rgb(71,28,72)"
             ],
             [
              0.25098039215686274,
              "rgb(97,30,82)"
             ],
             [
              0.3137254901960784,
              "rgb(123,30,89)"
             ],
             [
              0.3764705882352941,
              "rgb(150,27,91)"
             ],
             [
              0.4392156862745098,
              "rgb(177,22,88)"
             ],
             [
              0.5019607843137255,
              "rgb(203,26,79)"
             ],
             [
              0.5647058823529412,
              "rgb(223,47,67)"
             ],
             [
              0.6274509803921569,
              "rgb(236,76,61)"
             ],
             [
              0.6901960784313725,
              "rgb(242,107,73)"
             ],
             [
              0.7529411764705882,
              "rgb(244,135,95)"
             ],
             [
              0.8156862745098039,
              "rgb(245,162,122)"
             ],
             [
              0.8784313725490196,
              "rgb(246,188,153)"
             ],
             [
              0.9411764705882353,
              "rgb(247,212,187)"
             ],
             [
              1,
              "rgb(250,234,220)"
             ]
            ],
            "type": "heatmapgl"
           }
          ],
          "histogram": [
           {
            "marker": {
             "pattern": {
              "fillmode": "overlay",
              "size": 10,
              "solidity": 0.2
             }
            },
            "type": "histogram"
           }
          ],
          "histogram2d": [
           {
            "colorbar": {
             "outlinewidth": 0,
             "tickcolor": "rgb(36,36,36)",
             "ticklen": 8,
             "ticks": "outside",
             "tickwidth": 2
            },
            "colorscale": [
             [
              0,
              "rgb(2,4,25)"
             ],
             [
              0.06274509803921569,
              "rgb(24,15,41)"
             ],
             [
              0.12549019607843137,
              "rgb(47,23,57)"
             ],
             [
              0.18823529411764706,
              "rgb(71,28,72)"
             ],
             [
              0.25098039215686274,
              "rgb(97,30,82)"
             ],
             [
              0.3137254901960784,
              "rgb(123,30,89)"
             ],
             [
              0.3764705882352941,
              "rgb(150,27,91)"
             ],
             [
              0.4392156862745098,
              "rgb(177,22,88)"
             ],
             [
              0.5019607843137255,
              "rgb(203,26,79)"
             ],
             [
              0.5647058823529412,
              "rgb(223,47,67)"
             ],
             [
              0.6274509803921569,
              "rgb(236,76,61)"
             ],
             [
              0.6901960784313725,
              "rgb(242,107,73)"
             ],
             [
              0.7529411764705882,
              "rgb(244,135,95)"
             ],
             [
              0.8156862745098039,
              "rgb(245,162,122)"
             ],
             [
              0.8784313725490196,
              "rgb(246,188,153)"
             ],
             [
              0.9411764705882353,
              "rgb(247,212,187)"
             ],
             [
              1,
              "rgb(250,234,220)"
             ]
            ],
            "type": "histogram2d"
           }
          ],
          "histogram2dcontour": [
           {
            "colorbar": {
             "outlinewidth": 0,
             "tickcolor": "rgb(36,36,36)",
             "ticklen": 8,
             "ticks": "outside",
             "tickwidth": 2
            },
            "colorscale": [
             [
              0,
              "rgb(2,4,25)"
             ],
             [
              0.06274509803921569,
              "rgb(24,15,41)"
             ],
             [
              0.12549019607843137,
              "rgb(47,23,57)"
             ],
             [
              0.18823529411764706,
              "rgb(71,28,72)"
             ],
             [
              0.25098039215686274,
              "rgb(97,30,82)"
             ],
             [
              0.3137254901960784,
              "rgb(123,30,89)"
             ],
             [
              0.3764705882352941,
              "rgb(150,27,91)"
             ],
             [
              0.4392156862745098,
              "rgb(177,22,88)"
             ],
             [
              0.5019607843137255,
              "rgb(203,26,79)"
             ],
             [
              0.5647058823529412,
              "rgb(223,47,67)"
             ],
             [
              0.6274509803921569,
              "rgb(236,76,61)"
             ],
             [
              0.6901960784313725,
              "rgb(242,107,73)"
             ],
             [
              0.7529411764705882,
              "rgb(244,135,95)"
             ],
             [
              0.8156862745098039,
              "rgb(245,162,122)"
             ],
             [
              0.8784313725490196,
              "rgb(246,188,153)"
             ],
             [
              0.9411764705882353,
              "rgb(247,212,187)"
             ],
             [
              1,
              "rgb(250,234,220)"
             ]
            ],
            "type": "histogram2dcontour"
           }
          ],
          "mesh3d": [
           {
            "colorbar": {
             "outlinewidth": 0,
             "tickcolor": "rgb(36,36,36)",
             "ticklen": 8,
             "ticks": "outside",
             "tickwidth": 2
            },
            "type": "mesh3d"
           }
          ],
          "parcoords": [
           {
            "line": {
             "colorbar": {
              "outlinewidth": 0,
              "tickcolor": "rgb(36,36,36)",
              "ticklen": 8,
              "ticks": "outside",
              "tickwidth": 2
             }
            },
            "type": "parcoords"
           }
          ],
          "pie": [
           {
            "automargin": true,
            "type": "pie"
           }
          ],
          "scatter": [
           {
            "fillpattern": {
             "fillmode": "overlay",
             "size": 10,
             "solidity": 0.2
            },
            "type": "scatter"
           }
          ],
          "scatter3d": [
           {
            "line": {
             "colorbar": {
              "outlinewidth": 0,
              "tickcolor": "rgb(36,36,36)",
              "ticklen": 8,
              "ticks": "outside",
              "tickwidth": 2
             }
            },
            "marker": {
             "colorbar": {
              "outlinewidth": 0,
              "tickcolor": "rgb(36,36,36)",
              "ticklen": 8,
              "ticks": "outside",
              "tickwidth": 2
             }
            },
            "type": "scatter3d"
           }
          ],
          "scattercarpet": [
           {
            "marker": {
             "colorbar": {
              "outlinewidth": 0,
              "tickcolor": "rgb(36,36,36)",
              "ticklen": 8,
              "ticks": "outside",
              "tickwidth": 2
             }
            },
            "type": "scattercarpet"
           }
          ],
          "scattergeo": [
           {
            "marker": {
             "colorbar": {
              "outlinewidth": 0,
              "tickcolor": "rgb(36,36,36)",
              "ticklen": 8,
              "ticks": "outside",
              "tickwidth": 2
             }
            },
            "type": "scattergeo"
           }
          ],
          "scattergl": [
           {
            "marker": {
             "colorbar": {
              "outlinewidth": 0,
              "tickcolor": "rgb(36,36,36)",
              "ticklen": 8,
              "ticks": "outside",
              "tickwidth": 2
             }
            },
            "type": "scattergl"
           }
          ],
          "scattermapbox": [
           {
            "marker": {
             "colorbar": {
              "outlinewidth": 0,
              "tickcolor": "rgb(36,36,36)",
              "ticklen": 8,
              "ticks": "outside",
              "tickwidth": 2
             }
            },
            "type": "scattermapbox"
           }
          ],
          "scatterpolar": [
           {
            "marker": {
             "colorbar": {
              "outlinewidth": 0,
              "tickcolor": "rgb(36,36,36)",
              "ticklen": 8,
              "ticks": "outside",
              "tickwidth": 2
             }
            },
            "type": "scatterpolar"
           }
          ],
          "scatterpolargl": [
           {
            "marker": {
             "colorbar": {
              "outlinewidth": 0,
              "tickcolor": "rgb(36,36,36)",
              "ticklen": 8,
              "ticks": "outside",
              "tickwidth": 2
             }
            },
            "type": "scatterpolargl"
           }
          ],
          "scatterternary": [
           {
            "marker": {
             "colorbar": {
              "outlinewidth": 0,
              "tickcolor": "rgb(36,36,36)",
              "ticklen": 8,
              "ticks": "outside",
              "tickwidth": 2
             }
            },
            "type": "scatterternary"
           }
          ],
          "surface": [
           {
            "colorbar": {
             "outlinewidth": 0,
             "tickcolor": "rgb(36,36,36)",
             "ticklen": 8,
             "ticks": "outside",
             "tickwidth": 2
            },
            "colorscale": [
             [
              0,
              "rgb(2,4,25)"
             ],
             [
              0.06274509803921569,
              "rgb(24,15,41)"
             ],
             [
              0.12549019607843137,
              "rgb(47,23,57)"
             ],
             [
              0.18823529411764706,
              "rgb(71,28,72)"
             ],
             [
              0.25098039215686274,
              "rgb(97,30,82)"
             ],
             [
              0.3137254901960784,
              "rgb(123,30,89)"
             ],
             [
              0.3764705882352941,
              "rgb(150,27,91)"
             ],
             [
              0.4392156862745098,
              "rgb(177,22,88)"
             ],
             [
              0.5019607843137255,
              "rgb(203,26,79)"
             ],
             [
              0.5647058823529412,
              "rgb(223,47,67)"
             ],
             [
              0.6274509803921569,
              "rgb(236,76,61)"
             ],
             [
              0.6901960784313725,
              "rgb(242,107,73)"
             ],
             [
              0.7529411764705882,
              "rgb(244,135,95)"
             ],
             [
              0.8156862745098039,
              "rgb(245,162,122)"
             ],
             [
              0.8784313725490196,
              "rgb(246,188,153)"
             ],
             [
              0.9411764705882353,
              "rgb(247,212,187)"
             ],
             [
              1,
              "rgb(250,234,220)"
             ]
            ],
            "type": "surface"
           }
          ],
          "table": [
           {
            "cells": {
             "fill": {
              "color": "rgb(231,231,240)"
             },
             "line": {
              "color": "white"
             }
            },
            "header": {
             "fill": {
              "color": "rgb(183,183,191)"
             },
             "line": {
              "color": "white"
             }
            },
            "type": "table"
           }
          ]
         },
         "layout": {
          "annotationdefaults": {
           "arrowcolor": "rgb(67,103,167)"
          },
          "autotypenumbers": "strict",
          "coloraxis": {
           "colorbar": {
            "outlinewidth": 0,
            "tickcolor": "rgb(36,36,36)",
            "ticklen": 8,
            "ticks": "outside",
            "tickwidth": 2
           }
          },
          "colorscale": {
           "sequential": [
            [
             0,
             "rgb(2,4,25)"
            ],
            [
             0.06274509803921569,
             "rgb(24,15,41)"
            ],
            [
             0.12549019607843137,
             "rgb(47,23,57)"
            ],
            [
             0.18823529411764706,
             "rgb(71,28,72)"
            ],
            [
             0.25098039215686274,
             "rgb(97,30,82)"
            ],
            [
             0.3137254901960784,
             "rgb(123,30,89)"
            ],
            [
             0.3764705882352941,
             "rgb(150,27,91)"
            ],
            [
             0.4392156862745098,
             "rgb(177,22,88)"
            ],
            [
             0.5019607843137255,
             "rgb(203,26,79)"
            ],
            [
             0.5647058823529412,
             "rgb(223,47,67)"
            ],
            [
             0.6274509803921569,
             "rgb(236,76,61)"
            ],
            [
             0.6901960784313725,
             "rgb(242,107,73)"
            ],
            [
             0.7529411764705882,
             "rgb(244,135,95)"
            ],
            [
             0.8156862745098039,
             "rgb(245,162,122)"
            ],
            [
             0.8784313725490196,
             "rgb(246,188,153)"
            ],
            [
             0.9411764705882353,
             "rgb(247,212,187)"
            ],
            [
             1,
             "rgb(250,234,220)"
            ]
           ],
           "sequentialminus": [
            [
             0,
             "rgb(2,4,25)"
            ],
            [
             0.06274509803921569,
             "rgb(24,15,41)"
            ],
            [
             0.12549019607843137,
             "rgb(47,23,57)"
            ],
            [
             0.18823529411764706,
             "rgb(71,28,72)"
            ],
            [
             0.25098039215686274,
             "rgb(97,30,82)"
            ],
            [
             0.3137254901960784,
             "rgb(123,30,89)"
            ],
            [
             0.3764705882352941,
             "rgb(150,27,91)"
            ],
            [
             0.4392156862745098,
             "rgb(177,22,88)"
            ],
            [
             0.5019607843137255,
             "rgb(203,26,79)"
            ],
            [
             0.5647058823529412,
             "rgb(223,47,67)"
            ],
            [
             0.6274509803921569,
             "rgb(236,76,61)"
            ],
            [
             0.6901960784313725,
             "rgb(242,107,73)"
            ],
            [
             0.7529411764705882,
             "rgb(244,135,95)"
            ],
            [
             0.8156862745098039,
             "rgb(245,162,122)"
            ],
            [
             0.8784313725490196,
             "rgb(246,188,153)"
            ],
            [
             0.9411764705882353,
             "rgb(247,212,187)"
            ],
            [
             1,
             "rgb(250,234,220)"
            ]
           ]
          },
          "colorway": [
           "rgb(76,114,176)",
           "rgb(221,132,82)",
           "rgb(85,168,104)",
           "rgb(196,78,82)",
           "rgb(129,114,179)",
           "rgb(147,120,96)",
           "rgb(218,139,195)",
           "rgb(140,140,140)",
           "rgb(204,185,116)",
           "rgb(100,181,205)"
          ],
          "font": {
           "color": "rgb(36,36,36)"
          },
          "geo": {
           "bgcolor": "white",
           "lakecolor": "white",
           "landcolor": "rgb(234,234,242)",
           "showlakes": true,
           "showland": true,
           "subunitcolor": "white"
          },
          "hoverlabel": {
           "align": "left"
          },
          "hovermode": "closest",
          "paper_bgcolor": "white",
          "plot_bgcolor": "rgb(234,234,242)",
          "polar": {
           "angularaxis": {
            "gridcolor": "white",
            "linecolor": "white",
            "showgrid": true,
            "ticks": ""
           },
           "bgcolor": "rgb(234,234,242)",
           "radialaxis": {
            "gridcolor": "white",
            "linecolor": "white",
            "showgrid": true,
            "ticks": ""
           }
          },
          "scene": {
           "xaxis": {
            "backgroundcolor": "rgb(234,234,242)",
            "gridcolor": "white",
            "gridwidth": 2,
            "linecolor": "white",
            "showbackground": true,
            "showgrid": true,
            "ticks": "",
            "zerolinecolor": "white"
           },
           "yaxis": {
            "backgroundcolor": "rgb(234,234,242)",
            "gridcolor": "white",
            "gridwidth": 2,
            "linecolor": "white",
            "showbackground": true,
            "showgrid": true,
            "ticks": "",
            "zerolinecolor": "white"
           },
           "zaxis": {
            "backgroundcolor": "rgb(234,234,242)",
            "gridcolor": "white",
            "gridwidth": 2,
            "linecolor": "white",
            "showbackground": true,
            "showgrid": true,
            "ticks": "",
            "zerolinecolor": "white"
           }
          },
          "shapedefaults": {
           "fillcolor": "rgb(67,103,167)",
           "line": {
            "width": 0
           },
           "opacity": 0.5
          },
          "ternary": {
           "aaxis": {
            "gridcolor": "white",
            "linecolor": "white",
            "showgrid": true,
            "ticks": ""
           },
           "baxis": {
            "gridcolor": "white",
            "linecolor": "white",
            "showgrid": true,
            "ticks": ""
           },
           "bgcolor": "rgb(234,234,242)",
           "caxis": {
            "gridcolor": "white",
            "linecolor": "white",
            "showgrid": true,
            "ticks": ""
           }
          },
          "xaxis": {
           "automargin": true,
           "gridcolor": "white",
           "linecolor": "white",
           "showgrid": true,
           "ticks": "",
           "title": {
            "standoff": 15
           },
           "zerolinecolor": "white"
          },
          "yaxis": {
           "automargin": true,
           "gridcolor": "white",
           "linecolor": "white",
           "showgrid": true,
           "ticks": "",
           "title": {
            "standoff": 15
           },
           "zerolinecolor": "white"
          }
         }
        },
        "title": {
         "text": "เปอร์เซนต์คอนโดในแต่ละแขวงของเขตห้วยขวาง"
        }
       }
      }
     },
     "metadata": {},
     "output_type": "display_data"
    }
   ],
   "source": [
    "df_dis = df.groupby(df[2]).count()\n",
    "fig = px.pie(df_dis, values=df_dis[0], names=df_dis.index, title='เปอร์เซนต์คอนโดในแต่ละแขวงของเขตห้วยขวาง', template='seaborn')\n",
    "fig.update_traces(textposition='inside', textinfo='value+percent+label')\n",
    "fig.show()\n"
   ]
  },
  {
   "attachments": {},
   "cell_type": "markdown",
   "metadata": {},
   "source": [
    "จากแผนภูมิวงกลมจะเห็นได้ว่า แขวงบางกะปิมีคอนโด 802 แห่ง (27.8%), แขวงสามเสนนอกมีคอนโด 471 แห่ง (16.4%), แขวงห้วยขวางมีคอนโด 1607 แห่ง (55.8%) ปัจจัยที่ทำให้ตำนวนคอนโดแต่ละแขวงมีมากน้อยนั้น มีหลายปัจจัย เช่น ห้างสรรพสินค้า, ขนส่งสาธารณะ, สถานที่ท่องเที่ยวใกล้เคียง เป็นต้น\n"
   ]
  },
  {
   "attachments": {},
   "cell_type": "markdown",
   "metadata": {},
   "source": [
    "## 2. ระยะทางระหว่าง station มีผลต่อราคามากน้อยแค่ไหนในเขตห้วยขวาง"
   ]
  },
  {
   "cell_type": "code",
   "execution_count": 56,
   "metadata": {},
   "outputs": [
    {
     "data": {
      "application/vnd.plotly.v1+json": {
       "config": {
        "plotlyServerURL": "https://plot.ly"
       },
       "data": [
        {
         "mode": "lines",
         "name": "Distance 0-250",
         "type": "scatter",
         "x": [
          2009,
          2011,
          2013,
          2014,
          2016,
          2018,
          2021,
          2023
         ],
         "y": [
          4452777.777777778,
          4811348.525547445,
          4796156.164383561,
          10592478.260869564,
          4317341.176470588,
          5953860.240963856,
          4992824.285714285,
          5223333.333333333
         ]
        },
        {
         "mode": "lines",
         "name": "Distance 251-500",
         "type": "scatter",
         "x": [
          2007,
          2009,
          2012,
          2013,
          2014,
          2015,
          2017,
          2018,
          2020,
          2021,
          2022,
          2025
         ],
         "y": [
          2605384.6153846155,
          5151727.2727272725,
          4328677.419354838,
          7242446.705479452,
          2772540.5405405406,
          5073088.205882353,
          4720368.421052632,
          6010285.604395605,
          6288121.875,
          2540000,
          7309008.893939394,
          3269750
         ]
        },
        {
         "mode": "lines",
         "name": "Distance 501-750",
         "type": "scatter",
         "x": [
          1995,
          2008,
          2010,
          2011,
          2012,
          2013,
          2015,
          2018,
          2019
         ],
         "y": [
          1390000,
          3634214.285714286,
          3549400,
          1793750,
          2535294.117647059,
          4301684.675675675,
          13886274.162679426,
          2950000,
          3087359
         ]
        },
        {
         "mode": "lines",
         "name": "Distance 751-1000",
         "type": "scatter",
         "x": [
          1998,
          2009,
          2011,
          2013,
          2014,
          2016,
          2017,
          2018,
          2019
         ],
         "y": [
          1490000,
          1850000,
          2943939.393939394,
          1963629.0322580645,
          6552625,
          1631000,
          4510376.19047619,
          2155000,
          3576500
         ]
        },
        {
         "mode": "lines",
         "name": "Distance >1000",
         "type": "scatter",
         "x": [],
         "y": []
        }
       ],
       "layout": {
        "template": {
         "data": {
          "bar": [
           {
            "error_x": {
             "color": "#2a3f5f"
            },
            "error_y": {
             "color": "#2a3f5f"
            },
            "marker": {
             "line": {
              "color": "#E5ECF6",
              "width": 0.5
             },
             "pattern": {
              "fillmode": "overlay",
              "size": 10,
              "solidity": 0.2
             }
            },
            "type": "bar"
           }
          ],
          "barpolar": [
           {
            "marker": {
             "line": {
              "color": "#E5ECF6",
              "width": 0.5
             },
             "pattern": {
              "fillmode": "overlay",
              "size": 10,
              "solidity": 0.2
             }
            },
            "type": "barpolar"
           }
          ],
          "carpet": [
           {
            "aaxis": {
             "endlinecolor": "#2a3f5f",
             "gridcolor": "white",
             "linecolor": "white",
             "minorgridcolor": "white",
             "startlinecolor": "#2a3f5f"
            },
            "baxis": {
             "endlinecolor": "#2a3f5f",
             "gridcolor": "white",
             "linecolor": "white",
             "minorgridcolor": "white",
             "startlinecolor": "#2a3f5f"
            },
            "type": "carpet"
           }
          ],
          "choropleth": [
           {
            "colorbar": {
             "outlinewidth": 0,
             "ticks": ""
            },
            "type": "choropleth"
           }
          ],
          "contour": [
           {
            "colorbar": {
             "outlinewidth": 0,
             "ticks": ""
            },
            "colorscale": [
             [
              0,
              "#0d0887"
             ],
             [
              0.1111111111111111,
              "#46039f"
             ],
             [
              0.2222222222222222,
              "#7201a8"
             ],
             [
              0.3333333333333333,
              "#9c179e"
             ],
             [
              0.4444444444444444,
              "#bd3786"
             ],
             [
              0.5555555555555556,
              "#d8576b"
             ],
             [
              0.6666666666666666,
              "#ed7953"
             ],
             [
              0.7777777777777778,
              "#fb9f3a"
             ],
             [
              0.8888888888888888,
              "#fdca26"
             ],
             [
              1,
              "#f0f921"
             ]
            ],
            "type": "contour"
           }
          ],
          "contourcarpet": [
           {
            "colorbar": {
             "outlinewidth": 0,
             "ticks": ""
            },
            "type": "contourcarpet"
           }
          ],
          "heatmap": [
           {
            "colorbar": {
             "outlinewidth": 0,
             "ticks": ""
            },
            "colorscale": [
             [
              0,
              "#0d0887"
             ],
             [
              0.1111111111111111,
              "#46039f"
             ],
             [
              0.2222222222222222,
              "#7201a8"
             ],
             [
              0.3333333333333333,
              "#9c179e"
             ],
             [
              0.4444444444444444,
              "#bd3786"
             ],
             [
              0.5555555555555556,
              "#d8576b"
             ],
             [
              0.6666666666666666,
              "#ed7953"
             ],
             [
              0.7777777777777778,
              "#fb9f3a"
             ],
             [
              0.8888888888888888,
              "#fdca26"
             ],
             [
              1,
              "#f0f921"
             ]
            ],
            "type": "heatmap"
           }
          ],
          "heatmapgl": [
           {
            "colorbar": {
             "outlinewidth": 0,
             "ticks": ""
            },
            "colorscale": [
             [
              0,
              "#0d0887"
             ],
             [
              0.1111111111111111,
              "#46039f"
             ],
             [
              0.2222222222222222,
              "#7201a8"
             ],
             [
              0.3333333333333333,
              "#9c179e"
             ],
             [
              0.4444444444444444,
              "#bd3786"
             ],
             [
              0.5555555555555556,
              "#d8576b"
             ],
             [
              0.6666666666666666,
              "#ed7953"
             ],
             [
              0.7777777777777778,
              "#fb9f3a"
             ],
             [
              0.8888888888888888,
              "#fdca26"
             ],
             [
              1,
              "#f0f921"
             ]
            ],
            "type": "heatmapgl"
           }
          ],
          "histogram": [
           {
            "marker": {
             "pattern": {
              "fillmode": "overlay",
              "size": 10,
              "solidity": 0.2
             }
            },
            "type": "histogram"
           }
          ],
          "histogram2d": [
           {
            "colorbar": {
             "outlinewidth": 0,
             "ticks": ""
            },
            "colorscale": [
             [
              0,
              "#0d0887"
             ],
             [
              0.1111111111111111,
              "#46039f"
             ],
             [
              0.2222222222222222,
              "#7201a8"
             ],
             [
              0.3333333333333333,
              "#9c179e"
             ],
             [
              0.4444444444444444,
              "#bd3786"
             ],
             [
              0.5555555555555556,
              "#d8576b"
             ],
             [
              0.6666666666666666,
              "#ed7953"
             ],
             [
              0.7777777777777778,
              "#fb9f3a"
             ],
             [
              0.8888888888888888,
              "#fdca26"
             ],
             [
              1,
              "#f0f921"
             ]
            ],
            "type": "histogram2d"
           }
          ],
          "histogram2dcontour": [
           {
            "colorbar": {
             "outlinewidth": 0,
             "ticks": ""
            },
            "colorscale": [
             [
              0,
              "#0d0887"
             ],
             [
              0.1111111111111111,
              "#46039f"
             ],
             [
              0.2222222222222222,
              "#7201a8"
             ],
             [
              0.3333333333333333,
              "#9c179e"
             ],
             [
              0.4444444444444444,
              "#bd3786"
             ],
             [
              0.5555555555555556,
              "#d8576b"
             ],
             [
              0.6666666666666666,
              "#ed7953"
             ],
             [
              0.7777777777777778,
              "#fb9f3a"
             ],
             [
              0.8888888888888888,
              "#fdca26"
             ],
             [
              1,
              "#f0f921"
             ]
            ],
            "type": "histogram2dcontour"
           }
          ],
          "mesh3d": [
           {
            "colorbar": {
             "outlinewidth": 0,
             "ticks": ""
            },
            "type": "mesh3d"
           }
          ],
          "parcoords": [
           {
            "line": {
             "colorbar": {
              "outlinewidth": 0,
              "ticks": ""
             }
            },
            "type": "parcoords"
           }
          ],
          "pie": [
           {
            "automargin": true,
            "type": "pie"
           }
          ],
          "scatter": [
           {
            "fillpattern": {
             "fillmode": "overlay",
             "size": 10,
             "solidity": 0.2
            },
            "type": "scatter"
           }
          ],
          "scatter3d": [
           {
            "line": {
             "colorbar": {
              "outlinewidth": 0,
              "ticks": ""
             }
            },
            "marker": {
             "colorbar": {
              "outlinewidth": 0,
              "ticks": ""
             }
            },
            "type": "scatter3d"
           }
          ],
          "scattercarpet": [
           {
            "marker": {
             "colorbar": {
              "outlinewidth": 0,
              "ticks": ""
             }
            },
            "type": "scattercarpet"
           }
          ],
          "scattergeo": [
           {
            "marker": {
             "colorbar": {
              "outlinewidth": 0,
              "ticks": ""
             }
            },
            "type": "scattergeo"
           }
          ],
          "scattergl": [
           {
            "marker": {
             "colorbar": {
              "outlinewidth": 0,
              "ticks": ""
             }
            },
            "type": "scattergl"
           }
          ],
          "scattermapbox": [
           {
            "marker": {
             "colorbar": {
              "outlinewidth": 0,
              "ticks": ""
             }
            },
            "type": "scattermapbox"
           }
          ],
          "scatterpolar": [
           {
            "marker": {
             "colorbar": {
              "outlinewidth": 0,
              "ticks": ""
             }
            },
            "type": "scatterpolar"
           }
          ],
          "scatterpolargl": [
           {
            "marker": {
             "colorbar": {
              "outlinewidth": 0,
              "ticks": ""
             }
            },
            "type": "scatterpolargl"
           }
          ],
          "scatterternary": [
           {
            "marker": {
             "colorbar": {
              "outlinewidth": 0,
              "ticks": ""
             }
            },
            "type": "scatterternary"
           }
          ],
          "surface": [
           {
            "colorbar": {
             "outlinewidth": 0,
             "ticks": ""
            },
            "colorscale": [
             [
              0,
              "#0d0887"
             ],
             [
              0.1111111111111111,
              "#46039f"
             ],
             [
              0.2222222222222222,
              "#7201a8"
             ],
             [
              0.3333333333333333,
              "#9c179e"
             ],
             [
              0.4444444444444444,
              "#bd3786"
             ],
             [
              0.5555555555555556,
              "#d8576b"
             ],
             [
              0.6666666666666666,
              "#ed7953"
             ],
             [
              0.7777777777777778,
              "#fb9f3a"
             ],
             [
              0.8888888888888888,
              "#fdca26"
             ],
             [
              1,
              "#f0f921"
             ]
            ],
            "type": "surface"
           }
          ],
          "table": [
           {
            "cells": {
             "fill": {
              "color": "#EBF0F8"
             },
             "line": {
              "color": "white"
             }
            },
            "header": {
             "fill": {
              "color": "#C8D4E3"
             },
             "line": {
              "color": "white"
             }
            },
            "type": "table"
           }
          ]
         },
         "layout": {
          "annotationdefaults": {
           "arrowcolor": "#2a3f5f",
           "arrowhead": 0,
           "arrowwidth": 1
          },
          "autotypenumbers": "strict",
          "coloraxis": {
           "colorbar": {
            "outlinewidth": 0,
            "ticks": ""
           }
          },
          "colorscale": {
           "diverging": [
            [
             0,
             "#8e0152"
            ],
            [
             0.1,
             "#c51b7d"
            ],
            [
             0.2,
             "#de77ae"
            ],
            [
             0.3,
             "#f1b6da"
            ],
            [
             0.4,
             "#fde0ef"
            ],
            [
             0.5,
             "#f7f7f7"
            ],
            [
             0.6,
             "#e6f5d0"
            ],
            [
             0.7,
             "#b8e186"
            ],
            [
             0.8,
             "#7fbc41"
            ],
            [
             0.9,
             "#4d9221"
            ],
            [
             1,
             "#276419"
            ]
           ],
           "sequential": [
            [
             0,
             "#0d0887"
            ],
            [
             0.1111111111111111,
             "#46039f"
            ],
            [
             0.2222222222222222,
             "#7201a8"
            ],
            [
             0.3333333333333333,
             "#9c179e"
            ],
            [
             0.4444444444444444,
             "#bd3786"
            ],
            [
             0.5555555555555556,
             "#d8576b"
            ],
            [
             0.6666666666666666,
             "#ed7953"
            ],
            [
             0.7777777777777778,
             "#fb9f3a"
            ],
            [
             0.8888888888888888,
             "#fdca26"
            ],
            [
             1,
             "#f0f921"
            ]
           ],
           "sequentialminus": [
            [
             0,
             "#0d0887"
            ],
            [
             0.1111111111111111,
             "#46039f"
            ],
            [
             0.2222222222222222,
             "#7201a8"
            ],
            [
             0.3333333333333333,
             "#9c179e"
            ],
            [
             0.4444444444444444,
             "#bd3786"
            ],
            [
             0.5555555555555556,
             "#d8576b"
            ],
            [
             0.6666666666666666,
             "#ed7953"
            ],
            [
             0.7777777777777778,
             "#fb9f3a"
            ],
            [
             0.8888888888888888,
             "#fdca26"
            ],
            [
             1,
             "#f0f921"
            ]
           ]
          },
          "colorway": [
           "#636efa",
           "#EF553B",
           "#00cc96",
           "#ab63fa",
           "#FFA15A",
           "#19d3f3",
           "#FF6692",
           "#B6E880",
           "#FF97FF",
           "#FECB52"
          ],
          "font": {
           "color": "#2a3f5f"
          },
          "geo": {
           "bgcolor": "white",
           "lakecolor": "white",
           "landcolor": "#E5ECF6",
           "showlakes": true,
           "showland": true,
           "subunitcolor": "white"
          },
          "hoverlabel": {
           "align": "left"
          },
          "hovermode": "closest",
          "mapbox": {
           "style": "light"
          },
          "paper_bgcolor": "white",
          "plot_bgcolor": "#E5ECF6",
          "polar": {
           "angularaxis": {
            "gridcolor": "white",
            "linecolor": "white",
            "ticks": ""
           },
           "bgcolor": "#E5ECF6",
           "radialaxis": {
            "gridcolor": "white",
            "linecolor": "white",
            "ticks": ""
           }
          },
          "scene": {
           "xaxis": {
            "backgroundcolor": "#E5ECF6",
            "gridcolor": "white",
            "gridwidth": 2,
            "linecolor": "white",
            "showbackground": true,
            "ticks": "",
            "zerolinecolor": "white"
           },
           "yaxis": {
            "backgroundcolor": "#E5ECF6",
            "gridcolor": "white",
            "gridwidth": 2,
            "linecolor": "white",
            "showbackground": true,
            "ticks": "",
            "zerolinecolor": "white"
           },
           "zaxis": {
            "backgroundcolor": "#E5ECF6",
            "gridcolor": "white",
            "gridwidth": 2,
            "linecolor": "white",
            "showbackground": true,
            "ticks": "",
            "zerolinecolor": "white"
           }
          },
          "shapedefaults": {
           "line": {
            "color": "#2a3f5f"
           }
          },
          "ternary": {
           "aaxis": {
            "gridcolor": "white",
            "linecolor": "white",
            "ticks": ""
           },
           "baxis": {
            "gridcolor": "white",
            "linecolor": "white",
            "ticks": ""
           },
           "bgcolor": "#E5ECF6",
           "caxis": {
            "gridcolor": "white",
            "linecolor": "white",
            "ticks": ""
           }
          },
          "title": {
           "x": 0.05
          },
          "xaxis": {
           "automargin": true,
           "gridcolor": "white",
           "linecolor": "white",
           "ticks": "",
           "title": {
            "standoff": 15
           },
           "zerolinecolor": "white",
           "zerolinewidth": 2
          },
          "yaxis": {
           "automargin": true,
           "gridcolor": "white",
           "linecolor": "white",
           "ticks": "",
           "title": {
            "standoff": 15
           },
           "zerolinecolor": "white",
           "zerolinewidth": 2
          }
         }
        },
        "title": {
         "text": "How much does the distance between the BTS station and the property affect the price in Huai Khwang district?"
        },
        "updatemenus": [
         {
          "active": 0,
          "buttons": [
           {
            "args": [
             {
              "visible": [
               true,
               true,
               true,
               true,
               true
              ]
             }
            ],
            "label": "All distances",
            "method": "update"
           },
           {
            "args": [
             {
              "visible": [
               true,
               false,
               false,
               false,
               false
              ]
             }
            ],
            "label": "0-250m",
            "method": "update"
           },
           {
            "args": [
             {
              "visible": [
               false,
               true,
               false,
               false,
               false
              ]
             }
            ],
            "label": "251-500m",
            "method": "update"
           },
           {
            "args": [
             {
              "visible": [
               false,
               false,
               true,
               false,
               false
              ]
             }
            ],
            "label": "501-750m",
            "method": "update"
           },
           {
            "args": [
             {
              "visible": [
               false,
               false,
               false,
               true,
               false
              ]
             }
            ],
            "label": "751-1000m",
            "method": "update"
           },
           {
            "args": [
             {
              "visible": [
               false,
               false,
               false,
               false,
               true
              ]
             }
            ],
            "label": ">1000m",
            "method": "update"
           }
          ]
         }
        ],
        "xaxis": {
         "title": {
          "text": "Constructed year"
         }
        },
        "yaxis": {
         "title": {
          "text": "Price"
         }
        }
       }
      }
     },
     "metadata": {},
     "output_type": "display_data"
    }
   ],
   "source": [
    "def plot_graph(range, df):\n",
    "    dfrangedrop = df[df['range-from-bts'].notna()]\n",
    "    dfrangedrop = df[df['constructed-yr'].notna()]\n",
    "\n",
    "    if range == '0-250':\n",
    "        df_range = dfrangedrop[dfrangedrop['range-from-bts'] <= 250]\n",
    "    elif range == '251-500':\n",
    "        df_range = dfrangedrop[(dfrangedrop['range-from-bts'] > 250) & (dfrangedrop['range-from-bts'] <= 500)]\n",
    "    elif range == '501-750':\n",
    "        df_range = dfrangedrop[(dfrangedrop['range-from-bts'] > 500) & (dfrangedrop['range-from-bts'] <= 750)]\n",
    "    elif range == '751-1000':\n",
    "        df_range = dfrangedrop[(dfrangedrop['range-from-bts'] > 750) & (dfrangedrop['range-from-bts'] <= 1000)]\n",
    "    else: \n",
    "        df_range = dfrangedrop[dfrangedrop['range-from-bts'] > 1000]\n",
    "\n",
    "    df_range = df_range.sort_values(by='range-from-bts', ascending=False)\n",
    "    df_mean = df_range.groupby('constructed-yr')['price'].mean().reset_index()\n",
    "    return go.Scatter(x=df_mean['constructed-yr'], y=df_mean['price'], mode='lines', name=f\"Distance {range}\")\n",
    "\n",
    "fig = go.Figure()\n",
    "\n",
    "for range_option in ['0-250', '251-500', '501-750', '751-1000', '>1000']:\n",
    "    fig.add_trace(plot_graph(range_option, df))\n",
    "\n",
    "fig.update_layout(\n",
    "    updatemenus=[\n",
    "        dict(\n",
    "            active=0,\n",
    "            buttons=list([\n",
    "                dict(\n",
    "                    label='All distances',\n",
    "                    method='update',\n",
    "                    args=[{\"visible\": [True, True, True, True, True]}]\n",
    "                ),\n",
    "                dict(\n",
    "                    label='0-250m',\n",
    "                    method='update',\n",
    "                    args=[{\"visible\": [True, False, False, False, False]}]\n",
    "                ),\n",
    "                dict(\n",
    "                    label='251-500m',\n",
    "                    method='update',\n",
    "                    args=[{\"visible\": [False, True, False, False, False]}]\n",
    "                ),\n",
    "                dict(\n",
    "                    label='501-750m',\n",
    "                    method='update',\n",
    "                    args=[{\"visible\": [False, False, True, False, False]}]\n",
    "                ),\n",
    "                dict(\n",
    "                    label='751-1000m',\n",
    "                    method='update',\n",
    "                    args=[{\"visible\": [False, False, False, True, False]}]\n",
    "                ),\n",
    "                dict(\n",
    "                    label='>1000m',\n",
    "                    method='update',\n",
    "                    args=[{\"visible\": [False, False, False, False, True]}]\n",
    "                )\n",
    "            ])\n",
    "        )\n",
    "    ],\n",
    "    xaxis_title='Constructed year',\n",
    "    yaxis_title='Price',\n",
    "    title='How much does the distance between the BTS station and the property affect the price in Huai Khwang district?'\n",
    ")\n",
    "\n",
    "# Show the figure\n",
    "fig.show()\n"
   ]
  },
  {
   "attachments": {},
   "cell_type": "markdown",
   "metadata": {},
   "source": [
    "ผลสำรวจการเลือกซื้อคอนโดของ Ananda Development พบว่าคนไทยมากกว่าครึ่งใช้ระยะห่างระหว่างคอนโดกับรถไฟฟ้าเป็นปัจจัยในการตัดสินใจในการเลือกซื้อ เป็นเหตุผลที่ทำให้ราคาคอนโดที่มีระยะห่างระหว่างรถไฟฟ้าน้อย มักมีราคาสูงกว่าคอนโดในระยะห่างรถไฟฟ้าที่มากกว่า ซึ่งสาเหตุหลัก ๆ คือ\n",
    "1. คอนโดติดรถไฟฟ้าง่ายต่อการลงทุนหรือปล่อยเช่า\n",
    "2. ประหยัดเวลาการเดินทาง\n",
    "3. เดินทางสะดวกปลอดภัย\n",
    "4. Fix ค่าใช้จ่ายได้ทุกเดือน\n",
    "\n",
    "(หาข้อมูลเพิ่มจาก -> ขึ้นอยู่กับว่าจะเอาไป story telling ยังไง\n",
    "1. ข้อดีของการซื้อคอนโดติดรถไฟฟ้า\n",
    "2. ข้อด้อยของการซื้อคอนโดติดรถไฟฟ้า\n",
    "3. behavior ของคนอยู่คอนโด\n",
    "4. demand ของคอนโดที่เพิ่มขึ้น/ลดลงในแต่ละปี)"
   ]
  },
  {
   "attachments": {},
   "cell_type": "markdown",
   "metadata": {},
   "source": [
    "## 3.  ราคาของคอนโดแต่ละห้องในแต่ละแขวงในแต่ละปี\n",
    "note: แขวงเดียวกันเอาสีเดียวกันจมั๊ยจะได้ไม่สับสน"
   ]
  },
  {
   "cell_type": "code",
   "execution_count": 57,
   "metadata": {},
   "outputs": [
    {
     "data": {
      "text/html": [
       "<div>\n",
       "<style scoped>\n",
       "    .dataframe tbody tr th:only-of-type {\n",
       "        vertical-align: middle;\n",
       "    }\n",
       "\n",
       "    .dataframe tbody tr th {\n",
       "        vertical-align: top;\n",
       "    }\n",
       "\n",
       "    .dataframe thead th {\n",
       "        text-align: right;\n",
       "    }\n",
       "</style>\n",
       "<table border=\"1\" class=\"dataframe\">\n",
       "  <thead>\n",
       "    <tr style=\"text-align: right;\">\n",
       "      <th></th>\n",
       "      <th>2</th>\n",
       "      <th>constructed-yr</th>\n",
       "      <th>bedroom</th>\n",
       "      <th>price</th>\n",
       "    </tr>\n",
       "  </thead>\n",
       "  <tbody>\n",
       "    <tr>\n",
       "      <th>0</th>\n",
       "      <td>บางกะปิ</td>\n",
       "      <td>1998</td>\n",
       "      <td>1</td>\n",
       "      <td>1.490000e+06</td>\n",
       "    </tr>\n",
       "    <tr>\n",
       "      <th>1</th>\n",
       "      <td>บางกะปิ</td>\n",
       "      <td>2009</td>\n",
       "      <td>1</td>\n",
       "      <td>4.756500e+06</td>\n",
       "    </tr>\n",
       "    <tr>\n",
       "      <th>2</th>\n",
       "      <td>บางกะปิ</td>\n",
       "      <td>2009</td>\n",
       "      <td>2</td>\n",
       "      <td>6.282500e+06</td>\n",
       "    </tr>\n",
       "    <tr>\n",
       "      <th>3</th>\n",
       "      <td>บางกะปิ</td>\n",
       "      <td>2009</td>\n",
       "      <td>studio</td>\n",
       "      <td>3.000000e+06</td>\n",
       "    </tr>\n",
       "    <tr>\n",
       "      <th>4</th>\n",
       "      <td>บางกะปิ</td>\n",
       "      <td>2010</td>\n",
       "      <td>1</td>\n",
       "      <td>2.664545e+06</td>\n",
       "    </tr>\n",
       "    <tr>\n",
       "      <th>5</th>\n",
       "      <td>บางกะปิ</td>\n",
       "      <td>2010</td>\n",
       "      <td>2</td>\n",
       "      <td>5.900000e+06</td>\n",
       "    </tr>\n",
       "    <tr>\n",
       "      <th>6</th>\n",
       "      <td>บางกะปิ</td>\n",
       "      <td>2010</td>\n",
       "      <td>studio</td>\n",
       "      <td>1.540000e+06</td>\n",
       "    </tr>\n",
       "    <tr>\n",
       "      <th>7</th>\n",
       "      <td>บางกะปิ</td>\n",
       "      <td>2012</td>\n",
       "      <td>1</td>\n",
       "      <td>3.513180e+06</td>\n",
       "    </tr>\n",
       "    <tr>\n",
       "      <th>8</th>\n",
       "      <td>บางกะปิ</td>\n",
       "      <td>2012</td>\n",
       "      <td>2</td>\n",
       "      <td>6.789403e+06</td>\n",
       "    </tr>\n",
       "    <tr>\n",
       "      <th>9</th>\n",
       "      <td>บางกะปิ</td>\n",
       "      <td>2013</td>\n",
       "      <td>1</td>\n",
       "      <td>6.760000e+06</td>\n",
       "    </tr>\n",
       "  </tbody>\n",
       "</table>\n",
       "</div>"
      ],
      "text/plain": [
       "         2  constructed-yr bedroom         price\n",
       "0  บางกะปิ            1998       1  1.490000e+06\n",
       "1  บางกะปิ            2009       1  4.756500e+06\n",
       "2  บางกะปิ            2009       2  6.282500e+06\n",
       "3  บางกะปิ            2009  studio  3.000000e+06\n",
       "4  บางกะปิ            2010       1  2.664545e+06\n",
       "5  บางกะปิ            2010       2  5.900000e+06\n",
       "6  บางกะปิ            2010  studio  1.540000e+06\n",
       "7  บางกะปิ            2012       1  3.513180e+06\n",
       "8  บางกะปิ            2012       2  6.789403e+06\n",
       "9  บางกะปิ            2013       1  6.760000e+06"
      ]
     },
     "execution_count": 57,
     "metadata": {},
     "output_type": "execute_result"
    }
   ],
   "source": [
    "dfyear = df.copy()\n",
    "dfyear['bedroom'] = dfyear['bedroom'].astype(str).replace('<NA>', 'studio')\n",
    "df_avg_price = dfyear.groupby([2, 'constructed-yr', 'bedroom'])['price'].mean().reset_index()\n",
    "dfavg.rename(columns={2: \"sub-district\",})\n",
    "df_avg_price.head(10)"
   ]
  },
  {
   "cell_type": "code",
   "execution_count": 70,
   "metadata": {},
   "outputs": [
    {
     "name": "stderr",
     "output_type": "stream",
     "text": [
      "/var/folders/99/kh3w07wx27nc2hb4tswk10xc0000gn/T/ipykernel_3948/3105445300.py:6: FutureWarning:\n",
      "\n",
      "The default value of numeric_only in DataFrameGroupBy.mean is deprecated. In a future version, numeric_only will default to False. Either specify numeric_only or select only columns which should be valid for the function.\n",
      "\n"
     ]
    },
    {
     "data": {
      "text/plain": [
       "array([[1390000.        ],\n",
       "       [1490000.        ],\n",
       "       [2076086.95652174],\n",
       "       [2279062.5       ],\n",
       "       [2439706.89655172],\n",
       "       [3717509.08795846],\n",
       "       [2778655.0802139 ],\n",
       "       [3802059.92465753],\n",
       "       [2642369.18964077],\n",
       "       [4315719.33218391],\n",
       "       [3111915.05141505],\n",
       "       [3824982.35714286],\n",
       "       [3211087.91861166],\n",
       "       [3393055.64705882],\n",
       "       [4019652.54032258],\n",
       "       [3073898.69907407],\n",
       "       [3636722.35897436],\n",
       "       [4186709.41176471],\n",
       "       [4644368.11831832],\n",
       "       [5340000.        ],\n",
       "       [3269750.        ]])"
      ]
     },
     "execution_count": 70,
     "metadata": {},
     "output_type": "execute_result"
    }
   ],
   "source": [
    "dfavg = dfyear.groupby([2, 'constructed-yr', 'bedroom'])['price'].mean().reset_index()\n",
    "dfavg = dfavg.rename(columns={2: \"sub-district\",})\n",
    "dfavg.head(10)\n",
    "# data = dfavg[(dfavg[2] == 'ห้วยขวาง') & (dfavg['bedroom'] == '1')]\n",
    "# data.groupby('constructed-yr').mean()\n",
    "dfavg[dfavg['bedroom'] == '1'].groupby('constructed-yr').mean().values"
   ]
  },
  {
   "cell_type": "code",
   "execution_count": 72,
   "metadata": {},
   "outputs": [
    {
     "data": {
      "application/vnd.plotly.v1+json": {
       "config": {
        "plotlyServerURL": "https://plot.ly"
       },
       "data": [
        {
         "text": "ห้วยขวาง",
         "type": "scatter",
         "x": [
          1995,
          2008,
          2009,
          2010,
          2011,
          2012,
          2013,
          2014,
          2015,
          2016,
          2017,
          2018,
          2019,
          2020,
          2021,
          2022,
          2023,
          2025
         ],
         "xaxis": "x",
         "y": [
          1390000,
          3122000,
          3526153.846153846,
          2892764.705882353,
          3710821.904109589,
          2426789.4736842103,
          3754778.6862068963,
          3320810.810810811,
          5384351.833333333,
          4130050.6329113925,
          3308800,
          4483773.870967742,
          3437116.097222222,
          4356778.051282051,
          4186709.411764706,
          5305609.081081081,
          5340000,
          3269750
         ],
         "yaxis": "y"
        },
        {
         "text": "บางกะปิ",
         "type": "scatter",
         "x": [
          1998,
          2009,
          2010,
          2012,
          2013,
          2014,
          2015,
          2016,
          2017,
          2018,
          2019,
          2020,
          2022
         ],
         "xaxis": "x",
         "y": [
          1490000,
          4756500,
          2664545.4545454546,
          3513180,
          6760000,
          3185388.888888889,
          4412500,
          3787498.8372093025,
          3477311.294117647,
          5420183.75,
          3584580,
          2916666.6666666665,
          3983127.1555555556
         ],
         "yaxis": "y"
        },
        {
         "text": "สามเสนนอก",
         "type": "scatter",
         "x": [
          2006,
          2007,
          2008,
          2009,
          2011,
          2012,
          2013,
          2014,
          2015,
          2016,
          2018,
          2019
         ],
         "xaxis": "x",
         "y": [
          2076086.956521739,
          2279062.5,
          1757413.7931034483,
          2869873.417721519,
          3893297.9452054794,
          1987138.0952380951,
          2432379.3103448274,
          2829545.4545454546,
          1678095.238095238,
          1715714.2857142857,
          2155000,
          2200000
         ],
         "yaxis": "y"
        },
        {
         "text": "ห้วยขวาง",
         "type": "scatter",
         "x": [
          2008,
          2009,
          2010,
          2011,
          2012,
          2013,
          2014,
          2015,
          2016,
          2017,
          2018,
          2019,
          2020,
          2021,
          2022
         ],
         "xaxis": "x2",
         "y": [
          7400000,
          5218750,
          5941428.571428572,
          6199444.388888889,
          4587142.857142857,
          6570293.22556391,
          5393571.428571428,
          10835492.553191489,
          6783333.333333333,
          5504271.428571428,
          7474343.75,
          5792125,
          7792440.523809524,
          7765611.111111111,
          9593639.64
         ],
         "yaxis": "y2"
        },
        {
         "text": "บางกะปิ",
         "type": "scatter",
         "x": [
          2009,
          2010,
          2012,
          2013,
          2014,
          2015,
          2016,
          2017,
          2018,
          2019,
          2022
         ],
         "xaxis": "x2",
         "y": [
          6282500,
          5900000,
          6789402.777777778,
          14000000,
          12487172.413793104,
          6788346.153846154,
          7372727.2727272725,
          6916125,
          8250454.545454546,
          8516720,
          7148248.583333333
         ],
         "yaxis": "y2"
        },
        {
         "text": "สามเสนนอก",
         "type": "scatter",
         "x": [
          2006,
          2007,
          2008,
          2011,
          2012,
          2013,
          2014,
          2015
         ],
         "xaxis": "x2",
         "y": [
          3148750,
          4640000,
          3600000,
          6640625,
          2767500,
          7446666.666666667,
          3872500,
          3830000
         ],
         "yaxis": "y2"
        },
        {
         "text": "ห้วยขวาง",
         "type": "scatter",
         "x": [
          2013,
          2014,
          2015,
          2022
         ],
         "xaxis": "x3",
         "y": [
          27387777.777777776,
          13950000,
          16418970.588235294,
          19167500
         ],
         "yaxis": "y3"
        },
        {
         "text": "บางกะปิ",
         "type": "scatter",
         "x": [
          2015,
          2016,
          2017,
          2019,
          2022
         ],
         "xaxis": "x3",
         "y": [
          29000000,
          12833333.333333334,
          3348000,
          10500000,
          17726076
         ],
         "yaxis": "y3"
        },
        {
         "text": "สามเสนนอก",
         "type": "scatter",
         "x": [],
         "xaxis": "x3",
         "y": [],
         "yaxis": "y3"
        },
        {
         "text": "ห้วยขวาง",
         "type": "scatter",
         "x": [
          2014,
          2015,
          2017
         ],
         "xaxis": "x4",
         "y": [
          29500000,
          32944166.666666668,
          36400000
         ],
         "yaxis": "y4"
        },
        {
         "text": "บางกะปิ",
         "type": "scatter",
         "x": [
          2015
         ],
         "xaxis": "x4",
         "y": [
          28000000
         ],
         "yaxis": "y4"
        },
        {
         "text": "สามเสนนอก",
         "type": "scatter",
         "x": [],
         "xaxis": "x4",
         "y": [],
         "yaxis": "y4"
        },
        {
         "text": "ห้วยขวาง",
         "type": "scatter",
         "x": [
          2015
         ],
         "xaxis": "x5",
         "y": [
          23660000
         ],
         "yaxis": "y5"
        },
        {
         "text": "บางกะปิ",
         "type": "scatter",
         "x": [],
         "xaxis": "x5",
         "y": [],
         "yaxis": "y5"
        },
        {
         "text": "สามเสนนอก",
         "type": "scatter",
         "x": [],
         "xaxis": "x5",
         "y": [],
         "yaxis": "y5"
        },
        {
         "text": "ห้วยขวาง",
         "type": "scatter",
         "x": [
          2015
         ],
         "xaxis": "x6",
         "y": [
          39000000
         ],
         "yaxis": "y6"
        },
        {
         "text": "บางกะปิ",
         "type": "scatter",
         "x": [],
         "xaxis": "x6",
         "y": [],
         "yaxis": "y6"
        },
        {
         "text": "สามเสนนอก",
         "type": "scatter",
         "x": [],
         "xaxis": "x6",
         "y": [],
         "yaxis": "y6"
        },
        {
         "text": "ห้วยขวาง",
         "type": "scatter",
         "x": [
          2008,
          2011,
          2012,
          2013,
          2014,
          2015,
          2017,
          2018,
          2019,
          2020,
          2022,
          2023
         ],
         "xaxis": "x7",
         "y": [
          2429500,
          2610000,
          1710000,
          2733705.882352941,
          2005000,
          3350000,
          3348000,
          4076666.6666666665,
          2667777.777777778,
          4570000,
          3955530,
          4990000
         ],
         "yaxis": "y7"
        },
        {
         "text": "บางกะปิ",
         "type": "scatter",
         "x": [
          2009,
          2010,
          2014,
          2015,
          2017,
          2018,
          2019,
          2022
         ],
         "xaxis": "x7",
         "y": [
          3000000,
          1540000,
          4857166.666666667,
          2400000,
          3510000,
          4287361.538461538,
          4165666.6666666665,
          3200000
         ],
         "yaxis": "y7"
        },
        {
         "text": "สามเสนนอก",
         "type": "scatter",
         "x": [
          2006,
          2007,
          2008,
          2009,
          2011,
          2012,
          2013,
          2014,
          2015,
          2016
         ],
         "xaxis": "x7",
         "y": [
          1680000,
          2390000,
          1280000,
          1502500,
          1402222.2222222222,
          1327500,
          1796666.6666666667,
          1345000,
          1445714.2857142857,
          1433333.3333333333
         ],
         "yaxis": "y7"
        }
       ],
       "layout": {
        "annotations": [
         {
          "font": {
           "size": 16
          },
          "showarrow": false,
          "text": "1 Bedroom",
          "x": 0.225,
          "xanchor": "center",
          "xref": "paper",
          "y": 1,
          "yanchor": "bottom",
          "yref": "paper"
         },
         {
          "font": {
           "size": 16
          },
          "showarrow": false,
          "text": "2 Bedroom",
          "x": 0.775,
          "xanchor": "center",
          "xref": "paper",
          "y": 1,
          "yanchor": "bottom",
          "yref": "paper"
         },
         {
          "font": {
           "size": 16
          },
          "showarrow": false,
          "text": "3 Bedroom",
          "x": 0.225,
          "xanchor": "center",
          "xref": "paper",
          "y": 0.71875,
          "yanchor": "bottom",
          "yref": "paper"
         },
         {
          "font": {
           "size": 16
          },
          "showarrow": false,
          "text": "4 Bedroom",
          "x": 0.775,
          "xanchor": "center",
          "xref": "paper",
          "y": 0.71875,
          "yanchor": "bottom",
          "yref": "paper"
         },
         {
          "font": {
           "size": 16
          },
          "showarrow": false,
          "text": "5 Bedroom",
          "x": 0.225,
          "xanchor": "center",
          "xref": "paper",
          "y": 0.4375,
          "yanchor": "bottom",
          "yref": "paper"
         },
         {
          "font": {
           "size": 16
          },
          "showarrow": false,
          "text": "6 Bedroom",
          "x": 0.775,
          "xanchor": "center",
          "xref": "paper",
          "y": 0.4375,
          "yanchor": "bottom",
          "yref": "paper"
         },
         {
          "font": {
           "size": 16
          },
          "showarrow": false,
          "text": "Studio",
          "x": 0.225,
          "xanchor": "center",
          "xref": "paper",
          "y": 0.15625,
          "yanchor": "bottom",
          "yref": "paper"
         }
        ],
        "height": 900,
        "showlegend": false,
        "template": {
         "data": {
          "bar": [
           {
            "error_x": {
             "color": "#2a3f5f"
            },
            "error_y": {
             "color": "#2a3f5f"
            },
            "marker": {
             "line": {
              "color": "#E5ECF6",
              "width": 0.5
             },
             "pattern": {
              "fillmode": "overlay",
              "size": 10,
              "solidity": 0.2
             }
            },
            "type": "bar"
           }
          ],
          "barpolar": [
           {
            "marker": {
             "line": {
              "color": "#E5ECF6",
              "width": 0.5
             },
             "pattern": {
              "fillmode": "overlay",
              "size": 10,
              "solidity": 0.2
             }
            },
            "type": "barpolar"
           }
          ],
          "carpet": [
           {
            "aaxis": {
             "endlinecolor": "#2a3f5f",
             "gridcolor": "white",
             "linecolor": "white",
             "minorgridcolor": "white",
             "startlinecolor": "#2a3f5f"
            },
            "baxis": {
             "endlinecolor": "#2a3f5f",
             "gridcolor": "white",
             "linecolor": "white",
             "minorgridcolor": "white",
             "startlinecolor": "#2a3f5f"
            },
            "type": "carpet"
           }
          ],
          "choropleth": [
           {
            "colorbar": {
             "outlinewidth": 0,
             "ticks": ""
            },
            "type": "choropleth"
           }
          ],
          "contour": [
           {
            "colorbar": {
             "outlinewidth": 0,
             "ticks": ""
            },
            "colorscale": [
             [
              0,
              "#0d0887"
             ],
             [
              0.1111111111111111,
              "#46039f"
             ],
             [
              0.2222222222222222,
              "#7201a8"
             ],
             [
              0.3333333333333333,
              "#9c179e"
             ],
             [
              0.4444444444444444,
              "#bd3786"
             ],
             [
              0.5555555555555556,
              "#d8576b"
             ],
             [
              0.6666666666666666,
              "#ed7953"
             ],
             [
              0.7777777777777778,
              "#fb9f3a"
             ],
             [
              0.8888888888888888,
              "#fdca26"
             ],
             [
              1,
              "#f0f921"
             ]
            ],
            "type": "contour"
           }
          ],
          "contourcarpet": [
           {
            "colorbar": {
             "outlinewidth": 0,
             "ticks": ""
            },
            "type": "contourcarpet"
           }
          ],
          "heatmap": [
           {
            "colorbar": {
             "outlinewidth": 0,
             "ticks": ""
            },
            "colorscale": [
             [
              0,
              "#0d0887"
             ],
             [
              0.1111111111111111,
              "#46039f"
             ],
             [
              0.2222222222222222,
              "#7201a8"
             ],
             [
              0.3333333333333333,
              "#9c179e"
             ],
             [
              0.4444444444444444,
              "#bd3786"
             ],
             [
              0.5555555555555556,
              "#d8576b"
             ],
             [
              0.6666666666666666,
              "#ed7953"
             ],
             [
              0.7777777777777778,
              "#fb9f3a"
             ],
             [
              0.8888888888888888,
              "#fdca26"
             ],
             [
              1,
              "#f0f921"
             ]
            ],
            "type": "heatmap"
           }
          ],
          "heatmapgl": [
           {
            "colorbar": {
             "outlinewidth": 0,
             "ticks": ""
            },
            "colorscale": [
             [
              0,
              "#0d0887"
             ],
             [
              0.1111111111111111,
              "#46039f"
             ],
             [
              0.2222222222222222,
              "#7201a8"
             ],
             [
              0.3333333333333333,
              "#9c179e"
             ],
             [
              0.4444444444444444,
              "#bd3786"
             ],
             [
              0.5555555555555556,
              "#d8576b"
             ],
             [
              0.6666666666666666,
              "#ed7953"
             ],
             [
              0.7777777777777778,
              "#fb9f3a"
             ],
             [
              0.8888888888888888,
              "#fdca26"
             ],
             [
              1,
              "#f0f921"
             ]
            ],
            "type": "heatmapgl"
           }
          ],
          "histogram": [
           {
            "marker": {
             "pattern": {
              "fillmode": "overlay",
              "size": 10,
              "solidity": 0.2
             }
            },
            "type": "histogram"
           }
          ],
          "histogram2d": [
           {
            "colorbar": {
             "outlinewidth": 0,
             "ticks": ""
            },
            "colorscale": [
             [
              0,
              "#0d0887"
             ],
             [
              0.1111111111111111,
              "#46039f"
             ],
             [
              0.2222222222222222,
              "#7201a8"
             ],
             [
              0.3333333333333333,
              "#9c179e"
             ],
             [
              0.4444444444444444,
              "#bd3786"
             ],
             [
              0.5555555555555556,
              "#d8576b"
             ],
             [
              0.6666666666666666,
              "#ed7953"
             ],
             [
              0.7777777777777778,
              "#fb9f3a"
             ],
             [
              0.8888888888888888,
              "#fdca26"
             ],
             [
              1,
              "#f0f921"
             ]
            ],
            "type": "histogram2d"
           }
          ],
          "histogram2dcontour": [
           {
            "colorbar": {
             "outlinewidth": 0,
             "ticks": ""
            },
            "colorscale": [
             [
              0,
              "#0d0887"
             ],
             [
              0.1111111111111111,
              "#46039f"
             ],
             [
              0.2222222222222222,
              "#7201a8"
             ],
             [
              0.3333333333333333,
              "#9c179e"
             ],
             [
              0.4444444444444444,
              "#bd3786"
             ],
             [
              0.5555555555555556,
              "#d8576b"
             ],
             [
              0.6666666666666666,
              "#ed7953"
             ],
             [
              0.7777777777777778,
              "#fb9f3a"
             ],
             [
              0.8888888888888888,
              "#fdca26"
             ],
             [
              1,
              "#f0f921"
             ]
            ],
            "type": "histogram2dcontour"
           }
          ],
          "mesh3d": [
           {
            "colorbar": {
             "outlinewidth": 0,
             "ticks": ""
            },
            "type": "mesh3d"
           }
          ],
          "parcoords": [
           {
            "line": {
             "colorbar": {
              "outlinewidth": 0,
              "ticks": ""
             }
            },
            "type": "parcoords"
           }
          ],
          "pie": [
           {
            "automargin": true,
            "type": "pie"
           }
          ],
          "scatter": [
           {
            "fillpattern": {
             "fillmode": "overlay",
             "size": 10,
             "solidity": 0.2
            },
            "type": "scatter"
           }
          ],
          "scatter3d": [
           {
            "line": {
             "colorbar": {
              "outlinewidth": 0,
              "ticks": ""
             }
            },
            "marker": {
             "colorbar": {
              "outlinewidth": 0,
              "ticks": ""
             }
            },
            "type": "scatter3d"
           }
          ],
          "scattercarpet": [
           {
            "marker": {
             "colorbar": {
              "outlinewidth": 0,
              "ticks": ""
             }
            },
            "type": "scattercarpet"
           }
          ],
          "scattergeo": [
           {
            "marker": {
             "colorbar": {
              "outlinewidth": 0,
              "ticks": ""
             }
            },
            "type": "scattergeo"
           }
          ],
          "scattergl": [
           {
            "marker": {
             "colorbar": {
              "outlinewidth": 0,
              "ticks": ""
             }
            },
            "type": "scattergl"
           }
          ],
          "scattermapbox": [
           {
            "marker": {
             "colorbar": {
              "outlinewidth": 0,
              "ticks": ""
             }
            },
            "type": "scattermapbox"
           }
          ],
          "scatterpolar": [
           {
            "marker": {
             "colorbar": {
              "outlinewidth": 0,
              "ticks": ""
             }
            },
            "type": "scatterpolar"
           }
          ],
          "scatterpolargl": [
           {
            "marker": {
             "colorbar": {
              "outlinewidth": 0,
              "ticks": ""
             }
            },
            "type": "scatterpolargl"
           }
          ],
          "scatterternary": [
           {
            "marker": {
             "colorbar": {
              "outlinewidth": 0,
              "ticks": ""
             }
            },
            "type": "scatterternary"
           }
          ],
          "surface": [
           {
            "colorbar": {
             "outlinewidth": 0,
             "ticks": ""
            },
            "colorscale": [
             [
              0,
              "#0d0887"
             ],
             [
              0.1111111111111111,
              "#46039f"
             ],
             [
              0.2222222222222222,
              "#7201a8"
             ],
             [
              0.3333333333333333,
              "#9c179e"
             ],
             [
              0.4444444444444444,
              "#bd3786"
             ],
             [
              0.5555555555555556,
              "#d8576b"
             ],
             [
              0.6666666666666666,
              "#ed7953"
             ],
             [
              0.7777777777777778,
              "#fb9f3a"
             ],
             [
              0.8888888888888888,
              "#fdca26"
             ],
             [
              1,
              "#f0f921"
             ]
            ],
            "type": "surface"
           }
          ],
          "table": [
           {
            "cells": {
             "fill": {
              "color": "#EBF0F8"
             },
             "line": {
              "color": "white"
             }
            },
            "header": {
             "fill": {
              "color": "#C8D4E3"
             },
             "line": {
              "color": "white"
             }
            },
            "type": "table"
           }
          ]
         },
         "layout": {
          "annotationdefaults": {
           "arrowcolor": "#2a3f5f",
           "arrowhead": 0,
           "arrowwidth": 1
          },
          "autotypenumbers": "strict",
          "coloraxis": {
           "colorbar": {
            "outlinewidth": 0,
            "ticks": ""
           }
          },
          "colorscale": {
           "diverging": [
            [
             0,
             "#8e0152"
            ],
            [
             0.1,
             "#c51b7d"
            ],
            [
             0.2,
             "#de77ae"
            ],
            [
             0.3,
             "#f1b6da"
            ],
            [
             0.4,
             "#fde0ef"
            ],
            [
             0.5,
             "#f7f7f7"
            ],
            [
             0.6,
             "#e6f5d0"
            ],
            [
             0.7,
             "#b8e186"
            ],
            [
             0.8,
             "#7fbc41"
            ],
            [
             0.9,
             "#4d9221"
            ],
            [
             1,
             "#276419"
            ]
           ],
           "sequential": [
            [
             0,
             "#0d0887"
            ],
            [
             0.1111111111111111,
             "#46039f"
            ],
            [
             0.2222222222222222,
             "#7201a8"
            ],
            [
             0.3333333333333333,
             "#9c179e"
            ],
            [
             0.4444444444444444,
             "#bd3786"
            ],
            [
             0.5555555555555556,
             "#d8576b"
            ],
            [
             0.6666666666666666,
             "#ed7953"
            ],
            [
             0.7777777777777778,
             "#fb9f3a"
            ],
            [
             0.8888888888888888,
             "#fdca26"
            ],
            [
             1,
             "#f0f921"
            ]
           ],
           "sequentialminus": [
            [
             0,
             "#0d0887"
            ],
            [
             0.1111111111111111,
             "#46039f"
            ],
            [
             0.2222222222222222,
             "#7201a8"
            ],
            [
             0.3333333333333333,
             "#9c179e"
            ],
            [
             0.4444444444444444,
             "#bd3786"
            ],
            [
             0.5555555555555556,
             "#d8576b"
            ],
            [
             0.6666666666666666,
             "#ed7953"
            ],
            [
             0.7777777777777778,
             "#fb9f3a"
            ],
            [
             0.8888888888888888,
             "#fdca26"
            ],
            [
             1,
             "#f0f921"
            ]
           ]
          },
          "colorway": [
           "#636efa",
           "#EF553B",
           "#00cc96",
           "#ab63fa",
           "#FFA15A",
           "#19d3f3",
           "#FF6692",
           "#B6E880",
           "#FF97FF",
           "#FECB52"
          ],
          "font": {
           "color": "#2a3f5f"
          },
          "geo": {
           "bgcolor": "white",
           "lakecolor": "white",
           "landcolor": "#E5ECF6",
           "showlakes": true,
           "showland": true,
           "subunitcolor": "white"
          },
          "hoverlabel": {
           "align": "left"
          },
          "hovermode": "closest",
          "mapbox": {
           "style": "light"
          },
          "paper_bgcolor": "white",
          "plot_bgcolor": "#E5ECF6",
          "polar": {
           "angularaxis": {
            "gridcolor": "white",
            "linecolor": "white",
            "ticks": ""
           },
           "bgcolor": "#E5ECF6",
           "radialaxis": {
            "gridcolor": "white",
            "linecolor": "white",
            "ticks": ""
           }
          },
          "scene": {
           "xaxis": {
            "backgroundcolor": "#E5ECF6",
            "gridcolor": "white",
            "gridwidth": 2,
            "linecolor": "white",
            "showbackground": true,
            "ticks": "",
            "zerolinecolor": "white"
           },
           "yaxis": {
            "backgroundcolor": "#E5ECF6",
            "gridcolor": "white",
            "gridwidth": 2,
            "linecolor": "white",
            "showbackground": true,
            "ticks": "",
            "zerolinecolor": "white"
           },
           "zaxis": {
            "backgroundcolor": "#E5ECF6",
            "gridcolor": "white",
            "gridwidth": 2,
            "linecolor": "white",
            "showbackground": true,
            "ticks": "",
            "zerolinecolor": "white"
           }
          },
          "shapedefaults": {
           "line": {
            "color": "#2a3f5f"
           }
          },
          "ternary": {
           "aaxis": {
            "gridcolor": "white",
            "linecolor": "white",
            "ticks": ""
           },
           "baxis": {
            "gridcolor": "white",
            "linecolor": "white",
            "ticks": ""
           },
           "bgcolor": "#E5ECF6",
           "caxis": {
            "gridcolor": "white",
            "linecolor": "white",
            "ticks": ""
           }
          },
          "title": {
           "x": 0.05
          },
          "xaxis": {
           "automargin": true,
           "gridcolor": "white",
           "linecolor": "white",
           "ticks": "",
           "title": {
            "standoff": 15
           },
           "zerolinecolor": "white",
           "zerolinewidth": 2
          },
          "yaxis": {
           "automargin": true,
           "gridcolor": "white",
           "linecolor": "white",
           "ticks": "",
           "title": {
            "standoff": 15
           },
           "zerolinecolor": "white",
           "zerolinewidth": 2
          }
         }
        },
        "title": {
         "text": "Condo price by Room and sub-district"
        },
        "width": 900,
        "xaxis": {
         "anchor": "y",
         "domain": [
          0,
          0.45
         ]
        },
        "xaxis2": {
         "anchor": "y2",
         "domain": [
          0.55,
          1
         ]
        },
        "xaxis3": {
         "anchor": "y3",
         "domain": [
          0,
          0.45
         ]
        },
        "xaxis4": {
         "anchor": "y4",
         "domain": [
          0.55,
          1
         ]
        },
        "xaxis5": {
         "anchor": "y5",
         "domain": [
          0,
          0.45
         ]
        },
        "xaxis6": {
         "anchor": "y6",
         "domain": [
          0.55,
          1
         ]
        },
        "xaxis7": {
         "anchor": "y7",
         "domain": [
          0,
          0.45
         ]
        },
        "xaxis8": {
         "anchor": "y8",
         "domain": [
          0.55,
          1
         ]
        },
        "yaxis": {
         "anchor": "x",
         "domain": [
          0.84375,
          1
         ]
        },
        "yaxis2": {
         "anchor": "x2",
         "domain": [
          0.84375,
          1
         ]
        },
        "yaxis3": {
         "anchor": "x3",
         "domain": [
          0.5625,
          0.71875
         ]
        },
        "yaxis4": {
         "anchor": "x4",
         "domain": [
          0.5625,
          0.71875
         ]
        },
        "yaxis5": {
         "anchor": "x5",
         "domain": [
          0.28125,
          0.4375
         ]
        },
        "yaxis6": {
         "anchor": "x6",
         "domain": [
          0.28125,
          0.4375
         ]
        },
        "yaxis7": {
         "anchor": "x7",
         "domain": [
          0,
          0.15625
         ]
        },
        "yaxis8": {
         "anchor": "x8",
         "domain": [
          0,
          0.15625
         ]
        }
       }
      }
     },
     "metadata": {},
     "output_type": "display_data"
    }
   ],
   "source": [
    "fig = make_subplots(rows=4, cols=2,subplot_titles=[\n",
    "    '1 Bedroom','2 Bedroom','3 Bedroom','4 Bedroom','5 Bedroom','6 Bedroom','Studio'])\n",
    "d1 = dfavg[dfavg['bedroom'] == '1'].groupby(['constructed-yr','sub-district']).mean(numeric_only=True).reset_index()\n",
    "d2 = dfavg[dfavg['bedroom'] == '2'].groupby(['constructed-yr','sub-district']).mean(numeric_only=True).reset_index()\n",
    "d3 = dfavg[dfavg['bedroom'] == '3'].groupby(['constructed-yr','sub-district']).mean(numeric_only=True).reset_index()\n",
    "d4 = dfavg[dfavg['bedroom'] == '4'].groupby(['constructed-yr','sub-district']).mean(numeric_only=True).reset_index()\n",
    "d5 = dfavg[dfavg['bedroom'] == '5'].groupby(['constructed-yr','sub-district']).mean(numeric_only=True).reset_index()\n",
    "d6 = dfavg[dfavg['bedroom'] == '6'].groupby(['constructed-yr','sub-district']).mean(numeric_only=True).reset_index()\n",
    "ds = dfavg[dfavg['bedroom'] == 'studio'].groupby(['constructed-yr','sub-district']).mean(numeric_only=True).reset_index()\n",
    "#1\n",
    "fig.add_trace(go.Scatter(x=d1[d1['sub-district']=='ห้วยขวาง']['constructed-yr'],\n",
    "                         y=d1[d1['sub-district']=='ห้วยขวาง']['price'],\n",
    "                         text='ห้วยขวาง'\n",
    "                         ),row=1,col=1)\n",
    "fig.add_trace(go.Scatter(x=d1[d1['sub-district']=='บางกะปิ']['constructed-yr'],\n",
    "                         y=d1[d1['sub-district']=='บางกะปิ']['price'],\n",
    "                         text='บางกะปิ'\n",
    "                         ),row=1,col=1)\n",
    "fig.add_trace(go.Scatter(x=d1[d1['sub-district']=='สามเสนนอก']['constructed-yr'],\n",
    "                         y=d1[d1['sub-district']=='สามเสนนอก']['price'],\n",
    "                         text='สามเสนนอก'\n",
    "                         ),row=1,col=1)\n",
    "#2\n",
    "fig.add_trace(go.Scatter(x=d2[d2['sub-district']=='ห้วยขวาง']['constructed-yr'],\n",
    "                         y=d2[d2['sub-district']=='ห้วยขวาง']['price'],\n",
    "                         text='ห้วยขวาง'\n",
    "                         ),row=1,col=2)\n",
    "fig.add_trace(go.Scatter(x=d2[d2['sub-district']=='บางกะปิ']['constructed-yr'],\n",
    "                         y=d2[d2['sub-district']=='บางกะปิ']['price'],\n",
    "                         text='บางกะปิ'\n",
    "                         ),row=1,col=2)\n",
    "fig.add_trace(go.Scatter(x=d2[d2['sub-district']=='สามเสนนอก']['constructed-yr'],\n",
    "                         y=d2[d2['sub-district']=='สามเสนนอก']['price'],\n",
    "                         text='สามเสนนอก'\n",
    "                         ),row=1,col=2)\n",
    "#3\n",
    "fig.add_trace(go.Scatter(x=d3[d3['sub-district']=='ห้วยขวาง']['constructed-yr'],\n",
    "                         y=d3[d3['sub-district']=='ห้วยขวาง']['price'],\n",
    "                         text='ห้วยขวาง'\n",
    "                         ),row=2,col=1)\n",
    "fig.add_trace(go.Scatter(x=d3[d3['sub-district']=='บางกะปิ']['constructed-yr'],\n",
    "                         y=d3[d3['sub-district']=='บางกะปิ']['price'],\n",
    "                         text='บางกะปิ'\n",
    "                         ),row=2,col=1)\n",
    "fig.add_trace(go.Scatter(x=d3[d3['sub-district']=='สามเสนนอก']['constructed-yr'],\n",
    "                         y=d3[d3['sub-district']=='สามเสนนอก']['price'],\n",
    "                         text='สามเสนนอก'\n",
    "                         ),row=2,col=1)\n",
    "#4\n",
    "fig.add_trace(go.Scatter(x=d4[d4['sub-district']=='ห้วยขวาง']['constructed-yr'],\n",
    "                         y=d4[d4['sub-district']=='ห้วยขวาง']['price'],\n",
    "                         text='ห้วยขวาง'\n",
    "                         ),row=2,col=2)\n",
    "fig.add_trace(go.Scatter(x=d4[d4['sub-district']=='บางกะปิ']['constructed-yr'],\n",
    "                         y=d4[d4['sub-district']=='บางกะปิ']['price'],\n",
    "                         text='บางกะปิ'\n",
    "                         ),row=2,col=2)\n",
    "fig.add_trace(go.Scatter(x=d4[d4['sub-district']=='สามเสนนอก']['constructed-yr'],\n",
    "                         y=d4[d4['sub-district']=='สามเสนนอก']['price'],\n",
    "                         text='สามเสนนอก'\n",
    "                         ),row=2,col=2)\n",
    "#5\n",
    "fig.add_trace(go.Scatter(x=d5[d5['sub-district']=='ห้วยขวาง']['constructed-yr'],\n",
    "                         y=d5[d5['sub-district']=='ห้วยขวาง']['price'],\n",
    "                         text='ห้วยขวาง'\n",
    "                         ),row=3,col=1)\n",
    "fig.add_trace(go.Scatter(x=d5[d5['sub-district']=='บางกะปิ']['constructed-yr'],\n",
    "                         y=d5[d5['sub-district']=='บางกะปิ']['price'],\n",
    "                         text='บางกะปิ'\n",
    "                         ),row=3,col=1)\n",
    "fig.add_trace(go.Scatter(x=d5[d5['sub-district']=='สามเสนนอก']['constructed-yr'],\n",
    "                         y=d5[d5['sub-district']=='สามเสนนอก']['price'],\n",
    "                         text='สามเสนนอก'\n",
    "                         ),row=3,col=1)\n",
    "#6\n",
    "fig.add_trace(go.Scatter(x=d6[d6['sub-district']=='ห้วยขวาง']['constructed-yr'],\n",
    "                         y=d6[d6['sub-district']=='ห้วยขวาง']['price'],\n",
    "                         text='ห้วยขวาง'\n",
    "                         ),row=3,col=2)\n",
    "fig.add_trace(go.Scatter(x=d6[d6['sub-district']=='บางกะปิ']['constructed-yr'],\n",
    "                         y=d6[d6['sub-district']=='บางกะปิ']['price'],\n",
    "                         text='บางกะปิ'\n",
    "                         ),row=3,col=2)\n",
    "fig.add_trace(go.Scatter(x=d5[d5['sub-district']=='สามเสนนอก']['constructed-yr'],\n",
    "                         y=d5[d5['sub-district']=='สามเสนนอก']['price'],\n",
    "                         text='สามเสนนอก'\n",
    "                         ),row=3,col=2)\n",
    "#Studio\n",
    "fig.add_trace(go.Scatter(x=ds[ds['sub-district']=='ห้วยขวาง']['constructed-yr'],\n",
    "                         y=ds[ds['sub-district']=='ห้วยขวาง']['price'],\n",
    "                         text='ห้วยขวาง'\n",
    "                         ),row=4,col=1)\n",
    "fig.add_trace(go.Scatter(x=ds[ds['sub-district']=='บางกะปิ']['constructed-yr'],\n",
    "                         y=ds[ds['sub-district']=='บางกะปิ']['price'],\n",
    "                         text='บางกะปิ'\n",
    "                         ),row=4,col=1)\n",
    "fig.add_trace(go.Scatter(x=ds[ds['sub-district']=='สามเสนนอก']['constructed-yr'],\n",
    "                         y=ds[ds['sub-district']=='สามเสนนอก']['price'],\n",
    "                         text='สามเสนนอก'\n",
    "                         ),row=4,col=1)\n",
    "\n",
    "fig.update_layout(\n",
    "    title='Condo price by Room and sub-district',\n",
    "    # yaxis=dict(title='Values'),\n",
    "    height=900,\n",
    "    width=900,\n",
    "    showlegend=False\n",
    ")\n",
    "fig.show()"
   ]
  },
  {
   "attachments": {},
   "cell_type": "markdown",
   "metadata": {},
   "source": [
    "เดี๋ยวคิดเพิ่มตอนทำ story telling คิดบ่ออก\n",
    "- ราคาของคอนโดมีแนวโน้มจะเพิ่มขึ้นโดยเฉพาะห้อง studio เนื่องจาก\n",
    "- จะเห็นได้ว่าแขวงห้วยขวางมีคอนโดให้เลือกทุกรูปแบบและมีแนวโน้มราคาที่จะเพิ่มขึ้นเรื่อย ๆ ทุกปี สาเหตุจากเป็นแหล่งที่อยู่อาศัยที่เพียบพร้อมไปด้วยสิ่งอำนวยความสะดวกมากมาย เช่น  สถานี mrt โรงพยาบาลหัวเฉียว ทางด่วน ห้างสรรพสินค้าอย่างเซ็นทรัลพระราม 9 และthe street ratchada ส่งผลให้ราคาที่ดินในแต่ละปีเพิ่มสูงขึ้นเรื่อย ๆ จึงทำให้ราคาคอนโดในแขวงห้วยขวางเพิ่มสูงขึ้นตามด้วย\n",
    "- แขวงสามเสนนอก ติดสถานี mrt แค่ 2 สถานี ต่างจากแขวงห้วยขวาง ภายในแขวงนี้ไม่มีสิ่งอำนวยความสะดวมากมาย อย่างห้างสรรพสินค้า หรือโรงพยาบาลใกล้เคียง บริเวณนี้ส่วนใหญ่เป็นบ้านพักอาศัยจึงไม่ค่อยมีคอนโดบริเวณนี้ ราคาของคอนโดบริเวณนี้จึงไม่สูงมาก\n",
    "- แขวงบางกะปิ แขวงที่อยู่อาศัยที่มีทั้งคอนโดและบ้านเดี่ยวจำนวนมาก มีสถานี mrt สถานีเพชรบุรีภายในแขวง แต่มีรถไฟฟ้า airport link ซึ่งเป็นรถไฟฟ้าที่ไปสู่ทางเชื่อม รถไฟไทย mrt และ BTS ตัดผ่านตลอดทาง นอกจากสิ่งอำนวยความสะดวกดังกล่าวแล้วยังมีโรงพยาบาลมากมาย เช่น โรงพยาบาลพระราม9 โรงพยาบาลปิยเวท เป็นต้น มีทางขึ้นทางด่วนสะดวกสบาย แต่ย่านนี้มีห้างแค่ show dc ราคาย่านนี้จึงอยู่ในระดับกลาง"
   ]
  }
 ],
 "metadata": {
  "kernelspec": {
   "display_name": "base",
   "language": "python",
   "name": "python3"
  },
  "language_info": {
   "codemirror_mode": {
    "name": "ipython",
    "version": 3
   },
   "file_extension": ".py",
   "mimetype": "text/x-python",
   "name": "python",
   "nbconvert_exporter": "python",
   "pygments_lexer": "ipython3",
   "version": "3.9.13"
  },
  "orig_nbformat": 4
 },
 "nbformat": 4,
 "nbformat_minor": 2
}
