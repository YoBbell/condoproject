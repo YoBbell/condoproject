{
 "cells": [
  {
   "cell_type": "code",
   "execution_count": 3,
   "metadata": {},
   "outputs": [
    {
     "name": "stdout",
     "output_type": "stream",
     "text": [
      "pandas version = 1.5.3\n",
      "2023-04-15 16:58:29.764351\n"
     ]
    }
   ],
   "source": [
    "import pandas as pd\n",
    "import numpy as np\n",
    "import matplotlib.pyplot as plt\n",
    "import matplotlib.ticker as ticker\n",
    "# import missingno as msno\n",
    "import seaborn as sns\n",
    "import plotly.express as px\n",
    "import plotly.graph_objs as go\n",
    "from plotly.subplots import make_subplots\n",
    "from ipywidgets import interact,widgets\n",
    "plt.rcParams['font.family'] = 'Tahoma'\n",
    "# from termcolor import colored\n",
    "\n",
    "pd.options.display.max_columns = None\n",
    "print(f'pandas version = {pd.__version__}')\n",
    "print(pd.Timestamp.now())\n",
    "\n",
    "%matplotlib inline\n",
    "%config InlineBackend.figure_format = 'retina'"
   ]
  },
  {
   "cell_type": "code",
   "execution_count": 4,
   "metadata": {},
   "outputs": [],
   "source": [
    "df = pd.read_csv('https://raw.githubusercontent.com/Sitanans/busint/main/condo.csv')"
   ]
  },
  {
   "cell_type": "code",
   "execution_count": 5,
   "metadata": {},
   "outputs": [
    {
     "data": {
      "text/html": [
       "<div>\n",
       "<style scoped>\n",
       "    .dataframe tbody tr th:only-of-type {\n",
       "        vertical-align: middle;\n",
       "    }\n",
       "\n",
       "    .dataframe tbody tr th {\n",
       "        vertical-align: top;\n",
       "    }\n",
       "\n",
       "    .dataframe thead th {\n",
       "        text-align: right;\n",
       "    }\n",
       "</style>\n",
       "<table border=\"1\" class=\"dataframe\">\n",
       "  <thead>\n",
       "    <tr style=\"text-align: right;\">\n",
       "      <th></th>\n",
       "      <th>name</th>\n",
       "      <th>post-by</th>\n",
       "      <th>constructed-yr</th>\n",
       "      <th>new</th>\n",
       "      <th>price</th>\n",
       "      <th>space</th>\n",
       "      <th>room</th>\n",
       "      <th>range-from-bts</th>\n",
       "    </tr>\n",
       "  </thead>\n",
       "  <tbody>\n",
       "    <tr>\n",
       "      <th>0</th>\n",
       "      <td>Happy Condo Ratchada 18, กรุงเทพ- ​ซอยรัชดา 18 ถนนประชาราษฎร์บำเพ็ญ แขวงสามเสนนอก เขตห้วยขวาง กรุงเทพมหานคร, สามเสนนอก, ห้วยขวาง, กรุงเทพ</td>\n",
       "      <td>ลงประกาศโดย คนึง นพพรพิทักษ์</td>\n",
       "      <td>&lt;span&gt;ปีที่สร้างเสร็จ: 2015&lt;/span&gt;</td>\n",
       "      <td>NaN</td>\n",
       "      <td>1,450,000</td>\n",
       "      <td>29 ตร.ม.</td>\n",
       "      <td>&lt;li class=\"listing-rooms pull-left\"&gt;&lt;span class=\"bed\" title=\"1 ห้องนอน\"&gt;1 &lt;i class=\"pg-icon pgicon-bedroom\"&gt;&lt;/i&gt;&lt;/span&gt; &lt;span class=\"bath\" title=\"1 ห้องน้ำ\"&gt;1 &lt;i class=\"pg-icon pgicon-bathroom\"&gt;&lt;/i&gt;&lt;/span&gt;&lt;/li&gt;</td>\n",
       "      <td>[]</td>\n",
       "    </tr>\n",
       "    <tr>\n",
       "      <th>1</th>\n",
       "      <td>Aspire Rama 9 : แอสปาย พระราม 9, กรุงเทพซอยพระราม 9 แยก 2 ถนนพระราม 9 แขวงห้วยขวาง เขตห้วยขวาง กรุงเทพมหานคร, ห้วยขวาง, ห้วยขวาง, กรุงเทพ</td>\n",
       "      <td>ลงประกาศโดย Jeerapon Pakutsa</td>\n",
       "      <td>&lt;span&gt;ปีที่สร้างเสร็จ: 2013&lt;/span&gt;</td>\n",
       "      <td>NaN</td>\n",
       "      <td>5,550,000</td>\n",
       "      <td>66 ตร.ม.</td>\n",
       "      <td>&lt;li class=\"listing-rooms pull-left\"&gt;&lt;span class=\"bed\" title=\"2 ห้องนอน\"&gt;2 &lt;i class=\"pg-icon pgicon-bedroom\"&gt;&lt;/i&gt;&lt;/span&gt; &lt;span class=\"bath\" title=\"2 ห้องน้ำ\"&gt;2 &lt;i class=\"pg-icon pgicon-bathroom\"&gt;&lt;/i&gt;&lt;/span&gt;&lt;/li&gt;</td>\n",
       "      <td>[[&lt;li itemscope=\"\" itemtype=\"https://schema.org/Photograph\" style=\"left: 0%;\"&gt;&lt;img alt=\"ขาย - Aspire Rama 9 : แอสปาย พระราม 9, กรุงเทพ\" itemprop=\"thumbnailUrl\" onerror=\"this.src='https://cdn2.pgimgs.com/1680685035/sf2-search/bundles/guruweblayout/img/desktop/missing/nophoto_property_400x300.png';\" src=\"https://th2-cdn.pgimgs.com/listing/10643327/UPHO.113463965.V800/Aspire-Rama-9-%E0%B9%81%E0%B8%AD%E0%B8%AA%E0%B8%9B%E0%B8%B2%E0%B8%A2-%E0%B8%9E%E0%B8%A3%E0%B8%B0%E0%B8%A3%E0%B8%B2%E0%B8%A1-9-%E0%B8%AB%E0%B9%89%E0%B8%A7%E0%B8%A2%E0%B8%82%E0%B8%A7%E0%B8%B2%E0%B8%87-Thailand.jpg\"/&gt;&lt;/li&gt;, &lt;li class=\"list-price pull-left\"&gt;&lt;span class=\"currency\"&gt;฿&lt;/span&gt;&lt;span class=\"price\"&gt;5,550,000&lt;/span&gt;&lt;span class=\"period\"&gt;&lt;/span&gt; &lt;/li&gt;, &lt;li class=\"listing-rooms pull-left\"&gt;&lt;span class=\"bed\" title=\"2 ห้องนอน\"&gt;2 &lt;i class=\"pg-icon pgicon-bedroom\"&gt;&lt;/i&gt;&lt;/span&gt; &lt;span class=\"bath\" title=\"2 ห้องน้ำ\"&gt;2 &lt;i class=\"pg-icon pgicon-bathroom\"&gt;&lt;/i&gt;&lt;/span&gt;&lt;/li&gt;, &lt;li&gt;\\n&lt;i class=\"pgicon pgicon-walk\"&gt;&lt;/i&gt; 5 นาที (390 ม.) ถึง BL20 MRT พระราม 9\\n                        &lt;/li&gt;, &lt;li class=\"\"&gt;&lt;span&gt;คอนโด&lt;/span&gt;&lt;/li&gt;]]</td>\n",
       "    </tr>\n",
       "    <tr>\n",
       "      <th>2</th>\n",
       "      <td>Belle Grand Rama 9 : เบลล์ แกรนด์ พระราม 9, กรุงเทพ131 ถนนพระราม 9, ห้วยขวาง, ห้วยขวาง, กรุงเทพ</td>\n",
       "      <td>ลงประกาศโดย Jeerapon Pakutsa</td>\n",
       "      <td>&lt;span&gt;ปีที่สร้างเสร็จ: 2015&lt;/span&gt;</td>\n",
       "      <td>NaN</td>\n",
       "      <td>9,700,000</td>\n",
       "      <td>95 ตร.ม.</td>\n",
       "      <td>&lt;li class=\"listing-rooms pull-left\"&gt;&lt;span class=\"bed\" title=\"2 ห้องนอน\"&gt;2 &lt;i class=\"pg-icon pgicon-bedroom\"&gt;&lt;/i&gt;&lt;/span&gt; &lt;span class=\"bath\" title=\"2 ห้องน้ำ\"&gt;2 &lt;i class=\"pg-icon pgicon-bathroom\"&gt;&lt;/i&gt;&lt;/span&gt;&lt;/li&gt;</td>\n",
       "      <td>[[&lt;li itemscope=\"\" itemtype=\"https://schema.org/Photograph\" style=\"left: 0%;\"&gt;&lt;img alt=\"ขาย - Belle Grand Rama 9 : เบลล์ แกรนด์ พระราม 9, กรุงเทพ\" itemprop=\"thumbnailUrl\" onerror=\"this.src='https://cdn2.pgimgs.com/1680685035/sf2-search/bundles/guruweblayout/img/desktop/missing/nophoto_property_400x300.png';\" src=\"https://th2-cdn.pgimgs.com/listing/10643853/UPHO.113470539.V800/Belle-Grand-Rama-9-%E0%B9%80%E0%B8%9A%E0%B8%A5%E0%B8%A5%E0%B9%8C-%E0%B9%81%E0%B8%81%E0%B8%A3%E0%B8%99%E0%B8%94%E0%B9%8C-%E0%B8%9E%E0%B8%A3%E0%B8%B0%E0%B8%A3%E0%B8%B2%E0%B8%A1-9-%E0%B8%AB%E0%B9%89%E0%B8%A7%E0%B8%A2%E0%B8%82%E0%B8%A7%E0%B8%B2%E0%B8%87-Thailand.jpg\"/&gt;&lt;/li&gt;, &lt;li class=\"list-price pull-left\"&gt;&lt;span class=\"currency\"&gt;฿&lt;/span&gt;&lt;span class=\"price\"&gt;9,700,000&lt;/span&gt;&lt;span class=\"period\"&gt;&lt;/span&gt; &lt;/li&gt;, &lt;li class=\"listing-rooms pull-left\"&gt;&lt;span class=\"bed\" title=\"2 ห้องนอน\"&gt;2 &lt;i class=\"pg-icon pgicon-bedroom\"&gt;&lt;/i&gt;&lt;/span&gt; &lt;span class=\"bath\" title=\"2 ห้องน้ำ\"&gt;2 &lt;i class=\"pg-icon pgicon-bathroom\"&gt;&lt;/i&gt;&lt;/span&gt;&lt;/li&gt;, &lt;li&gt;\\n&lt;i class=\"pgicon pgicon-walk\"&gt;&lt;/i&gt; 7 นาที (540 ม.) ถึง BL20 MRT พระราม 9\\n                        &lt;/li&gt;, &lt;li class=\"\"&gt;&lt;span&gt;คอนโด&lt;/span&gt;&lt;/li&gt;]]</td>\n",
       "    </tr>\n",
       "    <tr>\n",
       "      <th>3</th>\n",
       "      <td>Royal Nine Residence Condominium ถนนพระราม 9 แขวงบางกะปิ เขตห้วยขวาง กรุงเทพมหานคร 10310, กรุงเทพพระราม 9, บางกะปิ, ห้วยขวาง, กรุงเทพ</td>\n",
       "      <td>ลงประกาศโดย วีรเมศวร์ ไพศาลพงษ์</td>\n",
       "      <td>NaN</td>\n",
       "      <td>NaN</td>\n",
       "      <td>4,690,000</td>\n",
       "      <td>110 ตร.ม.</td>\n",
       "      <td>&lt;li class=\"listing-rooms pull-left\"&gt;&lt;span class=\"bed\" title=\"3 ห้องนอน\"&gt;3 &lt;i class=\"pg-icon pgicon-bedroom\"&gt;&lt;/i&gt;&lt;/span&gt; &lt;span class=\"bath\" title=\"2 ห้องน้ำ\"&gt;2 &lt;i class=\"pg-icon pgicon-bathroom\"&gt;&lt;/i&gt;&lt;/span&gt;&lt;/li&gt;</td>\n",
       "      <td>[]</td>\n",
       "    </tr>\n",
       "    <tr>\n",
       "      <th>4</th>\n",
       "      <td>ศุภาลัย ปาร์ค เอกมัย-ทองหล่อ, กรุงเทพเพชรบุรีตัดใหม่, บางกะปิ, ห้วยขวาง, กรุงเทพ</td>\n",
       "      <td>ลงประกาศโดย Duangporn Leelalumlert (Tracy)</td>\n",
       "      <td>NaN</td>\n",
       "      <td>NaN</td>\n",
       "      <td>6,200,000</td>\n",
       "      <td>71 ตร.ม.</td>\n",
       "      <td>&lt;li class=\"listing-rooms pull-left\"&gt;&lt;span class=\"bed\" title=\"2 ห้องนอน\"&gt;2 &lt;i class=\"pg-icon pgicon-bedroom\"&gt;&lt;/i&gt;&lt;/span&gt; &lt;span class=\"bath\" title=\"1 ห้องน้ำ\"&gt;1 &lt;i class=\"pg-icon pgicon-bathroom\"&gt;&lt;/i&gt;&lt;/span&gt;&lt;/li&gt;</td>\n",
       "      <td>[]</td>\n",
       "    </tr>\n",
       "    <tr>\n",
       "      <th>...</th>\n",
       "      <td>...</td>\n",
       "      <td>...</td>\n",
       "      <td>...</td>\n",
       "      <td>...</td>\n",
       "      <td>...</td>\n",
       "      <td>...</td>\n",
       "      <td>...</td>\n",
       "      <td>...</td>\n",
       "    </tr>\n",
       "    <tr>\n",
       "      <th>2996</th>\n",
       "      <td>Condolette Midst Rama 9, กรุงเทพ72 ถนนพระราม 9 แขวงห้วยขวาง เขตห้วยขวาง กรุงเทพมหานคร, ห้วยขวาง, ห้วยขวาง, กรุงเทพ</td>\n",
       "      <td>ลงประกาศโดย Bangkok Agency Management Co.,Ltd.</td>\n",
       "      <td>&lt;span&gt;ปีที่สร้างเสร็จ: 2015&lt;/span&gt;</td>\n",
       "      <td>NaN</td>\n",
       "      <td>4,799,999</td>\n",
       "      <td>35 ตร.ม.</td>\n",
       "      <td>&lt;li class=\"listing-rooms pull-left\"&gt;&lt;span class=\"bed\" title=\"1 ห้องนอน\"&gt;1 &lt;i class=\"pg-icon pgicon-bedroom\"&gt;&lt;/i&gt;&lt;/span&gt; &lt;span class=\"bath\" title=\"1 ห้องน้ำ\"&gt;1 &lt;i class=\"pg-icon pgicon-bathroom\"&gt;&lt;/i&gt;&lt;/span&gt;&lt;/li&gt;</td>\n",
       "      <td>[[&lt;li itemscope=\"\" itemtype=\"https://schema.org/Photograph\" style=\"left: 0%;\"&gt;&lt;img alt=\"ขาย - Condolette Midst Rama 9, กรุงเทพ\" class=\"lazy\" content=\"https://th2-cdn.pgimgs.com/listing/10709523/UPHO.114210025.R400X300/Condolette-Midst-Rama-9-%E0%B8%AB%E0%B9%89%E0%B8%A7%E0%B8%A2%E0%B8%82%E0%B8%A7%E0%B8%B2%E0%B8%87-Thailand.jpg\" data-original=\"https://th2-cdn.pgimgs.com/listing/10709523/UPHO.114210025.R400X300/Condolette-Midst-Rama-9-%E0%B8%AB%E0%B9%89%E0%B8%A7%E0%B8%A2%E0%B8%82%E0%B8%A7%E0%B8%B2%E0%B8%87-Thailand.jpg\" itemprop=\"thumbnailUrl\" onerror=\"this.src='https://cdn2.pgimgs.com/1680685035/sf2-search/bundles/guruweblayout/img/desktop/missing/nophoto_property_400x300.png';\" src=\"data:image/gif;base64,R0lGODlhAQABAIAAAAAAAP///yH5BAEAAAAALAAAAAABAAEAAAIBRAA7\"/&gt;&lt;/li&gt;, &lt;li class=\"list-price pull-left\"&gt;&lt;span class=\"currency\"&gt;฿&lt;/span&gt;&lt;span class=\"price\"&gt;4,799,999&lt;/span&gt;&lt;span class=\"period\"&gt;&lt;/span&gt; &lt;/li&gt;, &lt;li class=\"listing-rooms pull-left\"&gt;&lt;span class=\"bed\" title=\"1 ห้องนอน\"&gt;1 &lt;i class=\"pg-icon pgicon-bedroom\"&gt;&lt;/i&gt;&lt;/span&gt; &lt;span class=\"bath\" title=\"1 ห้องน้ำ\"&gt;1 &lt;i class=\"pg-icon pgicon-bathroom\"&gt;&lt;/i&gt;&lt;/span&gt;&lt;/li&gt;, &lt;li&gt;\\n&lt;i class=\"pgicon pgicon-walk\"&gt;&lt;/i&gt; 4 นาที (270 ม.) ถึง BL20 MRT พระราม 9\\n                        &lt;/li&gt;, &lt;li class=\"\"&gt;&lt;span&gt;คอนโด&lt;/span&gt;&lt;/li&gt;]]</td>\n",
       "    </tr>\n",
       "    <tr>\n",
       "      <th>2997</th>\n",
       "      <td>Asher รัชดา, กรุงเทพ7 ซอย 20 มิถุนา แขวงสามเสนนอก เขตห้วยขวาง กทม., สามเสนนอก, ห้วยขวาง, กรุงเทพ</td>\n",
       "      <td>ลงประกาศโดย Area66 Real Estate Co., Ltd</td>\n",
       "      <td>&lt;span&gt;ปีที่สร้างเสร็จ: 2019&lt;/span&gt;</td>\n",
       "      <td>NaN</td>\n",
       "      <td>1,860,000</td>\n",
       "      <td>27 ตร.ม.</td>\n",
       "      <td>&lt;li class=\"listing-rooms pull-left\"&gt;&lt;span class=\"bed\" title=\"1 ห้องนอน\"&gt;1 &lt;i class=\"pg-icon pgicon-bedroom\"&gt;&lt;/i&gt;&lt;/span&gt; &lt;span class=\"bath\" title=\"1 ห้องน้ำ\"&gt;1 &lt;i class=\"pg-icon pgicon-bathroom\"&gt;&lt;/i&gt;&lt;/span&gt;&lt;/li&gt;</td>\n",
       "      <td>[]</td>\n",
       "    </tr>\n",
       "    <tr>\n",
       "      <th>2998</th>\n",
       "      <td>Asher รัชดา, กรุงเทพ7 ซอย 20 มิถุนา แขวงสามเสนนอก เขตห้วยขวาง กทม., สามเสนนอก, ห้วยขวาง, กรุงเทพ</td>\n",
       "      <td>ลงประกาศโดย Area66 Real Estate Co., Ltd</td>\n",
       "      <td>&lt;span&gt;ปีที่สร้างเสร็จ: 2019&lt;/span&gt;</td>\n",
       "      <td>NaN</td>\n",
       "      <td>2,000,000</td>\n",
       "      <td>27 ตร.ม.</td>\n",
       "      <td>&lt;li class=\"listing-rooms pull-left\"&gt;&lt;span class=\"bed\" title=\"1 ห้องนอน\"&gt;1 &lt;i class=\"pg-icon pgicon-bedroom\"&gt;&lt;/i&gt;&lt;/span&gt; &lt;span class=\"bath\" title=\"1 ห้องน้ำ\"&gt;1 &lt;i class=\"pg-icon pgicon-bathroom\"&gt;&lt;/i&gt;&lt;/span&gt;&lt;/li&gt;</td>\n",
       "      <td>[]</td>\n",
       "    </tr>\n",
       "    <tr>\n",
       "      <th>2999</th>\n",
       "      <td>Asher รัชดา, กรุงเทพ7 ซอย 20 มิถุนา แขวงสามเสนนอก เขตห้วยขวาง กทม., สามเสนนอก, ห้วยขวาง, กรุงเทพ</td>\n",
       "      <td>ลงประกาศโดย Area66 Real Estate Co., Ltd</td>\n",
       "      <td>&lt;span&gt;ปีที่สร้างเสร็จ: 2019&lt;/span&gt;</td>\n",
       "      <td>NaN</td>\n",
       "      <td>2,100,000</td>\n",
       "      <td>27 ตร.ม.</td>\n",
       "      <td>&lt;li class=\"listing-rooms pull-left\"&gt;&lt;span class=\"bed\" title=\"1 ห้องนอน\"&gt;1 &lt;i class=\"pg-icon pgicon-bedroom\"&gt;&lt;/i&gt;&lt;/span&gt; &lt;span class=\"bath\" title=\"1 ห้องน้ำ\"&gt;1 &lt;i class=\"pg-icon pgicon-bathroom\"&gt;&lt;/i&gt;&lt;/span&gt;&lt;/li&gt;</td>\n",
       "      <td>[]</td>\n",
       "    </tr>\n",
       "    <tr>\n",
       "      <th>3000</th>\n",
       "      <td>The Excel Ratchada 18 : ดิ เอ็กเซล รัชดา 18, กรุงเทพซอย 20 มิถุนา แยก 21, ห้วยขวาง, ห้วยขวาง, กรุงเทพ</td>\n",
       "      <td>ลงประกาศโดย Thatsanan Rattanaphan</td>\n",
       "      <td>&lt;span&gt;ปีที่สร้างเสร็จ: 2020&lt;/span&gt;</td>\n",
       "      <td>NaN</td>\n",
       "      <td>3,544,444</td>\n",
       "      <td>25 ตร.ม.</td>\n",
       "      <td>&lt;li class=\"listing-rooms pull-left\"&gt;&lt;span class=\"bed\" title=\"1 ห้องนอน\"&gt;1 &lt;i class=\"pg-icon pgicon-bedroom\"&gt;&lt;/i&gt;&lt;/span&gt; &lt;span class=\"bath\" title=\"1 ห้องน้ำ\"&gt;1 &lt;i class=\"pg-icon pgicon-bathroom\"&gt;&lt;/i&gt;&lt;/span&gt;&lt;/li&gt;</td>\n",
       "      <td>[]</td>\n",
       "    </tr>\n",
       "  </tbody>\n",
       "</table>\n",
       "<p>3001 rows × 8 columns</p>\n",
       "</div>"
      ],
      "text/plain": [
       "                                                                                                                                           name  \\\n",
       "0     Happy Condo Ratchada 18, กรุงเทพ- ​ซอยรัชดา 18 ถนนประชาราษฎร์บำเพ็ญ แขวงสามเสนนอก เขตห้วยขวาง กรุงเทพมหานคร, สามเสนนอก, ห้วยขวาง, กรุงเทพ   \n",
       "1     Aspire Rama 9 : แอสปาย พระราม 9, กรุงเทพซอยพระราม 9 แยก 2 ถนนพระราม 9 แขวงห้วยขวาง เขตห้วยขวาง กรุงเทพมหานคร, ห้วยขวาง, ห้วยขวาง, กรุงเทพ   \n",
       "2                                               Belle Grand Rama 9 : เบลล์ แกรนด์ พระราม 9, กรุงเทพ131 ถนนพระราม 9, ห้วยขวาง, ห้วยขวาง, กรุงเทพ   \n",
       "3         Royal Nine Residence Condominium ถนนพระราม 9 แขวงบางกะปิ เขตห้วยขวาง กรุงเทพมหานคร 10310, กรุงเทพพระราม 9, บางกะปิ, ห้วยขวาง, กรุงเทพ   \n",
       "4                                                              ศุภาลัย ปาร์ค เอกมัย-ทองหล่อ, กรุงเทพเพชรบุรีตัดใหม่, บางกะปิ, ห้วยขวาง, กรุงเทพ   \n",
       "...                                                                                                                                         ...   \n",
       "2996                         Condolette Midst Rama 9, กรุงเทพ72 ถนนพระราม 9 แขวงห้วยขวาง เขตห้วยขวาง กรุงเทพมหานคร, ห้วยขวาง, ห้วยขวาง, กรุงเทพ   \n",
       "2997                                           Asher รัชดา, กรุงเทพ7 ซอย 20 มิถุนา แขวงสามเสนนอก เขตห้วยขวาง กทม., สามเสนนอก, ห้วยขวาง, กรุงเทพ   \n",
       "2998                                           Asher รัชดา, กรุงเทพ7 ซอย 20 มิถุนา แขวงสามเสนนอก เขตห้วยขวาง กทม., สามเสนนอก, ห้วยขวาง, กรุงเทพ   \n",
       "2999                                           Asher รัชดา, กรุงเทพ7 ซอย 20 มิถุนา แขวงสามเสนนอก เขตห้วยขวาง กทม., สามเสนนอก, ห้วยขวาง, กรุงเทพ   \n",
       "3000                                      The Excel Ratchada 18 : ดิ เอ็กเซล รัชดา 18, กรุงเทพซอย 20 มิถุนา แยก 21, ห้วยขวาง, ห้วยขวาง, กรุงเทพ   \n",
       "\n",
       "                                             post-by  \\\n",
       "0                       ลงประกาศโดย คนึง นพพรพิทักษ์   \n",
       "1                       ลงประกาศโดย Jeerapon Pakutsa   \n",
       "2                       ลงประกาศโดย Jeerapon Pakutsa   \n",
       "3                    ลงประกาศโดย วีรเมศวร์ ไพศาลพงษ์   \n",
       "4         ลงประกาศโดย Duangporn Leelalumlert (Tracy)   \n",
       "...                                              ...   \n",
       "2996  ลงประกาศโดย Bangkok Agency Management Co.,Ltd.   \n",
       "2997         ลงประกาศโดย Area66 Real Estate Co., Ltd   \n",
       "2998         ลงประกาศโดย Area66 Real Estate Co., Ltd   \n",
       "2999         ลงประกาศโดย Area66 Real Estate Co., Ltd   \n",
       "3000               ลงประกาศโดย Thatsanan Rattanaphan   \n",
       "\n",
       "                          constructed-yr  new      price      space  \\\n",
       "0     <span>ปีที่สร้างเสร็จ: 2015</span>  NaN  1,450,000   29 ตร.ม.   \n",
       "1     <span>ปีที่สร้างเสร็จ: 2013</span>  NaN  5,550,000   66 ตร.ม.   \n",
       "2     <span>ปีที่สร้างเสร็จ: 2015</span>  NaN  9,700,000   95 ตร.ม.   \n",
       "3                                    NaN  NaN  4,690,000  110 ตร.ม.   \n",
       "4                                    NaN  NaN  6,200,000   71 ตร.ม.   \n",
       "...                                  ...  ...        ...        ...   \n",
       "2996  <span>ปีที่สร้างเสร็จ: 2015</span>  NaN  4,799,999   35 ตร.ม.   \n",
       "2997  <span>ปีที่สร้างเสร็จ: 2019</span>  NaN  1,860,000   27 ตร.ม.   \n",
       "2998  <span>ปีที่สร้างเสร็จ: 2019</span>  NaN  2,000,000   27 ตร.ม.   \n",
       "2999  <span>ปีที่สร้างเสร็จ: 2019</span>  NaN  2,100,000   27 ตร.ม.   \n",
       "3000  <span>ปีที่สร้างเสร็จ: 2020</span>  NaN  3,544,444   25 ตร.ม.   \n",
       "\n",
       "                                                                                                                                                                                                                    room  \\\n",
       "0     <li class=\"listing-rooms pull-left\"><span class=\"bed\" title=\"1 ห้องนอน\">1 <i class=\"pg-icon pgicon-bedroom\"></i></span> <span class=\"bath\" title=\"1 ห้องน้ำ\">1 <i class=\"pg-icon pgicon-bathroom\"></i></span></li>   \n",
       "1     <li class=\"listing-rooms pull-left\"><span class=\"bed\" title=\"2 ห้องนอน\">2 <i class=\"pg-icon pgicon-bedroom\"></i></span> <span class=\"bath\" title=\"2 ห้องน้ำ\">2 <i class=\"pg-icon pgicon-bathroom\"></i></span></li>   \n",
       "2     <li class=\"listing-rooms pull-left\"><span class=\"bed\" title=\"2 ห้องนอน\">2 <i class=\"pg-icon pgicon-bedroom\"></i></span> <span class=\"bath\" title=\"2 ห้องน้ำ\">2 <i class=\"pg-icon pgicon-bathroom\"></i></span></li>   \n",
       "3     <li class=\"listing-rooms pull-left\"><span class=\"bed\" title=\"3 ห้องนอน\">3 <i class=\"pg-icon pgicon-bedroom\"></i></span> <span class=\"bath\" title=\"2 ห้องน้ำ\">2 <i class=\"pg-icon pgicon-bathroom\"></i></span></li>   \n",
       "4     <li class=\"listing-rooms pull-left\"><span class=\"bed\" title=\"2 ห้องนอน\">2 <i class=\"pg-icon pgicon-bedroom\"></i></span> <span class=\"bath\" title=\"1 ห้องน้ำ\">1 <i class=\"pg-icon pgicon-bathroom\"></i></span></li>   \n",
       "...                                                                                                                                                                                                                  ...   \n",
       "2996  <li class=\"listing-rooms pull-left\"><span class=\"bed\" title=\"1 ห้องนอน\">1 <i class=\"pg-icon pgicon-bedroom\"></i></span> <span class=\"bath\" title=\"1 ห้องน้ำ\">1 <i class=\"pg-icon pgicon-bathroom\"></i></span></li>   \n",
       "2997  <li class=\"listing-rooms pull-left\"><span class=\"bed\" title=\"1 ห้องนอน\">1 <i class=\"pg-icon pgicon-bedroom\"></i></span> <span class=\"bath\" title=\"1 ห้องน้ำ\">1 <i class=\"pg-icon pgicon-bathroom\"></i></span></li>   \n",
       "2998  <li class=\"listing-rooms pull-left\"><span class=\"bed\" title=\"1 ห้องนอน\">1 <i class=\"pg-icon pgicon-bedroom\"></i></span> <span class=\"bath\" title=\"1 ห้องน้ำ\">1 <i class=\"pg-icon pgicon-bathroom\"></i></span></li>   \n",
       "2999  <li class=\"listing-rooms pull-left\"><span class=\"bed\" title=\"1 ห้องนอน\">1 <i class=\"pg-icon pgicon-bedroom\"></i></span> <span class=\"bath\" title=\"1 ห้องน้ำ\">1 <i class=\"pg-icon pgicon-bathroom\"></i></span></li>   \n",
       "3000  <li class=\"listing-rooms pull-left\"><span class=\"bed\" title=\"1 ห้องนอน\">1 <i class=\"pg-icon pgicon-bedroom\"></i></span> <span class=\"bath\" title=\"1 ห้องน้ำ\">1 <i class=\"pg-icon pgicon-bathroom\"></i></span></li>   \n",
       "\n",
       "                                                                                                                                                                                                                                                                                                                                                                                                                                                                                                                                                                                                                                                                                                                                                                                                                                                                                                                                                                                                                                                                                                                                                                                                                                                                                                                    range-from-bts  \n",
       "0                                                                                                                                                                                                                                                                                                                                                                                                                                                                                                                                                                                                                                                                                                                                                                                                                                                                                                                                                                                                                                                                                                                                                                                                                                                                                                                               []  \n",
       "1                                                                                                                                                                                                   [[<li itemscope=\"\" itemtype=\"https://schema.org/Photograph\" style=\"left: 0%;\"><img alt=\"ขาย - Aspire Rama 9 : แอสปาย พระราม 9, กรุงเทพ\" itemprop=\"thumbnailUrl\" onerror=\"this.src='https://cdn2.pgimgs.com/1680685035/sf2-search/bundles/guruweblayout/img/desktop/missing/nophoto_property_400x300.png';\" src=\"https://th2-cdn.pgimgs.com/listing/10643327/UPHO.113463965.V800/Aspire-Rama-9-%E0%B9%81%E0%B8%AD%E0%B8%AA%E0%B8%9B%E0%B8%B2%E0%B8%A2-%E0%B8%9E%E0%B8%A3%E0%B8%B0%E0%B8%A3%E0%B8%B2%E0%B8%A1-9-%E0%B8%AB%E0%B9%89%E0%B8%A7%E0%B8%A2%E0%B8%82%E0%B8%A7%E0%B8%B2%E0%B8%87-Thailand.jpg\"/></li>, <li class=\"list-price pull-left\"><span class=\"currency\">฿</span><span class=\"price\">5,550,000</span><span class=\"period\"></span> </li>, <li class=\"listing-rooms pull-left\"><span class=\"bed\" title=\"2 ห้องนอน\">2 <i class=\"pg-icon pgicon-bedroom\"></i></span> <span class=\"bath\" title=\"2 ห้องน้ำ\">2 <i class=\"pg-icon pgicon-bathroom\"></i></span></li>, <li>\\n<i class=\"pgicon pgicon-walk\"></i> 5 นาที (390 ม.) ถึง BL20 MRT พระราม 9\\n                        </li>, <li class=\"\"><span>คอนโด</span></li>]]  \n",
       "2                                                                                                                                     [[<li itemscope=\"\" itemtype=\"https://schema.org/Photograph\" style=\"left: 0%;\"><img alt=\"ขาย - Belle Grand Rama 9 : เบลล์ แกรนด์ พระราม 9, กรุงเทพ\" itemprop=\"thumbnailUrl\" onerror=\"this.src='https://cdn2.pgimgs.com/1680685035/sf2-search/bundles/guruweblayout/img/desktop/missing/nophoto_property_400x300.png';\" src=\"https://th2-cdn.pgimgs.com/listing/10643853/UPHO.113470539.V800/Belle-Grand-Rama-9-%E0%B9%80%E0%B8%9A%E0%B8%A5%E0%B8%A5%E0%B9%8C-%E0%B9%81%E0%B8%81%E0%B8%A3%E0%B8%99%E0%B8%94%E0%B9%8C-%E0%B8%9E%E0%B8%A3%E0%B8%B0%E0%B8%A3%E0%B8%B2%E0%B8%A1-9-%E0%B8%AB%E0%B9%89%E0%B8%A7%E0%B8%A2%E0%B8%82%E0%B8%A7%E0%B8%B2%E0%B8%87-Thailand.jpg\"/></li>, <li class=\"list-price pull-left\"><span class=\"currency\">฿</span><span class=\"price\">9,700,000</span><span class=\"period\"></span> </li>, <li class=\"listing-rooms pull-left\"><span class=\"bed\" title=\"2 ห้องนอน\">2 <i class=\"pg-icon pgicon-bedroom\"></i></span> <span class=\"bath\" title=\"2 ห้องน้ำ\">2 <i class=\"pg-icon pgicon-bathroom\"></i></span></li>, <li>\\n<i class=\"pgicon pgicon-walk\"></i> 7 นาที (540 ม.) ถึง BL20 MRT พระราม 9\\n                        </li>, <li class=\"\"><span>คอนโด</span></li>]]  \n",
       "3                                                                                                                                                                                                                                                                                                                                                                                                                                                                                                                                                                                                                                                                                                                                                                                                                                                                                                                                                                                                                                                                                                                                                                                                                                                                                                                               []  \n",
       "4                                                                                                                                                                                                                                                                                                                                                                                                                                                                                                                                                                                                                                                                                                                                                                                                                                                                                                                                                                                                                                                                                                                                                                                                                                                                                                                               []  \n",
       "...                                                                                                                                                                                                                                                                                                                                                                                                                                                                                                                                                                                                                                                                                                                                                                                                                                                                                                                                                                                                                                                                                                                                                                                                                                                                                                                            ...  \n",
       "2996  [[<li itemscope=\"\" itemtype=\"https://schema.org/Photograph\" style=\"left: 0%;\"><img alt=\"ขาย - Condolette Midst Rama 9, กรุงเทพ\" class=\"lazy\" content=\"https://th2-cdn.pgimgs.com/listing/10709523/UPHO.114210025.R400X300/Condolette-Midst-Rama-9-%E0%B8%AB%E0%B9%89%E0%B8%A7%E0%B8%A2%E0%B8%82%E0%B8%A7%E0%B8%B2%E0%B8%87-Thailand.jpg\" data-original=\"https://th2-cdn.pgimgs.com/listing/10709523/UPHO.114210025.R400X300/Condolette-Midst-Rama-9-%E0%B8%AB%E0%B9%89%E0%B8%A7%E0%B8%A2%E0%B8%82%E0%B8%A7%E0%B8%B2%E0%B8%87-Thailand.jpg\" itemprop=\"thumbnailUrl\" onerror=\"this.src='https://cdn2.pgimgs.com/1680685035/sf2-search/bundles/guruweblayout/img/desktop/missing/nophoto_property_400x300.png';\" src=\"data:image/gif;base64,R0lGODlhAQABAIAAAAAAAP///yH5BAEAAAAALAAAAAABAAEAAAIBRAA7\"/></li>, <li class=\"list-price pull-left\"><span class=\"currency\">฿</span><span class=\"price\">4,799,999</span><span class=\"period\"></span> </li>, <li class=\"listing-rooms pull-left\"><span class=\"bed\" title=\"1 ห้องนอน\">1 <i class=\"pg-icon pgicon-bedroom\"></i></span> <span class=\"bath\" title=\"1 ห้องน้ำ\">1 <i class=\"pg-icon pgicon-bathroom\"></i></span></li>, <li>\\n<i class=\"pgicon pgicon-walk\"></i> 4 นาที (270 ม.) ถึง BL20 MRT พระราม 9\\n                        </li>, <li class=\"\"><span>คอนโด</span></li>]]  \n",
       "2997                                                                                                                                                                                                                                                                                                                                                                                                                                                                                                                                                                                                                                                                                                                                                                                                                                                                                                                                                                                                                                                                                                                                                                                                                                                                                                                            []  \n",
       "2998                                                                                                                                                                                                                                                                                                                                                                                                                                                                                                                                                                                                                                                                                                                                                                                                                                                                                                                                                                                                                                                                                                                                                                                                                                                                                                                            []  \n",
       "2999                                                                                                                                                                                                                                                                                                                                                                                                                                                                                                                                                                                                                                                                                                                                                                                                                                                                                                                                                                                                                                                                                                                                                                                                                                                                                                                            []  \n",
       "3000                                                                                                                                                                                                                                                                                                                                                                                                                                                                                                                                                                                                                                                                                                                                                                                                                                                                                                                                                                                                                                                                                                                                                                                                                                                                                                                            []  \n",
       "\n",
       "[3001 rows x 8 columns]"
      ]
     },
     "execution_count": 5,
     "metadata": {},
     "output_type": "execute_result"
    }
   ],
   "source": [
    "df.columns = ['name','post-by','constructed-yr','new','price','space','room','range-from-bts']\n",
    "pd.set_option('max_colwidth', None)\n",
    "df"
   ]
  },
  {
   "cell_type": "code",
   "execution_count": 6,
   "metadata": {},
   "outputs": [
    {
     "name": "stdout",
     "output_type": "stream",
     "text": [
      "<class 'pandas.core.frame.DataFrame'>\n",
      "RangeIndex: 3001 entries, 0 to 3000\n",
      "Data columns (total 8 columns):\n",
      " #   Column          Non-Null Count  Dtype \n",
      "---  ------          --------------  ----- \n",
      " 0   name            3001 non-null   object\n",
      " 1   post-by         3001 non-null   object\n",
      " 2   constructed-yr  2701 non-null   object\n",
      " 3   new             66 non-null     object\n",
      " 4   price           2999 non-null   object\n",
      " 5   space           3001 non-null   object\n",
      " 6   room            2990 non-null   object\n",
      " 7   range-from-bts  3001 non-null   object\n",
      "dtypes: object(8)\n",
      "memory usage: 187.7+ KB\n"
     ]
    }
   ],
   "source": [
    "df.info()"
   ]
  },
  {
   "cell_type": "code",
   "execution_count": 7,
   "metadata": {},
   "outputs": [
    {
     "name": "stderr",
     "output_type": "stream",
     "text": [
      "C:\\Users\\Bellyst\\AppData\\Local\\Temp\\ipykernel_21280\\193707567.py:47: UserWarning: Boolean Series key will be reindexed to match DataFrame index.\n",
      "  df.drop(index=(df[not_null_rows]).index,inplace=True)\n"
     ]
    },
    {
     "data": {
      "text/plain": [
       "Index([          'name',        'post-by', 'constructed-yr',            'new',\n",
       "                'price',          'space',           'room', 'range-from-bts',\n",
       "              'bedroom',       'bathroom',         'studio',                0,\n",
       "                      1,                2,                3,                4],\n",
       "      dtype='object')"
      ]
     },
     "execution_count": 7,
     "metadata": {},
     "output_type": "execute_result"
    }
   ],
   "source": [
    "# Extract Number\n",
    "df['post-by'] = df['post-by'].str.replace(\"ลงประกาศโดย\",\"\").str.strip()\n",
    "df['constructed-yr'] = df['constructed-yr'].str.extract(r\"(\\d+)\")\n",
    "df['new'] = df['new'].str.extract(r\"(\\d+)\")\n",
    "df['price'] = pd.to_numeric(df['price'].str.replace(\",\",\"\"))\n",
    "df['space'] = df['space'].str.extract(r'(\\d+)')\n",
    "df['space'] = pd.to_numeric(df['space'])\n",
    "\n",
    "\n",
    "# Replace same objective column \n",
    "# Column constructed-yr and new have similar value, column new have data only 2023 yr\n",
    "df['constructed-yr'] = df['constructed-yr'].fillna(df['new'])\n",
    "\n",
    "# Categorize room column\n",
    "    # Extract wanted part\n",
    "df['room'] = df['room'].str.findall(r'title=\"(.+?)\">')\n",
    "    # Categorize function\n",
    "def split_data(row):\n",
    "    if isinstance(row, list):\n",
    "        if len(row) == 2:\n",
    "            return row[0].split()[0], row[1].split()[0], None\n",
    "        else:\n",
    "            if 'สตูดิโอ' in row[0]:\n",
    "                return None, None, row[0].split()[0]\n",
    "            else:\n",
    "                return row[0].split()[0], None, None\n",
    "    else:\n",
    "        return None, None, None\n",
    "\n",
    "    # Apply function\n",
    "df[['bedroom', 'bathroom', 'studio']] = df['room'].apply(lambda x: pd.Series(split_data(x)))\n",
    "df['studio'] = df['studio'].str.replace('สตูดิโอ','1').astype('Int64')\n",
    "# Replace Empty data that not considered as NaN\n",
    "df['range-from-bts'] = df['range-from-bts'].replace('[]',np.nan)\n",
    "df['range-from-bts'] = df['range-from-bts'].str.extract(r'\\d+ นาที \\((\\d+) ม\\.\\) ถึง .+')\n",
    "\n",
    "# Convert type to int\n",
    "for i in ['bedroom', 'bathroom', 'range-from-bts', 'constructed-yr']:\n",
    "    df[i] = df[i].astype('Int64')\n",
    "\n",
    "# Split Condo name\n",
    "df[[0,1,2,3,4,5]] = df.name.str.split(',',expand=True)\n",
    "for i in range(0,6):\n",
    "    df[i] = df[i].str.strip()\n",
    "not_null_rows = df[[5]].notnull().any(axis=1)\n",
    "df.dropna(subset=[0,1,2,3,4],inplace=True)\n",
    "df.drop(index=(df[not_null_rows]).index,inplace=True)\n",
    "df.drop([5],axis=1,inplace=True)\n",
    "df.columns"
   ]
  },
  {
   "cell_type": "code",
   "execution_count": 8,
   "metadata": {},
   "outputs": [
    {
     "data": {
      "text/html": [
       "<div>\n",
       "<style scoped>\n",
       "    .dataframe tbody tr th:only-of-type {\n",
       "        vertical-align: middle;\n",
       "    }\n",
       "\n",
       "    .dataframe tbody tr th {\n",
       "        vertical-align: top;\n",
       "    }\n",
       "\n",
       "    .dataframe thead th {\n",
       "        text-align: right;\n",
       "    }\n",
       "</style>\n",
       "<table border=\"1\" class=\"dataframe\">\n",
       "  <thead>\n",
       "    <tr style=\"text-align: right;\">\n",
       "      <th></th>\n",
       "      <th>0</th>\n",
       "      <th>1</th>\n",
       "      <th>2</th>\n",
       "      <th>3</th>\n",
       "      <th>4</th>\n",
       "      <th>price</th>\n",
       "      <th>space</th>\n",
       "      <th>bedroom</th>\n",
       "      <th>bathroom</th>\n",
       "      <th>studio</th>\n",
       "      <th>constructed-yr</th>\n",
       "      <th>range-from-bts</th>\n",
       "      <th>post-by</th>\n",
       "    </tr>\n",
       "  </thead>\n",
       "  <tbody>\n",
       "    <tr>\n",
       "      <th>0</th>\n",
       "      <td>Happy Condo Ratchada 18</td>\n",
       "      <td>กรุงเทพ- ​ซอยรัชดา 18 ถนนประชาราษฎร์บำเพ็ญ แขวงสามเสนนอก เขตห้วยขวาง กรุงเทพมหานคร</td>\n",
       "      <td>สามเสนนอก</td>\n",
       "      <td>ห้วยขวาง</td>\n",
       "      <td>กรุงเทพ</td>\n",
       "      <td>1450000.0</td>\n",
       "      <td>29</td>\n",
       "      <td>1</td>\n",
       "      <td>1</td>\n",
       "      <td>&lt;NA&gt;</td>\n",
       "      <td>2015</td>\n",
       "      <td>&lt;NA&gt;</td>\n",
       "      <td>คนึง นพพรพิทักษ์</td>\n",
       "    </tr>\n",
       "    <tr>\n",
       "      <th>1</th>\n",
       "      <td>Aspire Rama 9 : แอสปาย พระราม 9</td>\n",
       "      <td>กรุงเทพซอยพระราม 9 แยก 2 ถนนพระราม 9 แขวงห้วยขวาง เขตห้วยขวาง กรุงเทพมหานคร</td>\n",
       "      <td>ห้วยขวาง</td>\n",
       "      <td>ห้วยขวาง</td>\n",
       "      <td>กรุงเทพ</td>\n",
       "      <td>5550000.0</td>\n",
       "      <td>66</td>\n",
       "      <td>2</td>\n",
       "      <td>2</td>\n",
       "      <td>&lt;NA&gt;</td>\n",
       "      <td>2013</td>\n",
       "      <td>390</td>\n",
       "      <td>Jeerapon Pakutsa</td>\n",
       "    </tr>\n",
       "    <tr>\n",
       "      <th>2</th>\n",
       "      <td>Belle Grand Rama 9 : เบลล์ แกรนด์ พระราม 9</td>\n",
       "      <td>กรุงเทพ131 ถนนพระราม 9</td>\n",
       "      <td>ห้วยขวาง</td>\n",
       "      <td>ห้วยขวาง</td>\n",
       "      <td>กรุงเทพ</td>\n",
       "      <td>9700000.0</td>\n",
       "      <td>95</td>\n",
       "      <td>2</td>\n",
       "      <td>2</td>\n",
       "      <td>&lt;NA&gt;</td>\n",
       "      <td>2015</td>\n",
       "      <td>540</td>\n",
       "      <td>Jeerapon Pakutsa</td>\n",
       "    </tr>\n",
       "    <tr>\n",
       "      <th>3</th>\n",
       "      <td>Royal Nine Residence Condominium ถนนพระราม 9 แขวงบางกะปิ เขตห้วยขวาง กรุงเทพมหานคร 10310</td>\n",
       "      <td>กรุงเทพพระราม 9</td>\n",
       "      <td>บางกะปิ</td>\n",
       "      <td>ห้วยขวาง</td>\n",
       "      <td>กรุงเทพ</td>\n",
       "      <td>4690000.0</td>\n",
       "      <td>110</td>\n",
       "      <td>3</td>\n",
       "      <td>2</td>\n",
       "      <td>&lt;NA&gt;</td>\n",
       "      <td>&lt;NA&gt;</td>\n",
       "      <td>&lt;NA&gt;</td>\n",
       "      <td>วีรเมศวร์ ไพศาลพงษ์</td>\n",
       "    </tr>\n",
       "    <tr>\n",
       "      <th>4</th>\n",
       "      <td>ศุภาลัย ปาร์ค เอกมัย-ทองหล่อ</td>\n",
       "      <td>กรุงเทพเพชรบุรีตัดใหม่</td>\n",
       "      <td>บางกะปิ</td>\n",
       "      <td>ห้วยขวาง</td>\n",
       "      <td>กรุงเทพ</td>\n",
       "      <td>6200000.0</td>\n",
       "      <td>71</td>\n",
       "      <td>2</td>\n",
       "      <td>1</td>\n",
       "      <td>&lt;NA&gt;</td>\n",
       "      <td>&lt;NA&gt;</td>\n",
       "      <td>&lt;NA&gt;</td>\n",
       "      <td>Duangporn Leelalumlert (Tracy)</td>\n",
       "    </tr>\n",
       "  </tbody>\n",
       "</table>\n",
       "</div>"
      ],
      "text/plain": [
       "                                                                                          0  \\\n",
       "0                                                                   Happy Condo Ratchada 18   \n",
       "1                                                           Aspire Rama 9 : แอสปาย พระราม 9   \n",
       "2                                                Belle Grand Rama 9 : เบลล์ แกรนด์ พระราม 9   \n",
       "3  Royal Nine Residence Condominium ถนนพระราม 9 แขวงบางกะปิ เขตห้วยขวาง กรุงเทพมหานคร 10310   \n",
       "4                                                              ศุภาลัย ปาร์ค เอกมัย-ทองหล่อ   \n",
       "\n",
       "                                                                                    1  \\\n",
       "0  กรุงเทพ- ​ซอยรัชดา 18 ถนนประชาราษฎร์บำเพ็ญ แขวงสามเสนนอก เขตห้วยขวาง กรุงเทพมหานคร   \n",
       "1         กรุงเทพซอยพระราม 9 แยก 2 ถนนพระราม 9 แขวงห้วยขวาง เขตห้วยขวาง กรุงเทพมหานคร   \n",
       "2                                                              กรุงเทพ131 ถนนพระราม 9   \n",
       "3                                                                     กรุงเทพพระราม 9   \n",
       "4                                                              กรุงเทพเพชรบุรีตัดใหม่   \n",
       "\n",
       "           2         3        4      price  space  bedroom  bathroom  studio  \\\n",
       "0  สามเสนนอก  ห้วยขวาง  กรุงเทพ  1450000.0     29        1         1    <NA>   \n",
       "1   ห้วยขวาง  ห้วยขวาง  กรุงเทพ  5550000.0     66        2         2    <NA>   \n",
       "2   ห้วยขวาง  ห้วยขวาง  กรุงเทพ  9700000.0     95        2         2    <NA>   \n",
       "3    บางกะปิ  ห้วยขวาง  กรุงเทพ  4690000.0    110        3         2    <NA>   \n",
       "4    บางกะปิ  ห้วยขวาง  กรุงเทพ  6200000.0     71        2         1    <NA>   \n",
       "\n",
       "   constructed-yr  range-from-bts                         post-by  \n",
       "0            2015            <NA>                คนึง นพพรพิทักษ์  \n",
       "1            2013             390                Jeerapon Pakutsa  \n",
       "2            2015             540                Jeerapon Pakutsa  \n",
       "3            <NA>            <NA>             วีรเมศวร์ ไพศาลพงษ์  \n",
       "4            <NA>            <NA>  Duangporn Leelalumlert (Tracy)  "
      ]
     },
     "execution_count": 8,
     "metadata": {},
     "output_type": "execute_result"
    }
   ],
   "source": [
    "df = df[[0,1,2,3,4,'price','space','bedroom','bathroom','studio','constructed-yr','range-from-bts','post-by']]\n",
    "df.head()"
   ]
  },
  {
   "cell_type": "code",
   "execution_count": 9,
   "metadata": {},
   "outputs": [
    {
     "data": {
      "text/plain": [
       "<IntegerArray>\n",
       "[<NA>, 1]\n",
       "Length: 2, dtype: Int64"
      ]
     },
     "execution_count": 9,
     "metadata": {},
     "output_type": "execute_result"
    }
   ],
   "source": [
    "df.studio.unique()"
   ]
  },
  {
   "cell_type": "code",
   "execution_count": 10,
   "metadata": {},
   "outputs": [
    {
     "name": "stdout",
     "output_type": "stream",
     "text": [
      "<class 'pandas.core.frame.DataFrame'>\n",
      "Int64Index: 2880 entries, 0 to 3000\n",
      "Data columns (total 13 columns):\n",
      " #   Column          Non-Null Count  Dtype  \n",
      "---  ------          --------------  -----  \n",
      " 0   0               2880 non-null   object \n",
      " 1   1               2880 non-null   object \n",
      " 2   2               2880 non-null   object \n",
      " 3   3               2880 non-null   object \n",
      " 4   4               2880 non-null   object \n",
      " 5   price           2878 non-null   float64\n",
      " 6   space           2880 non-null   int64  \n",
      " 7   bedroom         2676 non-null   Int64  \n",
      " 8   bathroom        2670 non-null   Int64  \n",
      " 9   studio          193 non-null    Int64  \n",
      " 10  constructed-yr  2709 non-null   Int64  \n",
      " 11  range-from-bts  1836 non-null   Int64  \n",
      " 12  post-by         2880 non-null   object \n",
      "dtypes: Int64(5), float64(1), int64(1), object(6)\n",
      "memory usage: 329.1+ KB\n"
     ]
    }
   ],
   "source": [
    "df.info()"
   ]
  },
  {
   "attachments": {},
   "cell_type": "markdown",
   "metadata": {},
   "source": [
    "Correlation"
   ]
  },
  {
   "cell_type": "code",
   "execution_count": 11,
   "metadata": {},
   "outputs": [
    {
     "data": {
      "text/html": [
       "<div>\n",
       "<style scoped>\n",
       "    .dataframe tbody tr th:only-of-type {\n",
       "        vertical-align: middle;\n",
       "    }\n",
       "\n",
       "    .dataframe tbody tr th {\n",
       "        vertical-align: top;\n",
       "    }\n",
       "\n",
       "    .dataframe thead th {\n",
       "        text-align: right;\n",
       "    }\n",
       "</style>\n",
       "<table border=\"1\" class=\"dataframe\">\n",
       "  <thead>\n",
       "    <tr style=\"text-align: right;\">\n",
       "      <th></th>\n",
       "      <th>price</th>\n",
       "      <th>space</th>\n",
       "      <th>bedroom</th>\n",
       "      <th>bathroom</th>\n",
       "      <th>constructed-yr</th>\n",
       "      <th>range-from-bts</th>\n",
       "    </tr>\n",
       "  </thead>\n",
       "  <tbody>\n",
       "    <tr>\n",
       "      <th>price</th>\n",
       "      <td>1.000000</td>\n",
       "      <td>0.806245</td>\n",
       "      <td>0.725622</td>\n",
       "      <td>0.722153</td>\n",
       "      <td>0.139398</td>\n",
       "      <td>-0.054914</td>\n",
       "    </tr>\n",
       "    <tr>\n",
       "      <th>space</th>\n",
       "      <td>0.806245</td>\n",
       "      <td>1.000000</td>\n",
       "      <td>0.873266</td>\n",
       "      <td>0.857710</td>\n",
       "      <td>-0.003986</td>\n",
       "      <td>0.068339</td>\n",
       "    </tr>\n",
       "    <tr>\n",
       "      <th>bedroom</th>\n",
       "      <td>0.725622</td>\n",
       "      <td>0.873266</td>\n",
       "      <td>1.000000</td>\n",
       "      <td>0.850091</td>\n",
       "      <td>0.050810</td>\n",
       "      <td>0.081123</td>\n",
       "    </tr>\n",
       "    <tr>\n",
       "      <th>bathroom</th>\n",
       "      <td>0.722153</td>\n",
       "      <td>0.857710</td>\n",
       "      <td>0.850091</td>\n",
       "      <td>1.000000</td>\n",
       "      <td>0.046519</td>\n",
       "      <td>0.048004</td>\n",
       "    </tr>\n",
       "    <tr>\n",
       "      <th>constructed-yr</th>\n",
       "      <td>0.139398</td>\n",
       "      <td>-0.003986</td>\n",
       "      <td>0.050810</td>\n",
       "      <td>0.046519</td>\n",
       "      <td>1.000000</td>\n",
       "      <td>0.001126</td>\n",
       "    </tr>\n",
       "    <tr>\n",
       "      <th>range-from-bts</th>\n",
       "      <td>-0.054914</td>\n",
       "      <td>0.068339</td>\n",
       "      <td>0.081123</td>\n",
       "      <td>0.048004</td>\n",
       "      <td>0.001126</td>\n",
       "      <td>1.000000</td>\n",
       "    </tr>\n",
       "  </tbody>\n",
       "</table>\n",
       "</div>"
      ],
      "text/plain": [
       "                   price     space   bedroom  bathroom  constructed-yr  \\\n",
       "price           1.000000  0.806245  0.725622  0.722153        0.139398   \n",
       "space           0.806245  1.000000  0.873266  0.857710       -0.003986   \n",
       "bedroom         0.725622  0.873266  1.000000  0.850091        0.050810   \n",
       "bathroom        0.722153  0.857710  0.850091  1.000000        0.046519   \n",
       "constructed-yr  0.139398 -0.003986  0.050810  0.046519        1.000000   \n",
       "range-from-bts -0.054914  0.068339  0.081123  0.048004        0.001126   \n",
       "\n",
       "                range-from-bts  \n",
       "price                -0.054914  \n",
       "space                 0.068339  \n",
       "bedroom               0.081123  \n",
       "bathroom              0.048004  \n",
       "constructed-yr        0.001126  \n",
       "range-from-bts        1.000000  "
      ]
     },
     "execution_count": 11,
     "metadata": {},
     "output_type": "execute_result"
    }
   ],
   "source": [
    "dcorr = df[['price','space','bedroom','bathroom','constructed-yr','range-from-bts']].corr()\n",
    "dcorr"
   ]
  },
  {
   "cell_type": "code",
   "execution_count": 12,
   "metadata": {},
   "outputs": [
    {
     "data": {
      "image/png": "[encoded data removed]",
      "text/plain": [
       "<Figure size 432x288 with 2 Axes>"
      ]
     },
     "metadata": {
      "image/png": {
       "height": 320,
       "width": 366
      },
      "needs_background": "light"
     },
     "output_type": "display_data"
    }
   ],
   "source": [
    "cmap = sns.diverging_palette(h_neg=300, h_pos=200, as_cmap=True)\n",
    "sns.heatmap(dcorr, vmin= -1,vmax= 1,square= True,\n",
    "            center= 0, annot= True,\n",
    "            fmt= '.2f', linewidths= 2,\n",
    "            cmap=cmap);\n",
    "plt.title('Correlation Matrix Heatmap');"
   ]
  },
  {
   "cell_type": "code",
   "execution_count": 13,
   "metadata": {},
   "outputs": [
    {
     "data": {
      "application/vnd.jupyter.widget-view+json": {
       "model_id": "8bdca8e0636548058665b927c4d2ecf1",
       "version_major": 2,
       "version_minor": 0
      },
      "text/plain": [
       "interactive(children=(Dropdown(description='subdistrict', options=('ห้วยขวาง', 'สามเสนนอก', 'บางกะปิ'), value=…"
      ]
     },
     "metadata": {},
     "output_type": "display_data"
    }
   ],
   "source": [
    "sub_district = ['ห้วยขวาง','สามเสนนอก','บางกะปิ']\n",
    "@interact(subdistrict=sub_district)\n",
    "def plot_district(subdistrict):\n",
    "    dcorr = df[[2,'price','space','bedroom','bathroom','constructed-yr','range-from-bts']].copy()\n",
    "    dcorrsub = dcorr[dcorr[2] == subdistrict].drop(2, axis=1).corr()\n",
    "    cmap = sns.diverging_palette(h_neg=300, h_pos=200, as_cmap=True)\n",
    "    sns.heatmap(dcorrsub, vmin=-1, vmax=1, square=True,\n",
    "                center=0, annot=True,\n",
    "                fmt='.2f', linewidths=2,\n",
    "                cmap=cmap)\n",
    "    plt.title(f'Correlation Matrix Heatmap for {subdistrict}')\n",
    "    plt.legend\n",
    "    plt.show()\n"
   ]
  },
  {
   "attachments": {},
   "cell_type": "markdown",
   "metadata": {},
   "source": [
    "AVG Condo price group by sub-district"
   ]
  },
  {
   "cell_type": "code",
   "execution_count": 14,
   "metadata": {},
   "outputs": [
    {
     "data": {
      "text/plain": [
       "array(['สามเสนนอก', 'ห้วยขวาง', 'บางกะปิ'], dtype=object)"
      ]
     },
     "execution_count": 14,
     "metadata": {},
     "output_type": "execute_result"
    }
   ],
   "source": [
    "df[2].unique()"
   ]
  },
  {
   "cell_type": "code",
   "execution_count": 15,
   "metadata": {},
   "outputs": [
    {
     "data": {
      "text/plain": [
       "5930460.925233644"
      ]
     },
     "execution_count": 15,
     "metadata": {},
     "output_type": "execute_result"
    }
   ],
   "source": [
    "d1 = df[df[2]=='ห้วยขวาง']\n",
    "d2 = df[df[2]=='สามเสนนอก']\n",
    "d3 = df[df[2]=='บางกะปิ']\n",
    "d1['price'].mean()"
   ]
  },
  {
   "cell_type": "code",
   "execution_count": 16,
   "metadata": {},
   "outputs": [
    {
     "name": "stderr",
     "output_type": "stream",
     "text": [
      "No artists with labels found to put in legend.  Note that artists whose label start with an underscore are ignored when legend() is called with no argument.\n"
     ]
    },
    {
     "data": {
      "image/png": "[encoded data removed]",
      "text/plain": [
       "<Figure size 432x288 with 1 Axes>"
      ]
     },
     "metadata": {
      "image/png": {
       "height": 277,
       "width": 413
      },
      "needs_background": "light"
     },
     "output_type": "display_data"
    }
   ],
   "source": [
    "plt.rcParams['font.family'] = 'Tahoma'\n",
    "plt.bar(d1[2].unique(),d1['price'].mean())\n",
    "plt.bar(d2[2].unique(),d2['price'].mean())\n",
    "plt.bar(d3[2].unique(),d3['price'].mean())\n",
    "plt.gca().yaxis.set_major_formatter(ticker.FuncFormatter(lambda x, p: format(int(x), ',')))\n",
    "plt.title('Average Condo price group by Sub-district')\n",
    "plt.xlabel('sub-district')\n",
    "plt.ylabel('AVG condo price (Baht)')\n",
    "plt.legend()\n",
    "plt.show()"
   ]
  }
 ],
 "metadata": {
  "kernelspec": {
   "display_name": "Python 3",
   "language": "python",
   "name": "python3"
  },
  "language_info": {
   "codemirror_mode": {
    "name": "ipython",
    "version": 3
   },
   "file_extension": ".py",
   "mimetype": "text/x-python",
   "name": "python",
   "nbconvert_exporter": "python",
   "pygments_lexer": "ipython3",
   "version": "3.9.13"
  },
  "orig_nbformat": 4
 },
 "nbformat": 4,
 "nbformat_minor": 2
}
